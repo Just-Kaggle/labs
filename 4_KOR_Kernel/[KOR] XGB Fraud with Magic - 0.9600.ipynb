{
 "cells": [
  {
   "cell_type": "markdown",
   "metadata": {
    "colab_type": "text",
    "id": "cspjg15_jmkR"
   },
   "source": [
    "# Before reading\n",
    "\n",
    "This kernel is a Korean translation of [the kernel written by Chris Deotte][1].  \n",
    "이 커널은 [Chris Deotte님이 작성한 커널][1]을 한국어로 번역한 것입니다.\n",
    "\n",
    "\n",
    "[1]: https://www.kaggle.com/cdeotte/xgb-fraud-with-magic-0-9600"
   ]
  },
  {
   "cell_type": "markdown",
   "metadata": {
    "colab_type": "text",
    "id": "stYB-kx7Z2re"
   },
   "source": [
    "# XGB Fraud with Magic scores LB 0.96\n",
    "이 모델은 캐글의 \"IEEE-CIS Fraud Detection\" 대회의 1등 솔루션의 부분입니다. 이 모델이 [Konstantin's][1] CatBoost 그리고 LGBM 모델과 앙상블 될 때, public LB 0.9677과 private LB 0.9459의 [결과][2]를 가져올 수 있습니다.  \n",
    "  \n",
    "이 커널에서는, 2가지 XGB 모델을 구축할 것입니다. 첫 번째 모델은 magic features를 사용하지 않고, LB 0.96을 성취했습니다. 두 번째 모델은 magic features를 사용하여 LB 0.96을 성취했습니다. 부록에서 post processing을 통해 어떻게 LB를 더 향상시켰는지에 대해 입증하고 있습니다.  \n",
    "  \n",
    "pandas와 CPU를 사용하여 디스크로부터 백만개의 row 데이터를 읽고 feature를 조정하는 것은 5분정도 소요됩니다. 이것의 대안으로 RAPIDS cuDF와 GPU를 사용한다면, 오직 20초밖에 소요되지 않습니다! CPU 시간은 코드블럭 아래에 표시되었고, GPU가 15배 빠르다는 것이 [여기][3]서 입증되었습니다.\n",
    "  \n",
    "\n",
    "[1]: https://www.kaggle.com/kyakovlev\n",
    "[2]: https://www.kaggle.com/c/ieee-fraud-detection/leaderboard\n",
    "[3]: https://www.kaggle.com/cdeotte/rapids-feature-engineering-fraud-0-96/"
   ]
  },
  {
   "cell_type": "markdown",
   "metadata": {
    "colab_type": "text",
    "id": "yxROnzNZckX7"
   },
   "source": [
    "# How the Magic Works\n",
    "Magic은 2가지 입니다. 첫 번째로 우리는 클라이언트(credit cards)를 인식할 수 있는 UID 변수가 필요합니다. 두 번째로 우리는 집계된 그룹(aggregated group) features를 만들 필요가 있습니다. 그러고 나서 UID를 삭제할 것입니다. 우리가 아래처럼 10가지 트랜잭션 `A, B, C, D, E, F, G, H, I, J`을 가진다고 가정해봅시다. \n",
    "\n",
    "![1](https://user-images.githubusercontent.com/37873745/76934497-935f5080-6932-11ea-8452-abe4c72bab0c.jpg)\n",
    "\n",
    "만약 우리가 FeatureX만 사용한다고 하면, 우리는 70%의 트랜잭션만 올바르게 구분할 수 있을 것입니다. 아래, 노란색 원이 'isFraud=1'이고, 파란색 원이 'isFraud=0' 트랜잭션 입니다.\n",
    "아래 트리모델에서 왼쪽 child와 오른쪽 child를 구분하고 난 후에, 왼쪽 child를 'isFraud=1'로 예측하고 오른쪽 child를 'isFraud=0'로 예측합니다. 그러므로 10개 중 7개의 트랜잭션만 올바르게 예측됩니다.\n",
    "\n",
    "![2](https://user-images.githubusercontent.com/37873745/76934499-95291400-6932-11ea-941c-01b9671beab8.jpg)\n",
    "\n",
    "이제 우리는 그룹을 정의하고 있는 UID를 가지고, 각 그룹에 따른 FeatureX의 평균을 사용하여 집계(aggregated) feature를 만든다고 가정해봅시다. 우리는 이제 100% 완벽하게 트랜잭션을 구분해낼 수 있을 것 입니다. 이 결정트리에서 UID feature는 직접적으로 사용되지 않는 다는 것을 잊지마세요.\n",
    "\n",
    "![3](https://user-images.githubusercontent.com/37873745/76934503-965a4100-6932-11ea-83dd-e16a9d930f75.jpg)\n",
    "\n",
    "\n"
   ]
  },
  {
   "cell_type": "markdown",
   "metadata": {
    "colab_type": "text",
    "id": "u4QQBHIdfnGV"
   },
   "source": [
    "# Load Data\n",
    "우리는 [상관관계 분석][1]에서 중복되었다고 판단된 219개의 V 컬럼을 제외하고 모든 데이터를 load 할 것입니다.\n",
    "\n",
    "[1]: https://www.kaggle.com/cdeotte/eda-for-columns-v-and-id"
   ]
  },
  {
   "cell_type": "code",
   "execution_count": 0,
   "metadata": {
    "colab": {},
    "colab_type": "code",
    "id": "wtc1_7gp-QNs"
   },
   "outputs": [],
   "source": [
    "BUILD95 = True\n",
    "BUILD96 = True\n",
    "\n",
    "import numpy as np, pandas as pd, os, gc\n",
    "from sklearn.model_selection import GroupKFold\n",
    "from sklearn.metrics import roc_auc_score\n",
    "import matplotlib.pyplot as plt\n",
    "import seaborn as sns\n",
    "\n",
    "# COLUMNS WITH STRINGS\n",
    "str_type = ['ProductCD', 'card4', 'card6', 'P_emaildomain', 'R_emaildomain','M1', 'M2', 'M3', 'M4','M5',\n",
    "            'M6', 'M7', 'M8', 'M9', 'id_12', 'id_15', 'id_16', 'id_23', 'id_27', 'id_28', 'id_29', 'id_30', \n",
    "            'id_31', 'id_33', 'id_34', 'id_35', 'id_36', 'id_37', 'id_38', 'DeviceType', 'DeviceInfo']\n",
    "str_type += ['id-12', 'id-15', 'id-16', 'id-23', 'id-27', 'id-28', 'id-29', 'id-30', \n",
    "            'id-31', 'id-33', 'id-34', 'id-35', 'id-36', 'id-37', 'id-38']\n",
    "\n",
    "# FIRST 53 COLUMNS\n",
    "cols = ['TransactionID', 'TransactionDT', 'TransactionAmt',\n",
    "       'ProductCD', 'card1', 'card2', 'card3', 'card4', 'card5', 'card6',\n",
    "       'addr1', 'addr2', 'dist1', 'dist2', 'P_emaildomain', 'R_emaildomain',\n",
    "       'C1', 'C2', 'C3', 'C4', 'C5', 'C6', 'C7', 'C8', 'C9', 'C10', 'C11',\n",
    "       'C12', 'C13', 'C14', 'D1', 'D2', 'D3', 'D4', 'D5', 'D6', 'D7', 'D8',\n",
    "       'D9', 'D10', 'D11', 'D12', 'D13', 'D14', 'D15', 'M1', 'M2', 'M3', 'M4',\n",
    "       'M5', 'M6', 'M7', 'M8', 'M9']\n",
    "\n",
    "# V COLUMNS TO LOAD DECIDED BY CORRELATION EDA\n",
    "# https://www.kaggle.com/cdeotte/eda-for-columns-v-and-id\n",
    "v =  [1, 3, 4, 6, 8, 11]\n",
    "v += [13, 14, 17, 20, 23, 26, 27, 30]\n",
    "v += [36, 37, 40, 41, 44, 47, 48]\n",
    "v += [54, 56, 59, 62, 65, 67, 68, 70]\n",
    "v += [76, 78, 80, 82, 86, 88, 89, 91]\n",
    "\n",
    "#v += [96, 98, 99, 104] #relates to groups, no NAN \n",
    "v += [107, 108, 111, 115, 117, 120, 121, 123] # maybe group, no NAN\n",
    "v += [124, 127, 129, 130, 136] # relates to groups, no NAN\n",
    "\n",
    "# LOTS OF NAN BELOW\n",
    "v += [138, 139, 142, 147, 156, 162] #b1\n",
    "v += [165, 160, 166] #b1\n",
    "v += [178, 176, 173, 182] #b2\n",
    "v += [187, 203, 205, 207, 215] #b2\n",
    "v += [169, 171, 175, 180, 185, 188, 198, 210, 209] #b2\n",
    "v += [218, 223, 224, 226, 228, 229, 235] #b3\n",
    "v += [240, 258, 257, 253, 252, 260, 261] #b3\n",
    "v += [264, 266, 267, 274, 277] #b3\n",
    "v += [220, 221, 234, 238, 250, 271] #b3\n",
    "\n",
    "v += [294, 284, 285, 286, 291, 297] # relates to grous, no NAN\n",
    "v += [303, 305, 307, 309, 310, 320] # relates to groups, no NAN\n",
    "v += [281, 283, 289, 296, 301, 314] # relates to groups, no NAN\n",
    "#v += [332, 325, 335, 338] # b4 lots NAN\n",
    "\n",
    "cols += ['V'+str(x) for x in v]\n",
    "dtypes = {}\n",
    "for c in cols+['id_0'+str(x) for x in range(1,10)]+['id_'+str(x) for x in range(10,34)]+\\\n",
    "    ['id-0'+str(x) for x in range(1,10)]+['id-'+str(x) for x in range(10,34)]:\n",
    "        dtypes[c] = 'float32'\n",
    "for c in str_type: dtypes[c] = 'category'"
   ]
  },
  {
   "cell_type": "code",
   "execution_count": 5,
   "metadata": {
    "colab": {
     "base_uri": "https://localhost:8080/",
     "height": 70
    },
    "colab_type": "code",
    "id": "TRLaJO9R-YZw",
    "outputId": "220962f5-a027-4c78-9da7-ac2c385ff095"
   },
   "outputs": [
    {
     "name": "stdout",
     "output_type": "stream",
     "text": [
      "Train shape (590540, 213) test shape (506691, 213)\n",
      "CPU times: user 30.1 s, sys: 1.16 s, total: 31.3 s\n",
      "Wall time: 31.3 s\n"
     ]
    }
   ],
   "source": [
    "%%time\n",
    "# LOAD TRAIN\n",
    "X_train = pd.read_csv('../input/ieee-fraud-detection/train_transaction.csv',index_col='TransactionID', dtype=dtypes, usecols=cols+['isFraud'])\n",
    "train_id = pd.read_csv('../input/ieee-fraud-detection/train_identity.csv',index_col='TransactionID', dtype=dtypes)\n",
    "X_train = X_train.merge(train_id, how='left', left_index=True, right_index=True)\n",
    "# LOAD TEST\n",
    "X_test = pd.read_csv('../input/ieee-fraud-detection/test_transaction.csv',index_col='TransactionID', dtype=dtypes, usecols=cols)\n",
    "test_id = pd.read_csv('../input/ieee-fraud-detection/test_identity.csv',index_col='TransactionID', dtype=dtypes)\n",
    "fix = {o:n for o, n in zip(test_id.columns, train_id.columns)}\n",
    "test_id.rename(columns=fix, inplace=True)\n",
    "X_test = X_test.merge(test_id, how='left', left_index=True, right_index=True)\n",
    "# TARGET\n",
    "y_train = X_train['isFraud'].copy()\n",
    "del train_id, test_id, X_train['isFraud']; x = gc.collect()\n",
    "# PRINT STATUS\n",
    "print('Train shape',X_train.shape,'test shape',X_test.shape)"
   ]
  },
  {
   "cell_type": "markdown",
   "metadata": {
    "colab_type": "text",
    "id": "ij_t2pGyg1KV"
   },
   "source": [
    "# Normalize D Columns\n",
    "\n",
    "D 컬럼들은 과거의 어느 시점으로 부터의 \"time deltas\" 입니다. 우리는 D 컬럼들은 과거의 그들의 시점을 나타내도록 변환할 것 입니다. 이렇게 하면 D 컬럼이 시간이 지날수록 증가하는 것을 막을 수 있습니다. 공식은 `D15n = Transaction_Day - D15`, `Transaction_Day = TransactionDT/(24*60*60)`입니다. 연산이 끝나면 -1을 곱해줍니다. "
   ]
  },
  {
   "cell_type": "code",
   "execution_count": 6,
   "metadata": {
    "colab": {
     "base_uri": "https://localhost:8080/",
     "height": 350
    },
    "colab_type": "code",
    "id": "2byTjM0cIMpi",
    "outputId": "cec9a185-8add-411b-b5f4-692c73b48545"
   },
   "outputs": [
    {
     "data": {
      "image/png": "[encoded data removed]",
      "text/plain": [
       "<Figure size 1080x360 with 1 Axes>"
      ]
     },
     "metadata": {
      "tags": []
     },
     "output_type": "display_data"
    }
   ],
   "source": [
    "# PLOT ORIGINAL D\n",
    "plt.figure(figsize=(15, 5))\n",
    "plt.scatter(X_train.TransactionDT, X_train.D15)\n",
    "plt.title('Original D15')\n",
    "plt.xlabel('Time')\n",
    "plt.ylabel('D15')\n",
    "plt.show()"
   ]
  },
  {
   "cell_type": "code",
   "execution_count": 0,
   "metadata": {
    "colab": {},
    "colab_type": "code",
    "id": "n7Ua_QzkiHRW"
   },
   "outputs": [],
   "source": [
    "# NORMALIZE D COLUMNS\n",
    "for i in range(1, 16):\n",
    "    if i in [1,2,3,5,9]: continue\n",
    "    X_train['D'+str(i)] =  X_train['D'+str(i)] - X_train.TransactionDT/np.float32(24*60*60)\n",
    "    X_test['D'+str(i)] = X_test['D'+str(i)] - X_test.TransactionDT/np.float32(24*60*60) "
   ]
  },
  {
   "cell_type": "code",
   "execution_count": 8,
   "metadata": {
    "colab": {
     "base_uri": "https://localhost:8080/",
     "height": 350
    },
    "colab_type": "code",
    "id": "f1ZFForQiTg5",
    "outputId": "fbdd04f7-0491-4e50-b335-adb57646c962"
   },
   "outputs": [
    {
     "data": {
      "image/png": "[encoded data removed]",
      "text/plain": [
       "<Figure size 1080x360 with 1 Axes>"
      ]
     },
     "metadata": {
      "tags": []
     },
     "output_type": "display_data"
    }
   ],
   "source": [
    "# PLOT TRANSFORMED D\n",
    "plt.figure(figsize=(15,5))\n",
    "plt.scatter(X_train.TransactionDT,X_train.D15)\n",
    "plt.title('Transformed D15')\n",
    "plt.xlabel('Time')\n",
    "plt.ylabel('D15n')\n",
    "plt.show()"
   ]
  },
  {
   "cell_type": "code",
   "execution_count": 9,
   "metadata": {
    "colab": {
     "base_uri": "https://localhost:8080/",
     "height": 52
    },
    "colab_type": "code",
    "id": "UuNdoaXiiXK5",
    "outputId": "223269e8-a550-433d-ef68-7a962b4b109b"
   },
   "outputs": [
    {
     "name": "stdout",
     "output_type": "stream",
     "text": [
      "CPU times: user 3 s, sys: 63.6 ms, total: 3.07 s\n",
      "Wall time: 2.96 s\n"
     ]
    }
   ],
   "source": [
    "%%time\n",
    "# LABEL ENCODE AND MEMORY REDUCE\n",
    "for i,f in enumerate(X_train.columns):\n",
    "    # FACTORIZE CATEGORICAL VARIABLES\n",
    "    if (np.str(X_train[f].dtype)=='category')|(X_train[f].dtype=='object'): \n",
    "        df_comb = pd.concat([X_train[f],X_test[f]],axis=0)\n",
    "        df_comb,_ = df_comb.factorize(sort=True)\n",
    "        if df_comb.max()>32000: print(f,'needs int32')\n",
    "        X_train[f] = df_comb[:len(X_train)].astype('int16')\n",
    "        X_test[f] = df_comb[len(X_train):].astype('int16')\n",
    "    # SHIFT ALL NUMERICS POSITIVE. SET NAN to -1\n",
    "    elif f not in ['TransactionAmt','TransactionDT']:\n",
    "        mn = np.min((X_train[f].min(),X_test[f].min()))\n",
    "        X_train[f] -= np.float32(mn)\n",
    "        X_test[f] -= np.float32(mn)\n",
    "        X_train[f].fillna(-1,inplace=True)\n",
    "        X_test[f].fillna(-1,inplace=True)"
   ]
  },
  {
   "cell_type": "markdown",
   "metadata": {
    "colab_type": "text",
    "id": "JOmjfYKcjJMJ"
   },
   "source": [
    "# Encoding Functions\n",
    "아래 5가지 인코딩 함수가 있습니다. (1) `encode_FE`는 frequency encoding 입니다. 먼저 train과 test set을 합치고, 인코딩합니다. (2) `encode_LE`는 카테고리 feature를 위한 label encoding 입니다. (3) `encode_AG`는 집계 평균, 표준편차 같은 집계된(aggregated) feature를 만듭니다. (4) `encode_CB`는 두 개의 컬럼을 합칩니다. (5) `encode_AG2`는 한 그룹 안의 한 feature에 대해 고유한 값이 얼마나 있는 가를 count하여 집계된(aggregated) feature를 만듭니다. Feature engineering에 대한 더 많은 설명은 [이 discussion][1]을 보시길 바랍니다.\n",
    "\n",
    "[1]: https://www.kaggle.com/c/ieee-fraud-detection/discussion/108575#latest-641841"
   ]
  },
  {
   "cell_type": "code",
   "execution_count": 0,
   "metadata": {
    "colab": {},
    "colab_type": "code",
    "id": "PYLs8-zLjGe0"
   },
   "outputs": [],
   "source": [
    "# FREQUENCY ENCODE TOGETHER\n",
    "def encode_FE(df1, df2, cols):\n",
    "    for col in cols:\n",
    "        df = pd.concat([df1[col], df2[col]])    # train, test 합침\n",
    "        vc = df.value_counts(dropna=True, normalize=True).to_dict() # frequency 계산\n",
    "        vc[-1] = -1         # NaN값에 대해서는 -1 유지\n",
    "        nm = col + '_FE'    # 새로운 컬럼명 정의\n",
    "\n",
    "        # mapping\n",
    "        df1[nm] = df1[col].map(vc)\n",
    "        df1[nm] = df1[nm].astype('float32')\n",
    "        df2[nm] = df2[col].map(vc)\n",
    "        df2[nm] = df2[nm].astype('float32')\n",
    "        print(nm, ', ', end='')\n",
    "\n",
    "# LABEL ENCODE\n",
    "def encode_LE(col, train=X_train, test=X_test, verbose=True):\n",
    "    df_comb = pd.concat([train[col], test[col]], axis=0)    # train, test 합침\n",
    "    df_comb, _ = df_comb.factorize(sort=True)   # Label encoding\n",
    "    nm = col\n",
    "    if df_comb.max() > 32000: # Label이 많은 경우\n",
    "        train[nm] = df_comb[:len(train)].astype('int32')    \n",
    "        test[nm] = df_comb[len(train):].astype('int32')\n",
    "    else:\n",
    "        train[nm] = df_comb[:len(train)].astype('int16')\n",
    "        test[nm] = df_comb[len(train):].astype('int16')\n",
    "    del df_comb; x=gc.collect()\n",
    "    if verbose: print(nm,', ',end='')\n",
    "\n",
    "# GROUP AGGREGATION MEAN AND STD\n",
    "# https://www.kaggle.com/kyakovlev/ieee-fe-with-some-eda\n",
    "def encode_AG(main_columns, uids, aggregations=['mean'], train_df=X_train, test_df=X_test,\n",
    "              fillna=True, usena=False):\n",
    "    for main_column in main_columns:\n",
    "        for col in uids:\n",
    "            for agg_type in aggregations:\n",
    "                new_col_name = main_column + '_' + col + '_' + agg_type # 새로운 컬럼명 정의\n",
    "                temp_df = pd.concat([train_df[[col, main_column]], test_df[[col, main_column]]])\n",
    "                if usena: temp_df.loc[temp_df[main_column]==-1, main_column] = np.nan\n",
    "                # Aggregation 계산\n",
    "                temp_df = temp_df.groupby([col])[main_column].agg([agg_type]).reset_index().rename(\n",
    "                                                    columns={agg_type: new_col_name})\n",
    "                temp_df.index = list(temp_df[col])          # index 지정\n",
    "                temp_df = temp_df[new_col_name].to_dict()   # dictionary화\n",
    "\n",
    "                # mapping\n",
    "                train_df[new_col_name] = train_df[col].map(temp_df).astype('float32')\n",
    "                test_df[new_col_name] = test_df[col].map(temp_df).astype('float32')\n",
    "\n",
    "                if fillna:\n",
    "                    train_df[new_col_name].fillna(-1, inplace=True)\n",
    "                    test_df[new_col_name].fillna(-1, inplace=True)\n",
    "\n",
    "                print(\"'\" + new_col_name + \"'\", ', ', end='')\n",
    "\n",
    "# COMBINE FEATURES\n",
    "def encode_CB(col1, col2, df1=X_train, df2=X_test):\n",
    "    nm = col1 + '_' + col2 # 새로운 컬럼명 정의\n",
    "    \n",
    "    # 값 string 변환 후 combine\n",
    "    df1[nm] = df1[col1].astype(str) + '_' + df1[col2].astype(str)\n",
    "    df2[nm] = df2[col1].astype(str) + '_' + df2[col2].astype(str)\n",
    "    encode_LE(nm, verbose=True)\n",
    "    print(nm, ', ', end='')\n",
    "\n",
    "# GROUP AGGREGATION NUNIQUE\n",
    "def encode_AG2(main_columns, uids, train_df=X_train, test_df=X_test):\n",
    "    for main_column in main_columns:\n",
    "        for col in uids:\n",
    "            comb = pd.concat([train_df[[col] + [main_column]], test_df[[col] + [main_column]]], axis=0)\n",
    "            mp = comb.groupby(col)[main_column].agg(['nunique'])['nunique'].to_dict()\n",
    "            train_df[col+'_'+main_column+'_ct'] = train_df[col].map(mp).astype('float32')\n",
    "            test_df[col+'_'+main_column+'_ct'] = test_df[col].map(mp).astype('float32')\n",
    "            print(col+'_'+main_column+'_ct, ', end='')\n",
    "    "
   ]
  },
  {
   "cell_type": "markdown",
   "metadata": {
    "colab_type": "text",
    "id": "ieIeypX6zj7f"
   },
   "source": [
    "# Feature Engineering\n",
    "\n",
    "이제 features를 조정해봅시다. 이 단계에서 선택되는 모든 features는 local validation AUC를 증가시켰기에 선택됩니다. Feature engineering 절차는 다음과 같이 진행됩니다. 먼저, 아이디어를 생각하고, 새로운 feature를 만듭니다. 그런 후에, 자신의 모델에 추가하고 local validation AUC가 증가하는지, 감소하는지 평가합니다. 만약 AUC가 증가하면 feature를 유지하고, 반대로 감소하면 feature를 삭제합니다."
   ]
  },
  {
   "cell_type": "code",
   "execution_count": 11,
   "metadata": {
    "colab": {
     "base_uri": "https://localhost:8080/",
     "height": 72
    },
    "colab_type": "code",
    "id": "W8YBf6pb2GZs",
    "outputId": "c8df816d-d80f-403e-ffef-dc278922b70d"
   },
   "outputs": [
    {
     "name": "stdout",
     "output_type": "stream",
     "text": [
      "cents, addr1_FE , card1_FE , card2_FE , card3_FE , P_emaildomain_FE , card1_addr1 , card1_addr1 , card1_addr1_P_emaildomain , card1_addr1_P_emaildomain , card1_addr1_FE , card1_addr1_P_emaildomain_FE , 'TransactionAmt_card1_mean' , 'TransactionAmt_card1_std' , 'TransactionAmt_card1_addr1_mean' , 'TransactionAmt_card1_addr1_std' , 'TransactionAmt_card1_addr1_P_emaildomain_mean' , 'TransactionAmt_card1_addr1_P_emaildomain_std' , 'D9_card1_mean' , 'D9_card1_std' , 'D9_card1_addr1_mean' , 'D9_card1_addr1_std' , 'D9_card1_addr1_P_emaildomain_mean' , 'D9_card1_addr1_P_emaildomain_std' , 'D11_card1_mean' , 'D11_card1_std' , 'D11_card1_addr1_mean' , 'D11_card1_addr1_std' , 'D11_card1_addr1_P_emaildomain_mean' , 'D11_card1_addr1_P_emaildomain_std' , CPU times: user 16.9 s, sys: 871 ms, total: 17.8 s\n",
      "Wall time: 17.8 s\n"
     ]
    }
   ],
   "source": [
    "%%time\n",
    "# TRANSACTION ANT CENTS\n",
    "X_train['cents'] = (X_train['TransactionAmt'] - np.floor(X_train['TransactionAmt'])).astype('float32')\n",
    "X_test['cents'] = (X_test['TransactionAmt'] - np.floor(X_test['TransactionAmt'])).astype('float32')\n",
    "print('cents, ', end='')\n",
    "# FREQUENCY ENCODE: ADDR1,CARD1, CARD2, CARD3, P_EMAILDOMAIN\n",
    "encode_FE(X_train, X_test, ['addr1', 'card1', 'card2', 'card3', 'P_emaildomain'])\n",
    "# COMBINE COLUMNS CARD1+ADDR1, CARD1+ADDR1+P_EMAILDOMAIN\n",
    "encode_CB('card1', 'addr1')\n",
    "encode_CB('card1_addr1', 'P_emaildomain')\n",
    "# FREQUENCY ENCODE\n",
    "encode_FE(X_train, X_test, ['card1_addr1', 'card1_addr1_P_emaildomain'])\n",
    "# GROUP AGGREGATE\n",
    "encode_AG(['TransactionAmt', 'D9', 'D11'], ['card1', 'card1_addr1', 'card1_addr1_P_emaildomain'], ['mean', 'std'], usena=True)"
   ]
  },
  {
   "cell_type": "markdown",
   "metadata": {
    "colab_type": "text",
    "id": "AyjtAV8N3aA8"
   },
   "source": [
    "# Feature Selection - Time Consistency\n",
    "우리는 위에서 새로운 28개의 feature를 추가했습니다. 그리고 우리는 벌써 [상관관계 분석][1]을 통해 219개의 V 컬럼들을 삭제했었습니다. 그러므로 우리는 현재 242 컬럼을 가지고 있습니다. 이제 각 242 feature에 대해 \"time consistency\"를 확인해보려 합니다. 우리는 242개의 모델을 만들었습니다. 각 모델은 training data의 첫 번째 달의 데이터로 학습되고, 오직 하나의 feature가 사용됩니다. 그리고 training data의 마지막 달의 데이터를 예측할 것입니다. 여기서 우리는 training AUC와 validation AUC 둘다 `AUC = 0.5`를 넘기길 원합니다. 결과로 19개의 feature가 이 테스트를 실패했고, 삭제됩니다. 추가적으로, 많은 NaN으로 이루어진 7개의 D 컬럼들을 삭제합니다. Feature selection에 대한 더 많은 기술들은 [여기][2]에 리스트되어 있습니다.\n",
    "\n",
    "\n",
    "[1]: https://www.kaggle.com/cdeotte/eda-for-columns-v-and-id\n",
    "[2]: https://www.kaggle.com/c/ieee-fraud-detection/discussion/111308"
   ]
  },
  {
   "cell_type": "code",
   "execution_count": 0,
   "metadata": {
    "colab": {},
    "colab_type": "code",
    "id": "mjVq9gTN5WJF"
   },
   "outputs": [],
   "source": [
    "cols = list( X_train.columns )\n",
    "cols.remove('TransactionDT')\n",
    "for c in ['D6','D7','D8','D9','D12','D13','D14']:\n",
    "    cols.remove(c)\n",
    "\n",
    "# FAILED TIME CONSISTENCY TEST\n",
    "for c in ['C3','M5','id_08','id_33']:\n",
    "    cols.remove(c)\n",
    "for c in ['card4','id_07','id_14','id_21','id_30','id_32','id_34']:\n",
    "    cols.remove(c)\n",
    "for c in ['id_'+str(x) for x in range(22,28)]:\n",
    "    cols.remove(c)"
   ]
  },
  {
   "cell_type": "code",
   "execution_count": 13,
   "metadata": {
    "colab": {
     "base_uri": "https://localhost:8080/",
     "height": 692
    },
    "colab_type": "code",
    "id": "8Xne1W7n5jrZ",
    "outputId": "3e1352af-3c04-4f03-ea46-0bffad623143"
   },
   "outputs": [
    {
     "name": "stdout",
     "output_type": "stream",
     "text": [
      "NOW USING THE FOLLOWING 216 FEATURES.\n"
     ]
    },
    {
     "data": {
      "text/plain": [
       "array(['TransactionAmt', 'ProductCD', 'card1', 'card2', 'card3', 'card5',\n",
       "       'card6', 'addr1', 'addr2', 'dist1', 'dist2', 'P_emaildomain',\n",
       "       'R_emaildomain', 'C1', 'C2', 'C4', 'C5', 'C6', 'C7', 'C8', 'C9',\n",
       "       'C10', 'C11', 'C12', 'C13', 'C14', 'D1', 'D2', 'D3', 'D4', 'D5',\n",
       "       'D10', 'D11', 'D15', 'M1', 'M2', 'M3', 'M4', 'M6', 'M7', 'M8',\n",
       "       'M9', 'V1', 'V3', 'V4', 'V6', 'V8', 'V11', 'V13', 'V14', 'V17',\n",
       "       'V20', 'V23', 'V26', 'V27', 'V30', 'V36', 'V37', 'V40', 'V41',\n",
       "       'V44', 'V47', 'V48', 'V54', 'V56', 'V59', 'V62', 'V65', 'V67',\n",
       "       'V68', 'V70', 'V76', 'V78', 'V80', 'V82', 'V86', 'V88', 'V89',\n",
       "       'V91', 'V107', 'V108', 'V111', 'V115', 'V117', 'V120', 'V121',\n",
       "       'V123', 'V124', 'V127', 'V129', 'V130', 'V136', 'V138', 'V139',\n",
       "       'V142', 'V147', 'V156', 'V160', 'V162', 'V165', 'V166', 'V169',\n",
       "       'V171', 'V173', 'V175', 'V176', 'V178', 'V180', 'V182', 'V185',\n",
       "       'V187', 'V188', 'V198', 'V203', 'V205', 'V207', 'V209', 'V210',\n",
       "       'V215', 'V218', 'V220', 'V221', 'V223', 'V224', 'V226', 'V228',\n",
       "       'V229', 'V234', 'V235', 'V238', 'V240', 'V250', 'V252', 'V253',\n",
       "       'V257', 'V258', 'V260', 'V261', 'V264', 'V266', 'V267', 'V271',\n",
       "       'V274', 'V277', 'V281', 'V283', 'V284', 'V285', 'V286', 'V289',\n",
       "       'V291', 'V294', 'V296', 'V297', 'V301', 'V303', 'V305', 'V307',\n",
       "       'V309', 'V310', 'V314', 'V320', 'id_01', 'id_02', 'id_03', 'id_04',\n",
       "       'id_05', 'id_06', 'id_09', 'id_10', 'id_11', 'id_12', 'id_13',\n",
       "       'id_15', 'id_16', 'id_17', 'id_18', 'id_19', 'id_20', 'id_28',\n",
       "       'id_29', 'id_31', 'id_35', 'id_36', 'id_37', 'id_38', 'DeviceType',\n",
       "       'DeviceInfo', 'cents', 'addr1_FE', 'card1_FE', 'card2_FE',\n",
       "       'card3_FE', 'P_emaildomain_FE', 'card1_addr1',\n",
       "       'card1_addr1_P_emaildomain', 'card1_addr1_FE',\n",
       "       'card1_addr1_P_emaildomain_FE', 'TransactionAmt_card1_mean',\n",
       "       'TransactionAmt_card1_std', 'TransactionAmt_card1_addr1_mean',\n",
       "       'TransactionAmt_card1_addr1_std',\n",
       "       'TransactionAmt_card1_addr1_P_emaildomain_mean',\n",
       "       'TransactionAmt_card1_addr1_P_emaildomain_std', 'D9_card1_mean',\n",
       "       'D9_card1_std', 'D9_card1_addr1_mean', 'D9_card1_addr1_std',\n",
       "       'D9_card1_addr1_P_emaildomain_mean',\n",
       "       'D9_card1_addr1_P_emaildomain_std', 'D11_card1_mean',\n",
       "       'D11_card1_std', 'D11_card1_addr1_mean', 'D11_card1_addr1_std',\n",
       "       'D11_card1_addr1_P_emaildomain_mean',\n",
       "       'D11_card1_addr1_P_emaildomain_std'], dtype='<U45')"
      ]
     },
     "execution_count": 13,
     "metadata": {
      "tags": []
     },
     "output_type": "execute_result"
    }
   ],
   "source": [
    "print('NOW USING THE FOLLOWING', len(cols), 'FEATURES.')\n",
    "np.array(cols)"
   ]
  },
  {
   "cell_type": "markdown",
   "metadata": {
    "colab_type": "text",
    "id": "ow1TJFAQ5qXb"
   },
   "source": [
    "# Local Validation\n",
    "이 대회에서 우리는 local validation에 기반해서 시간을 사용하였습니다. 저는 training set의 첫 75%의 데이터를 사용하여 나머지 25%를 예측하는 과정을 통해 feature를 평가했습니다. Konstantin은 조금 다른 local validation을 수행했습니다. 그는 먼저 첫 4개월의 데이터로 사용하였고, 한 달을 건너뛴 나머지 데이터들을 예측하는 것으로 평가했습니다. 현재 216개의 feature를 사용한 XGB 모델은 Chris' local validation에서 AUC = 0.9363을, Konstantin's local validation에서 AUC = 0.9241을 달성했습니다. 이 결과는 [여기][1]와 [여기][2]에 작성되어 있듯 magic 없이 Konstantin의 LGBM이 달성한 AUC와 같다는 것을 알아두세요. \n",
    "\n",
    "[1]: https://www.kaggle.com/kyakovlev/ieee-fe-for-local-test\n",
    "[2]: https://www.kaggle.com/kyakovlev/ieee-lgbm-with-groupkfold-cv"
   ]
  },
  {
   "cell_type": "code",
   "execution_count": 0,
   "metadata": {
    "colab": {},
    "colab_type": "code",
    "id": "Qsr8GIW98Y0j"
   },
   "outputs": [],
   "source": [
    "# CHRIS - TRAIN 75% PREDICT 25%\n",
    "idxT = X_train.index[:3*len(X_train)//4]\n",
    "idxV = X_train.index[3*len(X_train)//4:]\n",
    "\n",
    "# KONSTANTIN - TRAIN 4 SKIP 1 PREDICT 1 MONTH\n",
    "#idxT = X_train.index[:417559]\n",
    "#idxV = X_train.index[-89326:]"
   ]
  },
  {
   "cell_type": "code",
   "execution_count": 15,
   "metadata": {
    "colab": {
     "base_uri": "https://localhost:8080/",
     "height": 336
    },
    "colab_type": "code",
    "id": "sM1PoB8c8pYv",
    "outputId": "6615f481-31a9-4e18-d87e-990237e8a507"
   },
   "outputs": [
    {
     "name": "stdout",
     "output_type": "stream",
     "text": [
      "XGBoost version: 0.90\n",
      "[0]\tvalidation_0-auc:0.787465\n",
      "Will train until validation_0-auc hasn't improved in 100 rounds.\n",
      "[50]\tvalidation_0-auc:0.87831\n",
      "[100]\tvalidation_0-auc:0.894923\n",
      "[150]\tvalidation_0-auc:0.907818\n",
      "[200]\tvalidation_0-auc:0.918978\n",
      "[250]\tvalidation_0-auc:0.925765\n",
      "[300]\tvalidation_0-auc:0.930157\n",
      "[350]\tvalidation_0-auc:0.933913\n",
      "[400]\tvalidation_0-auc:0.935322\n",
      "[450]\tvalidation_0-auc:0.935882\n",
      "[500]\tvalidation_0-auc:0.936412\n",
      "[550]\tvalidation_0-auc:0.936245\n",
      "[600]\tvalidation_0-auc:0.936186\n",
      "Stopping. Best iteration:\n",
      "[510]\tvalidation_0-auc:0.936498\n",
      "\n"
     ]
    }
   ],
   "source": [
    "import xgboost as xgb\n",
    "print(\"XGBoost version:\", xgb.__version__)\n",
    "\n",
    "if BUILD95:\n",
    "    clf = xgb.XGBClassifier( \n",
    "        n_estimators=2000,\n",
    "        max_depth=12, \n",
    "        learning_rate=0.02, \n",
    "        subsample=0.8,\n",
    "        colsample_bytree=0.4, \n",
    "        missing=-1, \n",
    "        eval_metric='auc',\n",
    "        # USE CPU\n",
    "        #nthread=4,\n",
    "        #tree_method='hist' \n",
    "        # USE GPU\n",
    "        tree_method='gpu_hist' \n",
    "    )\n",
    "    h = clf.fit(X_train.loc[idxT,cols], y_train[idxT], \n",
    "        eval_set=[(X_train.loc[idxV,cols],y_train[idxV])],\n",
    "        verbose=50, early_stopping_rounds=100)"
   ]
  },
  {
   "cell_type": "code",
   "execution_count": 16,
   "metadata": {
    "colab": {
     "base_uri": "https://localhost:8080/",
     "height": 728
    },
    "colab_type": "code",
    "id": "2NtRZOae89GO",
    "outputId": "445d77a3-fe21-4979-b747-c162212046b0"
   },
   "outputs": [
    {
     "data": {
      "image/png": "[encoded data removed]",
      "text/plain": [
       "<Figure size 1440x720 with 1 Axes>"
      ]
     },
     "metadata": {
      "tags": []
     },
     "output_type": "display_data"
    }
   ],
   "source": [
    "if BUILD95:\n",
    "\n",
    "    feature_imp = pd.DataFrame(sorted(zip(clf.feature_importances_,cols)), columns=['Value','Feature'])\n",
    "    plt.figure(figsize=(20, 10))\n",
    "    sns.barplot(x=\"Value\", y=\"Feature\", data=feature_imp.sort_values(by=\"Value\", ascending=False).iloc[:50])\n",
    "    plt.title('XGB95 Most Important Features')\n",
    "    plt.tight_layout()\n",
    "    plt.show()\n",
    "    del clf, h; x=gc.collect()"
   ]
  },
  {
   "cell_type": "markdown",
   "metadata": {
    "colab_type": "text",
    "id": "AFjOTDaC9HmD"
   },
   "source": [
    "# Predict test.csv\n",
    "\n",
    "우리는 달(month)을 그룹으로 하여 GroupKFold를 사용해 `test.csv`를 예측할 것입니다. Training data는 2017년 12월, 2018년 1월, 2018년 2월, 2018년 3월, 2018년 4월, 2018년 5월인 데이터로 이루어지며, 이러한 달을 12, 13, 14, 15, 16, 17로 나타낼 것입니다. GroupKFold의 첫 Fold는 달 13-17을 학습하고, 달 12를 예측합니다. 달 12의 목적은 XGB에게 언제 `early_stop`하는지 알려주기 위한 것입니다. 우리는 사실 시간을 거꾸로해서 예측해가는 것에 대해 걱정하지 않습니다. 달 13-17로 학습된 모델은 후의 시간인 `test.csv`도 잘 예측할 것입니다. \n",
    "  \n",
    "우리는 feature를 결정하기 위해 Local validation을 사용했고, `test.csv`를 예측하기 위해 GroupKFold를 사용했습니다. 다른 많은 예측방법들을 수행했었으나, GroupKFold가 가장 좋은 결과를 가져왔습니다.\n"
   ]
  },
  {
   "cell_type": "code",
   "execution_count": 0,
   "metadata": {
    "colab": {},
    "colab_type": "code",
    "id": "8TYtQJzGAsiB"
   },
   "outputs": [],
   "source": [
    "import datetime\n",
    "START_DATE = datetime.datetime.strptime('2017-11-30', '%Y-%m-%d')\n",
    "X_train['DT_M'] = X_train['TransactionDT'].apply(lambda x: (START_DATE + datetime.timedelta(seconds = x)))\n",
    "X_train['DT_M'] = (X_train['DT_M'].dt.year-2017)*12 + X_train['DT_M'].dt.month # 12~17\n",
    "\n",
    "X_test['DT_M'] = X_test['TransactionDT'].apply(lambda x: (START_DATE + datetime.timedelta(seconds = x)))\n",
    "X_test['DT_M'] = (X_test['DT_M'].dt.year-2017)*12 + X_test['DT_M'].dt.month # 12~17"
   ]
  },
  {
   "cell_type": "code",
   "execution_count": 20,
   "metadata": {
    "colab": {
     "base_uri": "https://localhost:8080/",
     "height": 1000
    },
    "colab_type": "code",
    "id": "auItSvJn2zLI",
    "outputId": "959f2e01-7fd0-47b3-ddfe-db2a5ba6f169"
   },
   "outputs": [
    {
     "name": "stdout",
     "output_type": "stream",
     "text": [
      "[137321 137322 137323 ... 590537 590538 590539]\n",
      "[     0      1      2 ... 137318 137319 137320]\n",
      "Fold 0 withholding month 12\n",
      " rows of train = 453219 rows of holdout = 137321\n",
      "[0]\tvalidation_0-auc:0.757194\n",
      "Will train until validation_0-auc hasn't improved in 200 rounds.\n",
      "[100]\tvalidation_0-auc:0.871064\n",
      "[200]\tvalidation_0-auc:0.891903\n",
      "[300]\tvalidation_0-auc:0.903162\n",
      "[400]\tvalidation_0-auc:0.907815\n",
      "[500]\tvalidation_0-auc:0.908778\n",
      "[600]\tvalidation_0-auc:0.909002\n",
      "[700]\tvalidation_0-auc:0.908893\n",
      "[800]\tvalidation_0-auc:0.908375\n",
      "Stopping. Best iteration:\n",
      "[612]\tvalidation_0-auc:0.909398\n",
      "\n",
      "[     0      1      2 ... 590537 590538 590539]\n",
      "[315927 315928 315929 ... 417556 417557 417558]\n",
      "Fold 1 withholding month 15\n",
      " rows of train = 488908 rows of holdout = 101632\n",
      "[0]\tvalidation_0-auc:0.832247\n",
      "Will train until validation_0-auc hasn't improved in 200 rounds.\n",
      "[100]\tvalidation_0-auc:0.906362\n",
      "[200]\tvalidation_0-auc:0.929236\n",
      "[300]\tvalidation_0-auc:0.940343\n",
      "[400]\tvalidation_0-auc:0.944656\n",
      "[500]\tvalidation_0-auc:0.945911\n",
      "[600]\tvalidation_0-auc:0.946309\n",
      "[700]\tvalidation_0-auc:0.946359\n",
      "[800]\tvalidation_0-auc:0.946508\n",
      "[900]\tvalidation_0-auc:0.94619\n",
      "Stopping. Best iteration:\n",
      "[792]\tvalidation_0-auc:0.946589\n",
      "\n",
      "[     0      1      2 ... 590537 590538 590539]\n",
      "[137321 137322 137323 ... 229903 229904 229905]\n",
      "Fold 2 withholding month 13\n",
      " rows of train = 497955 rows of holdout = 92585\n",
      "[0]\tvalidation_0-auc:0.809112\n",
      "Will train until validation_0-auc hasn't improved in 200 rounds.\n",
      "[100]\tvalidation_0-auc:0.904113\n",
      "[200]\tvalidation_0-auc:0.923954\n",
      "[300]\tvalidation_0-auc:0.936325\n",
      "[400]\tvalidation_0-auc:0.941239\n",
      "[500]\tvalidation_0-auc:0.942806\n",
      "[600]\tvalidation_0-auc:0.942804\n",
      "[700]\tvalidation_0-auc:0.942776\n",
      "[800]\tvalidation_0-auc:0.942569\n",
      "Stopping. Best iteration:\n",
      "[657]\tvalidation_0-auc:0.942965\n",
      "\n",
      "[     0      1      2 ... 501211 501212 501213]\n",
      "[501214 501215 501216 ... 590537 590538 590539]\n",
      "Fold 3 withholding month 17\n",
      " rows of train = 501214 rows of holdout = 89326\n",
      "[0]\tvalidation_0-auc:0.805903\n",
      "Will train until validation_0-auc hasn't improved in 200 rounds.\n",
      "[100]\tvalidation_0-auc:0.900875\n",
      "[200]\tvalidation_0-auc:0.925272\n",
      "[300]\tvalidation_0-auc:0.936224\n",
      "[400]\tvalidation_0-auc:0.941047\n",
      "[500]\tvalidation_0-auc:0.942407\n",
      "[600]\tvalidation_0-auc:0.942549\n",
      "[700]\tvalidation_0-auc:0.942135\n",
      "[800]\tvalidation_0-auc:0.941838\n",
      "Stopping. Best iteration:\n",
      "[621]\tvalidation_0-auc:0.942665\n",
      "\n",
      "[     0      1      2 ... 590537 590538 590539]\n",
      "[229906 229907 229908 ... 315924 315925 315926]\n",
      "Fold 4 withholding month 14\n",
      " rows of train = 504519 rows of holdout = 86021\n",
      "[0]\tvalidation_0-auc:0.845517\n",
      "Will train until validation_0-auc hasn't improved in 200 rounds.\n",
      "[100]\tvalidation_0-auc:0.920878\n",
      "[200]\tvalidation_0-auc:0.940592\n",
      "[300]\tvalidation_0-auc:0.948978\n",
      "[400]\tvalidation_0-auc:0.951713\n",
      "[500]\tvalidation_0-auc:0.951873\n",
      "[600]\tvalidation_0-auc:0.951717\n",
      "Stopping. Best iteration:\n",
      "[472]\tvalidation_0-auc:0.952016\n",
      "\n",
      "[     0      1      2 ... 590537 590538 590539]\n",
      "[417559 417560 417561 ... 501211 501212 501213]\n",
      "Fold 5 withholding month 16\n",
      " rows of train = 506885 rows of holdout = 83655\n",
      "[0]\tvalidation_0-auc:0.804213\n",
      "Will train until validation_0-auc hasn't improved in 200 rounds.\n",
      "[100]\tvalidation_0-auc:0.909094\n",
      "[200]\tvalidation_0-auc:0.936276\n",
      "[300]\tvalidation_0-auc:0.94989\n",
      "[400]\tvalidation_0-auc:0.955648\n",
      "[500]\tvalidation_0-auc:0.957519\n",
      "[600]\tvalidation_0-auc:0.957888\n",
      "[700]\tvalidation_0-auc:0.958147\n",
      "[800]\tvalidation_0-auc:0.958429\n",
      "[900]\tvalidation_0-auc:0.958628\n",
      "[1000]\tvalidation_0-auc:0.958721\n",
      "[1100]\tvalidation_0-auc:0.958644\n",
      "Stopping. Best iteration:\n",
      "[955]\tvalidation_0-auc:0.958824\n",
      "\n",
      "####################\n",
      "XGB95 OOF CV= 0.9406260278895455\n"
     ]
    }
   ],
   "source": [
    "if BUILD95:\n",
    "    oof = np.zeros(len(X_train))\n",
    "    preds = np.zeros(len(X_test))\n",
    "\n",
    "    skf = GroupKFold(n_splits=6)\n",
    "    for i, (idxT, idxV) in enumerate(skf.split(X_train, y_train, groups=X_train['DT_M'])):\n",
    "        # idxT: Train index, idxV: test index\n",
    "        month = X_train.iloc[idxV]['DT_M'].iloc[0]\n",
    "        print('Fold', i, 'withholding month', month)\n",
    "        print(' rows of train =', len(idxT), 'rows of holdout =', len(idxV))\n",
    "        clf = xgb.XGBClassifier(\n",
    "            n_estimators=5000,\n",
    "            max_depth=12,\n",
    "            learning_rate=0.02,\n",
    "            subsample=0.8,\n",
    "            colsample_bytree=0.4,\n",
    "            missing=-1,\n",
    "            eval_metric='auc',\n",
    "            # USE CPU\n",
    "            #nthread=4,\n",
    "            #tree_method='hist'\n",
    "            # USE GPU\n",
    "            tree_method='gpu_hist'\n",
    "        )\n",
    "        h = clf.fit(X_train[cols].iloc[idxT], y_train.iloc[idxT], \n",
    "                    eval_set=[(X_train[cols].iloc[idxV], y_train.iloc[idxV])],\n",
    "                    verbose=100, early_stopping_rounds=200)\n",
    "        \n",
    "        oof[idxV] += clf.predict_proba(X_train[cols].iloc[idxV])[:, 1]\n",
    "        preds += clf.predict_proba(X_test[cols])[:, 1] / skf.n_splits\n",
    "        del h, clf\n",
    "        x=gc.collect()\n",
    "    print('#'*20)\n",
    "    print('XGB95 OOF CV=', roc_auc_score(y_train, oof))"
   ]
  },
  {
   "cell_type": "code",
   "execution_count": 21,
   "metadata": {
    "colab": {
     "base_uri": "https://localhost:8080/",
     "height": 281
    },
    "colab_type": "code",
    "id": "lB7thuZp63Qs",
    "outputId": "87751e89-b810-432f-f867-e9dd12269085"
   },
   "outputs": [
    {
     "data": {
      "image/png": "[encoded data removed]",
      "text/plain": [
       "<Figure size 432x288 with 1 Axes>"
      ]
     },
     "metadata": {
      "tags": []
     },
     "output_type": "display_data"
    }
   ],
   "source": [
    "if BUILD95:\n",
    "    plt.hist(oof,bins=100)\n",
    "    plt.ylim((0,5000))\n",
    "    plt.title('XGB OOF')\n",
    "    plt.show()\n",
    "    # 그림을 봤을 때, 0.5 이하의 값이 더 많은 것을 볼 수 있다.\n",
    "\n",
    "    X_train['oof'] = oof\n",
    "    X_train.reset_index(inplace=True)\n",
    "    X_train[['TransactionID','oof']].to_csv('oof_xgb_95.csv')\n",
    "    X_train.set_index('TransactionID',drop=True,inplace=True)\n",
    "    \n",
    "else: X_train['oof'] = 0"
   ]
  },
  {
   "cell_type": "markdown",
   "metadata": {
    "colab_type": "text",
    "id": "eAowpVoC-A17"
   },
   "source": [
    "# Kaggle Submission File XGB_95"
   ]
  },
  {
   "cell_type": "code",
   "execution_count": 22,
   "metadata": {
    "colab": {
     "base_uri": "https://localhost:8080/",
     "height": 281
    },
    "colab_type": "code",
    "id": "x-rJ3okF-D9w",
    "outputId": "3628e86f-74cb-4991-b155-6e3fdf963402"
   },
   "outputs": [
    {
     "data": {
      "image/png": "[encoded data removed]",
      "text/plain": [
       "<Figure size 432x288 with 1 Axes>"
      ]
     },
     "metadata": {
      "tags": []
     },
     "output_type": "display_data"
    }
   ],
   "source": [
    "if BUILD95:\n",
    "    sample_submission = pd.read_csv('../input/ieee-fraud-detection/sample_submission.csv')\n",
    "    sample_submission.isFraud = preds\n",
    "    sample_submission.to_csv('sub_xgb_95.csv',index=False)\n",
    "\n",
    "    plt.hist(sample_submission.isFraud,bins=100)\n",
    "    plt.ylim((0,5000))\n",
    "    plt.title('XGB95 Submission')\n",
    "    plt.show()\n",
    "    # train set의 시각화 부분과 비슷한 형태"
   ]
  },
  {
   "cell_type": "markdown",
   "metadata": {
    "colab_type": "text",
    "id": "D1wyeey5-J4P"
   },
   "source": [
    "![image](http://www.playagricola.com/Kaggle/9510.png)"
   ]
  },
  {
   "cell_type": "markdown",
   "metadata": {
    "colab_type": "text",
    "id": "20bcM6RW-Yh5"
   },
   "source": [
    "# The Magic Feature - UID\n",
    "  \n",
    "우리는 이제 MAGIC FEATURES를 만들고 사용해볼 것 입니다. 먼저 우리는 모델에서 클라이언트(credit cards)를 찾을 수 있도록 도와주는 UID를 생성합니다. 이 UID는 완벽하지 않습니다. 많은 UID가 2개 이상의 클라이언트 값을 가지고 있습니다. 그러나 우리의 모델은 이것을 감지할 것이고, 트리를 사용한 많은 분기를 더해줌으로써 이 UID를 나누면서 단일 클라이언트(credit cards)를 찾을 것 입니다."
   ]
  },
  {
   "cell_type": "code",
   "execution_count": 0,
   "metadata": {
    "colab": {},
    "colab_type": "code",
    "id": "3_k4Nqm1-IfN"
   },
   "outputs": [],
   "source": [
    "X_train['day'] = X_train.TransactionDT / (24*60*60)\n",
    "X_train['uid'] = X_train.card1_addr1.astype(str)+'_'+np.floor(X_train.day-X_train.D1).astype(str)\n",
    "\n",
    "X_test['day'] = X_test.TransactionDT / (24*60*60)\n",
    "X_test['uid'] = X_test.card1_addr1.astype(str)+'_'+np.floor(X_test.day-X_test.D1).astype(str)"
   ]
  },
  {
   "cell_type": "markdown",
   "metadata": {
    "colab_type": "text",
    "id": "oyii8h0m_WyL"
   },
   "source": [
    "# Group Aggregation Features\n",
    "  \n",
    "우리의 모델에서 새로운 UID를 사용하기 위해, 많은 집계 그룹 (aggregated group) features를 만드는 것이 필요합니다. 여기서 우리는 47개의 새로운 features를 추가했습니다! 노트북 소개 부분의 그림이 이 작업을 왜 하는지에 대해 설명하고 있습니다. 집계(aggregation) 후에, 우리는 모델에서 UID를 삭제할 것입니다. 직접적으로 UID는 사용하지 않습니다."
   ]
  },
  {
   "cell_type": "code",
   "execution_count": 25,
   "metadata": {
    "colab": {
     "base_uri": "https://localhost:8080/",
     "height": 90
    },
    "colab_type": "code",
    "id": "8aZD4s_yCoZe",
    "outputId": "55f872e6-b536-41c5-c1d6-21d47e907b56"
   },
   "outputs": [
    {
     "name": "stdout",
     "output_type": "stream",
     "text": [
      "uid_FE , 'TransactionAmt_uid_mean' , 'TransactionAmt_uid_std' , 'D4_uid_mean' , 'D4_uid_std' , 'D9_uid_mean' , 'D9_uid_std' , 'D10_uid_mean' , 'D10_uid_std' , 'D15_uid_mean' , 'D15_uid_std' , 'C1_uid_mean' , 'C2_uid_mean' , 'C4_uid_mean' , 'C5_uid_mean' , 'C6_uid_mean' , 'C7_uid_mean' , 'C8_uid_mean' , 'C9_uid_mean' , 'C10_uid_mean' , 'C11_uid_mean' , 'C12_uid_mean' , 'C13_uid_mean' , 'C14_uid_mean' , 'M1_uid_mean' , 'M2_uid_mean' , 'M3_uid_mean' , 'M4_uid_mean' , 'M5_uid_mean' , 'M6_uid_mean' , 'M7_uid_mean' , 'M8_uid_mean' , 'M9_uid_mean' , uid_P_emaildomain_ct, uid_dist1_ct, uid_DT_M_ct, uid_id_02_ct, uid_cents_ct, 'C14_uid_std' , uid_C13_ct, uid_V314_ct, uid_V127_ct, uid_V136_ct, uid_V309_ct, uid_V307_ct, uid_V320_ct, outsider15\n",
      "CPU times: user 2min 33s, sys: 2.92 s, total: 2min 35s\n",
      "Wall time: 2min 35s\n"
     ]
    }
   ],
   "source": [
    "%%time\n",
    "# FREQUENCY ENCODE UID\n",
    "encode_FE(X_train,X_test,['uid'])\n",
    "# AGGREGATE \n",
    "encode_AG(['TransactionAmt','D4','D9','D10','D15'],['uid'],['mean','std'],fillna=True,usena=True)\n",
    "# AGGREGATE\n",
    "encode_AG(['C'+str(x) for x in range(1,15) if x!=3],['uid'],['mean'],X_train,X_test,fillna=True,usena=True)\n",
    "# AGGREGATE\n",
    "encode_AG(['M'+str(x) for x in range(1,10)],['uid'],['mean'],fillna=True,usena=True)\n",
    "# AGGREGATE\n",
    "encode_AG2(['P_emaildomain','dist1','DT_M','id_02','cents'], ['uid'], train_df=X_train, test_df=X_test)\n",
    "# AGGREGATE\n",
    "encode_AG(['C14'],['uid'],['std'],X_train,X_test,fillna=True,usena=True)\n",
    "# AGGREGATE \n",
    "encode_AG2(['C13','V314'], ['uid'], train_df=X_train, test_df=X_test)\n",
    "# AGGREATE \n",
    "encode_AG2(['V127','V136','V309','V307','V320'], ['uid'], train_df=X_train, test_df=X_test)\n",
    "# NEW FEATURE\n",
    "X_train['outsider15'] = (np.abs(X_train.D1-X_train.D15)>3).astype('int8')\n",
    "X_test['outsider15'] = (np.abs(X_test.D1-X_test.D15)>3).astype('int8')\n",
    "print('outsider15')"
   ]
  },
  {
   "cell_type": "code",
   "execution_count": 0,
   "metadata": {
    "colab": {},
    "colab_type": "code",
    "id": "jj1m4em6Ddn7"
   },
   "outputs": [],
   "source": [
    "cols = list( X_train.columns )\n",
    "cols.remove('TransactionDT')\n",
    "for c in ['D6','D7','D8','D9','D12','D13','D14']:\n",
    "    cols.remove(c)\n",
    "for c in ['oof','DT_M','day','uid']:\n",
    "    cols.remove(c)\n",
    "    \n",
    "# FAILED TIME CONSISTENCY TEST\n",
    "for c in ['C3','M5','id_08','id_33']:\n",
    "    cols.remove(c)\n",
    "for c in ['card4','id_07','id_14','id_21','id_30','id_32','id_34']:\n",
    "    cols.remove(c)\n",
    "for c in ['id_'+str(x) for x in range(22,28)]:\n",
    "    cols.remove(c)"
   ]
  },
  {
   "cell_type": "code",
   "execution_count": 27,
   "metadata": {
    "colab": {
     "base_uri": "https://localhost:8080/",
     "height": 923
    },
    "colab_type": "code",
    "id": "U-pJDFg1Deb3",
    "outputId": "e94e15c7-220f-4961-cddc-17e43dbcc843"
   },
   "outputs": [
    {
     "name": "stdout",
     "output_type": "stream",
     "text": [
      "NOW USING THE FOLLOWING 263 FEATURES.\n"
     ]
    },
    {
     "data": {
      "text/plain": [
       "array(['TransactionAmt', 'ProductCD', 'card1', 'card2', 'card3', 'card5',\n",
       "       'card6', 'addr1', 'addr2', 'dist1', 'dist2', 'P_emaildomain',\n",
       "       'R_emaildomain', 'C1', 'C2', 'C4', 'C5', 'C6', 'C7', 'C8', 'C9',\n",
       "       'C10', 'C11', 'C12', 'C13', 'C14', 'D1', 'D2', 'D3', 'D4', 'D5',\n",
       "       'D10', 'D11', 'D15', 'M1', 'M2', 'M3', 'M4', 'M6', 'M7', 'M8',\n",
       "       'M9', 'V1', 'V3', 'V4', 'V6', 'V8', 'V11', 'V13', 'V14', 'V17',\n",
       "       'V20', 'V23', 'V26', 'V27', 'V30', 'V36', 'V37', 'V40', 'V41',\n",
       "       'V44', 'V47', 'V48', 'V54', 'V56', 'V59', 'V62', 'V65', 'V67',\n",
       "       'V68', 'V70', 'V76', 'V78', 'V80', 'V82', 'V86', 'V88', 'V89',\n",
       "       'V91', 'V107', 'V108', 'V111', 'V115', 'V117', 'V120', 'V121',\n",
       "       'V123', 'V124', 'V127', 'V129', 'V130', 'V136', 'V138', 'V139',\n",
       "       'V142', 'V147', 'V156', 'V160', 'V162', 'V165', 'V166', 'V169',\n",
       "       'V171', 'V173', 'V175', 'V176', 'V178', 'V180', 'V182', 'V185',\n",
       "       'V187', 'V188', 'V198', 'V203', 'V205', 'V207', 'V209', 'V210',\n",
       "       'V215', 'V218', 'V220', 'V221', 'V223', 'V224', 'V226', 'V228',\n",
       "       'V229', 'V234', 'V235', 'V238', 'V240', 'V250', 'V252', 'V253',\n",
       "       'V257', 'V258', 'V260', 'V261', 'V264', 'V266', 'V267', 'V271',\n",
       "       'V274', 'V277', 'V281', 'V283', 'V284', 'V285', 'V286', 'V289',\n",
       "       'V291', 'V294', 'V296', 'V297', 'V301', 'V303', 'V305', 'V307',\n",
       "       'V309', 'V310', 'V314', 'V320', 'id_01', 'id_02', 'id_03', 'id_04',\n",
       "       'id_05', 'id_06', 'id_09', 'id_10', 'id_11', 'id_12', 'id_13',\n",
       "       'id_15', 'id_16', 'id_17', 'id_18', 'id_19', 'id_20', 'id_28',\n",
       "       'id_29', 'id_31', 'id_35', 'id_36', 'id_37', 'id_38', 'DeviceType',\n",
       "       'DeviceInfo', 'cents', 'addr1_FE', 'card1_FE', 'card2_FE',\n",
       "       'card3_FE', 'P_emaildomain_FE', 'card1_addr1',\n",
       "       'card1_addr1_P_emaildomain', 'card1_addr1_FE',\n",
       "       'card1_addr1_P_emaildomain_FE', 'TransactionAmt_card1_mean',\n",
       "       'TransactionAmt_card1_std', 'TransactionAmt_card1_addr1_mean',\n",
       "       'TransactionAmt_card1_addr1_std',\n",
       "       'TransactionAmt_card1_addr1_P_emaildomain_mean',\n",
       "       'TransactionAmt_card1_addr1_P_emaildomain_std', 'D9_card1_mean',\n",
       "       'D9_card1_std', 'D9_card1_addr1_mean', 'D9_card1_addr1_std',\n",
       "       'D9_card1_addr1_P_emaildomain_mean',\n",
       "       'D9_card1_addr1_P_emaildomain_std', 'D11_card1_mean',\n",
       "       'D11_card1_std', 'D11_card1_addr1_mean', 'D11_card1_addr1_std',\n",
       "       'D11_card1_addr1_P_emaildomain_mean',\n",
       "       'D11_card1_addr1_P_emaildomain_std', 'uid_FE',\n",
       "       'TransactionAmt_uid_mean', 'TransactionAmt_uid_std', 'D4_uid_mean',\n",
       "       'D4_uid_std', 'D9_uid_mean', 'D9_uid_std', 'D10_uid_mean',\n",
       "       'D10_uid_std', 'D15_uid_mean', 'D15_uid_std', 'C1_uid_mean',\n",
       "       'C2_uid_mean', 'C4_uid_mean', 'C5_uid_mean', 'C6_uid_mean',\n",
       "       'C7_uid_mean', 'C8_uid_mean', 'C9_uid_mean', 'C10_uid_mean',\n",
       "       'C11_uid_mean', 'C12_uid_mean', 'C13_uid_mean', 'C14_uid_mean',\n",
       "       'M1_uid_mean', 'M2_uid_mean', 'M3_uid_mean', 'M4_uid_mean',\n",
       "       'M5_uid_mean', 'M6_uid_mean', 'M7_uid_mean', 'M8_uid_mean',\n",
       "       'M9_uid_mean', 'uid_P_emaildomain_ct', 'uid_dist1_ct',\n",
       "       'uid_DT_M_ct', 'uid_id_02_ct', 'uid_cents_ct', 'C14_uid_std',\n",
       "       'uid_C13_ct', 'uid_V314_ct', 'uid_V127_ct', 'uid_V136_ct',\n",
       "       'uid_V309_ct', 'uid_V307_ct', 'uid_V320_ct', 'outsider15'],\n",
       "      dtype='<U45')"
      ]
     },
     "execution_count": 27,
     "metadata": {
      "tags": []
     },
     "output_type": "execute_result"
    }
   ],
   "source": [
    "print('NOW USING THE FOLLOWING',len(cols),'FEATURES.')\n",
    "np.array(cols)"
   ]
  },
  {
   "cell_type": "markdown",
   "metadata": {
    "colab_type": "text",
    "id": "Cd7kvxFvDftX"
   },
   "source": [
    "# Local Validation\n",
    "  \n",
    "새로운 magic features가 포함된 상태로 local validation을 수행할 것입니다. 이제 Chris' local validation은 AUC = 0.9472 그리고 Konstantin's local validation은 AUC = 0.9343 을 달성했습니다. Magic feature 없이는 AUC = 0.9363 과 AUC = 0.9241 을 달성했던 것을 기억하시나요? 우리는 2개의 validation 모두 AUC 0.01을 얻었고, 이를 통해 LB는 0.95에서 0.96으로 증가하였습니다. Magic feature를 포함한 Konstantic의 LGBM에서 Konstantin local validation은 AUC = 0.9377를 달성했습니다. [여기][1]\n",
    "\n",
    "[1]: https://www.kaggle.com/kyakovlev/ieee-basic-fe-part-1"
   ]
  },
  {
   "cell_type": "code",
   "execution_count": 0,
   "metadata": {
    "colab": {},
    "colab_type": "code",
    "id": "LxlYJcJBEy8N"
   },
   "outputs": [],
   "source": [
    "# CHRIS - TRAIN 75% PREDICT 25%\n",
    "idxT = X_train.index[:3*len(X_train)//4]\n",
    "idxV = X_train.index[3*len(X_train)//4:]\n",
    "\n",
    "# KONSTANTIN - TRAIN 4 SKIP 1 PREDICT 1 MONTH\n",
    "#idxT = X_train.index[:417559]\n",
    "#idxV = X_train.index[-89326:]"
   ]
  },
  {
   "cell_type": "code",
   "execution_count": 31,
   "metadata": {
    "colab": {
     "base_uri": "https://localhost:8080/",
     "height": 318
    },
    "colab_type": "code",
    "id": "nF3LyLZHE0DM",
    "outputId": "cdc3cd60-a1b3-46c9-a481-2bc8215243b9"
   },
   "outputs": [
    {
     "name": "stdout",
     "output_type": "stream",
     "text": [
      "[0]\tvalidation_0-auc:0.81697\n",
      "Will train until validation_0-auc hasn't improved in 100 rounds.\n",
      "[50]\tvalidation_0-auc:0.890905\n",
      "[100]\tvalidation_0-auc:0.907093\n",
      "[150]\tvalidation_0-auc:0.92244\n",
      "[200]\tvalidation_0-auc:0.933128\n",
      "[250]\tvalidation_0-auc:0.939618\n",
      "[300]\tvalidation_0-auc:0.943744\n",
      "[350]\tvalidation_0-auc:0.946104\n",
      "[400]\tvalidation_0-auc:0.946865\n",
      "[450]\tvalidation_0-auc:0.947249\n",
      "[500]\tvalidation_0-auc:0.947612\n",
      "[550]\tvalidation_0-auc:0.947615\n",
      "[600]\tvalidation_0-auc:0.94756\n",
      "Stopping. Best iteration:\n",
      "[513]\tvalidation_0-auc:0.947723\n",
      "\n"
     ]
    }
   ],
   "source": [
    "if BUILD96:\n",
    "    clf = xgb.XGBClassifier( \n",
    "        n_estimators=2000,\n",
    "        max_depth=12, \n",
    "        learning_rate=0.02, \n",
    "        subsample=0.8,\n",
    "        colsample_bytree=0.4, \n",
    "        missing=-1, \n",
    "        eval_metric='auc',\n",
    "        #nthread=4,\n",
    "        #tree_method='hist' \n",
    "        tree_method='gpu_hist' \n",
    "    )\n",
    "    h = clf.fit(X_train.loc[idxT,cols], y_train[idxT], \n",
    "        eval_set=[(X_train.loc[idxV,cols],y_train[idxV])],\n",
    "        verbose=50, early_stopping_rounds=100)"
   ]
  },
  {
   "cell_type": "code",
   "execution_count": 32,
   "metadata": {
    "colab": {
     "base_uri": "https://localhost:8080/",
     "height": 728
    },
    "colab_type": "code",
    "id": "CJjh1FKmE1HW",
    "outputId": "4055c3ef-5e21-4c6d-a364-9ca5c97c0fd2"
   },
   "outputs": [
    {
     "data": {
      "image/png": "[encoded data removed]",
      "text/plain": [
       "<Figure size 1440x720 with 1 Axes>"
      ]
     },
     "metadata": {
      "tags": []
     },
     "output_type": "display_data"
    }
   ],
   "source": [
    "if BUILD96:\n",
    "\n",
    "    feature_imp = pd.DataFrame(sorted(zip(clf.feature_importances_,cols)), columns=['Value','Feature'])\n",
    "\n",
    "    plt.figure(figsize=(20, 10))\n",
    "    sns.barplot(x=\"Value\", y=\"Feature\", data=feature_imp.sort_values(by=\"Value\", ascending=False).iloc[:50])\n",
    "    plt.title('XGB96 Most Important')\n",
    "    plt.tight_layout()\n",
    "    plt.show()\n",
    "        \n",
    "    del clf, h; x=gc.collect()"
   ]
  },
  {
   "cell_type": "markdown",
   "metadata": {
    "colab_type": "text",
    "id": "amclpvOiE2ej"
   },
   "source": [
    "# Predict test.csv"
   ]
  },
  {
   "cell_type": "code",
   "execution_count": 33,
   "metadata": {
    "colab": {
     "base_uri": "https://localhost:8080/",
     "height": 1000
    },
    "colab_type": "code",
    "id": "DqOQDs1PE4FD",
    "outputId": "5c60f0eb-986c-4247-8722-1fee962439a0"
   },
   "outputs": [
    {
     "name": "stdout",
     "output_type": "stream",
     "text": [
      "Fold 0 withholding month 12\n",
      " rows of train = 453219 rows of holdout = 137321\n",
      "[0]\tvalidation_0-auc:0.799536\n",
      "Will train until validation_0-auc hasn't improved in 200 rounds.\n",
      "[100]\tvalidation_0-auc:0.89642\n",
      "[200]\tvalidation_0-auc:0.914381\n",
      "[300]\tvalidation_0-auc:0.920976\n",
      "[400]\tvalidation_0-auc:0.922624\n",
      "[500]\tvalidation_0-auc:0.923177\n",
      "[600]\tvalidation_0-auc:0.924076\n",
      "[700]\tvalidation_0-auc:0.924289\n",
      "[800]\tvalidation_0-auc:0.924141\n",
      "[900]\tvalidation_0-auc:0.924113\n",
      "[1000]\tvalidation_0-auc:0.925044\n",
      "[1100]\tvalidation_0-auc:0.925214\n",
      "[1200]\tvalidation_0-auc:0.92553\n",
      "[1300]\tvalidation_0-auc:0.925914\n",
      "[1400]\tvalidation_0-auc:0.926252\n",
      "[1500]\tvalidation_0-auc:0.92632\n",
      "[1600]\tvalidation_0-auc:0.926778\n",
      "[1700]\tvalidation_0-auc:0.926912\n",
      "[1800]\tvalidation_0-auc:0.927131\n",
      "[1900]\tvalidation_0-auc:0.92732\n",
      "[2000]\tvalidation_0-auc:0.927354\n",
      "[2100]\tvalidation_0-auc:0.927507\n",
      "[2200]\tvalidation_0-auc:0.927885\n",
      "[2300]\tvalidation_0-auc:0.928166\n",
      "[2400]\tvalidation_0-auc:0.928257\n",
      "[2500]\tvalidation_0-auc:0.92862\n",
      "[2600]\tvalidation_0-auc:0.928754\n",
      "[2700]\tvalidation_0-auc:0.928827\n",
      "[2800]\tvalidation_0-auc:0.92881\n",
      "Stopping. Best iteration:\n",
      "[2662]\tvalidation_0-auc:0.928878\n",
      "\n",
      "Fold 1 withholding month 15\n",
      " rows of train = 488908 rows of holdout = 101632\n",
      "[0]\tvalidation_0-auc:0.82444\n",
      "Will train until validation_0-auc hasn't improved in 200 rounds.\n",
      "[100]\tvalidation_0-auc:0.923649\n",
      "[200]\tvalidation_0-auc:0.947331\n",
      "[300]\tvalidation_0-auc:0.956752\n",
      "[400]\tvalidation_0-auc:0.959288\n",
      "[500]\tvalidation_0-auc:0.959857\n",
      "[600]\tvalidation_0-auc:0.960183\n",
      "[700]\tvalidation_0-auc:0.960171\n",
      "[800]\tvalidation_0-auc:0.960119\n",
      "Stopping. Best iteration:\n",
      "[640]\tvalidation_0-auc:0.960284\n",
      "\n",
      "Fold 2 withholding month 13\n",
      " rows of train = 497955 rows of holdout = 92585\n",
      "[0]\tvalidation_0-auc:0.827656\n",
      "Will train until validation_0-auc hasn't improved in 200 rounds.\n",
      "[100]\tvalidation_0-auc:0.921528\n",
      "[200]\tvalidation_0-auc:0.944308\n",
      "[300]\tvalidation_0-auc:0.95517\n",
      "[400]\tvalidation_0-auc:0.958514\n",
      "[500]\tvalidation_0-auc:0.959616\n",
      "[600]\tvalidation_0-auc:0.960072\n",
      "[700]\tvalidation_0-auc:0.960138\n",
      "[800]\tvalidation_0-auc:0.960112\n",
      "[900]\tvalidation_0-auc:0.960196\n",
      "Stopping. Best iteration:\n",
      "[739]\tvalidation_0-auc:0.960276\n",
      "\n",
      "Fold 3 withholding month 17\n",
      " rows of train = 501214 rows of holdout = 89326\n",
      "[0]\tvalidation_0-auc:0.827802\n",
      "Will train until validation_0-auc hasn't improved in 200 rounds.\n",
      "[100]\tvalidation_0-auc:0.910164\n",
      "[200]\tvalidation_0-auc:0.937676\n",
      "[300]\tvalidation_0-auc:0.949527\n",
      "[400]\tvalidation_0-auc:0.952757\n",
      "[500]\tvalidation_0-auc:0.953308\n",
      "[600]\tvalidation_0-auc:0.952986\n",
      "[700]\tvalidation_0-auc:0.952127\n",
      "Stopping. Best iteration:\n",
      "[527]\tvalidation_0-auc:0.953423\n",
      "\n",
      "Fold 4 withholding month 14\n",
      " rows of train = 504519 rows of holdout = 86021\n",
      "[0]\tvalidation_0-auc:0.847882\n",
      "Will train until validation_0-auc hasn't improved in 200 rounds.\n",
      "[100]\tvalidation_0-auc:0.938436\n",
      "[200]\tvalidation_0-auc:0.957191\n",
      "[300]\tvalidation_0-auc:0.964141\n",
      "[400]\tvalidation_0-auc:0.965965\n",
      "[500]\tvalidation_0-auc:0.966481\n",
      "[600]\tvalidation_0-auc:0.966439\n",
      "[700]\tvalidation_0-auc:0.966618\n",
      "[800]\tvalidation_0-auc:0.966522\n",
      "[900]\tvalidation_0-auc:0.966501\n",
      "Stopping. Best iteration:\n",
      "[700]\tvalidation_0-auc:0.966618\n",
      "\n",
      "Fold 5 withholding month 16\n",
      " rows of train = 506885 rows of holdout = 83655\n",
      "[0]\tvalidation_0-auc:0.826793\n",
      "Will train until validation_0-auc hasn't improved in 200 rounds.\n",
      "[100]\tvalidation_0-auc:0.928027\n",
      "[200]\tvalidation_0-auc:0.954582\n",
      "[300]\tvalidation_0-auc:0.965904\n",
      "[400]\tvalidation_0-auc:0.969783\n",
      "[500]\tvalidation_0-auc:0.970904\n",
      "[600]\tvalidation_0-auc:0.971317\n",
      "[700]\tvalidation_0-auc:0.97124\n",
      "Stopping. Best iteration:\n",
      "[583]\tvalidation_0-auc:0.971358\n",
      "\n",
      "####################\n",
      "XGB96 OOF CV= 0.9473519269414155\n"
     ]
    }
   ],
   "source": [
    "if BUILD96:\n",
    "    oof = np.zeros(len(X_train))\n",
    "    preds = np.zeros(len(X_test))\n",
    "\n",
    "    skf = GroupKFold(n_splits=6)\n",
    "    for i, (idxT, idxV) in enumerate( skf.split(X_train, y_train, groups=X_train['DT_M']) ):\n",
    "        month = X_train.iloc[idxV]['DT_M'].iloc[0]\n",
    "        print('Fold',i,'withholding month',month)\n",
    "        print(' rows of train =',len(idxT),'rows of holdout =',len(idxV))\n",
    "        clf = xgb.XGBClassifier(\n",
    "            n_estimators=5000,\n",
    "            max_depth=12,\n",
    "            learning_rate=0.02,\n",
    "            subsample=0.8,\n",
    "            colsample_bytree=0.4,\n",
    "            missing=-1,\n",
    "            eval_metric='auc',\n",
    "            # USE CPU\n",
    "            #nthread=4,\n",
    "            #tree_method='hist'\n",
    "            # USE GPU\n",
    "            tree_method='gpu_hist' \n",
    "        )        \n",
    "        h = clf.fit(X_train[cols].iloc[idxT], y_train.iloc[idxT], \n",
    "                eval_set=[(X_train[cols].iloc[idxV],y_train.iloc[idxV])],\n",
    "                verbose=100, early_stopping_rounds=200)\n",
    "    \n",
    "        oof[idxV] += clf.predict_proba(X_train[cols].iloc[idxV])[:,1]\n",
    "        preds += clf.predict_proba(X_test[cols])[:,1]/skf.n_splits\n",
    "        del h, clf\n",
    "        x=gc.collect()\n",
    "    print('#'*20)\n",
    "    print ('XGB96 OOF CV=',roc_auc_score(y_train,oof))"
   ]
  },
  {
   "cell_type": "code",
   "execution_count": 34,
   "metadata": {
    "colab": {
     "base_uri": "https://localhost:8080/",
     "height": 281
    },
    "colab_type": "code",
    "id": "jlrqkt-hE_AU",
    "outputId": "75102c4f-01bd-4723-f29b-3a440af72a80"
   },
   "outputs": [
    {
     "data": {
      "image/png": "[encoded data removed]",
      "text/plain": [
       "<Figure size 432x288 with 1 Axes>"
      ]
     },
     "metadata": {
      "tags": []
     },
     "output_type": "display_data"
    }
   ],
   "source": [
    "if BUILD96:\n",
    "    plt.hist(oof,bins=100)\n",
    "    plt.ylim((0,5000))\n",
    "    plt.title('XGB OOF')\n",
    "    plt.show()\n",
    "\n",
    "    X_train['oof'] = oof\n",
    "    X_train.reset_index(inplace=True)\n",
    "    X_train[['TransactionID','oof']].to_csv('oof_xgb_96.csv')\n",
    "    X_train.set_index('TransactionID',drop=True,inplace=True)"
   ]
  },
  {
   "cell_type": "markdown",
   "metadata": {
    "colab_type": "text",
    "id": "1t9p3lOuFBoZ"
   },
   "source": [
    "# Kaggle Submission File XGB_96"
   ]
  },
  {
   "cell_type": "code",
   "execution_count": 35,
   "metadata": {
    "colab": {
     "base_uri": "https://localhost:8080/",
     "height": 281
    },
    "colab_type": "code",
    "id": "9NZRGSbqFAeH",
    "outputId": "f54c5f72-2699-42e4-9f74-9b8017e53db8"
   },
   "outputs": [
    {
     "data": {
      "image/png": "[encoded data removed]",
      "text/plain": [
       "<Figure size 432x288 with 1 Axes>"
      ]
     },
     "metadata": {
      "tags": []
     },
     "output_type": "display_data"
    }
   ],
   "source": [
    "if BUILD96:\n",
    "    sample_submission = pd.read_csv('../input/ieee-fraud-detection/sample_submission.csv')\n",
    "    sample_submission.isFraud = preds\n",
    "    sample_submission.to_csv('sub_xgb_96.csv',index=False)\n",
    "\n",
    "    plt.hist(sample_submission.isFraud,bins=100)\n",
    "    plt.ylim((0,5000))\n",
    "    plt.title('XGB96 Submission')\n",
    "    plt.show()"
   ]
  },
  {
   "cell_type": "markdown",
   "metadata": {
    "colab_type": "text",
    "id": "Uz3WDxzzFGIv"
   },
   "source": [
    "![image](http://playagricola.com/Kaggle/9600.png)"
   ]
  },
  {
   "cell_type": "markdown",
   "metadata": {
    "colab_type": "text",
    "id": "9cRH-Em6FKtN"
   },
   "source": [
    "# Post Process File XGB_96_PP\n",
    "  \n",
    "저희의 마지막 submission은 XGB, CatBoost 그리고 LGBM의 앙상블입니다. 여기에 CatBoost와 LGBM은 load하지 않았지만, 후처리에 대해 보여줄 것입니다. Konstantin은 정확한 UIDs (`card1_addr1_D1n`보다 더 정확한)를 찾는 [스크립트]를 작성했습니다. 저희는 각 uid가 클라이언트(credit card)를 나타낸다고 믿습니다. 분석에서는 한 client(Konstantin의 UID 중 하나)로 부터 이루어진 모든 트랜잭션은 다 `isFraud=0` 또는 다 `isFraud=1`이라는 것을 보여줍니다. 다시 말해서, 그들의 모든 예측은 다 같다는 것입니다. 그러므로 저희의 후처리는 한 클라이언트로 부터 이루어진 모든 예측을 train 데이터셋의 `isFraud` 값을 포함한 그들의 예측 평균으로 대체할 것입니다. 저희는 2가지 좀 다른 버전을 가지고 있고, 이 것들을 순서적으로 적용합니다.\n",
    "  \n",
    "저희의 XGB 모델에 후 처리를 적용한 것은 Public LB를 0.9602에서 0.9618 로 증가시켰습니다. 그리고 Private LB를 0.9324에서 0.9341 로 증가시켰습니다. LB 0.0016 향상을 이뤄냈습니다.\n",
    "\n",
    "\n",
    "[1]: https://www.kaggle.com/kyakovlev/ieee-uid-detection-v6"
   ]
  },
  {
   "cell_type": "code",
   "execution_count": 0,
   "metadata": {
    "colab": {},
    "colab_type": "code",
    "id": "4HC2QM5SKVxP"
   },
   "outputs": [],
   "source": [
    "X_test['isFraud'] = sample_submission.isFraud.values\n",
    "X_train['isFraud'] = y_train.values\n",
    "comb = pd.concat([X_train[['isFraud']],X_test[['isFraud']]],axis=0)\n",
    "\n",
    "uids = pd.read_csv('/kaggle/input/ieee-submissions-and-uids/uids_v4_no_multiuid_cleaning.csv',usecols=['TransactionID','uid']).rename({'uid':'uid2'},axis=1)\n",
    "comb = comb.merge(uids,on='TransactionID',how='left')\n",
    "mp = comb.groupby('uid2').isFraud.agg(['mean'])\n",
    "comb.loc[comb.uid2>0,'isFraud'] = comb.loc[comb.uid2>0].uid2.map(mp['mean'])\n",
    "\n",
    "uids = pd.read_csv('/kaggle/input/ieee-submissions-and-uids/uids_v1_no_multiuid_cleaning.csv',usecols=['TransactionID','uid']).rename({'uid':'uid3'},axis=1)\n",
    "comb = comb.merge(uids,on='TransactionID',how='left')\n",
    "mp = comb.groupby('uid3').isFraud.agg(['mean'])\n",
    "comb.loc[comb.uid3>0,'isFraud'] = comb.loc[comb.uid3>0].uid3.map(mp['mean'])\n",
    "\n",
    "sample_submission.isFraud = comb.iloc[len(X_train):].isFraud.values\n",
    "sample_submission.to_csv('sub_xgb_96_PP.csv',index=False)"
   ]
  },
  {
   "cell_type": "markdown",
   "metadata": {},
   "source": [
    "![image](http://playagricola.com/Kaggle/xgbpp.png)"
   ]
  }
 ],
 "metadata": {
  "accelerator": "GPU",
  "colab": {
   "collapsed_sections": [],
   "name": "[KOR] IEEE Fraud Detection Model.ipynb",
   "provenance": []
  },
  "kernelspec": {
   "display_name": "Python 3",
   "language": "python",
   "name": "python3"
  },
  "language_info": {
   "codemirror_mode": {
    "name": "ipython",
    "version": 3
   },
   "file_extension": ".py",
   "mimetype": "text/x-python",
   "name": "python",
   "nbconvert_exporter": "python",
   "pygments_lexer": "ipython3",
   "version": "3.7.3"
  }
 },
 "nbformat": 4,
 "nbformat_minor": 1
}
