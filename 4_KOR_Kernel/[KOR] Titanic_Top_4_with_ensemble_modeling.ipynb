{
  "nbformat": 4,
  "nbformat_minor": 0,
  "metadata": {
    "colab": {
      "name": "[KOR] Titanic Top 4% with ensemble modeling.ipynb",
      "provenance": [],
      "collapsed_sections": [],
      "toc_visible": true
    },
    "kernelspec": {
      "name": "python3",
      "display_name": "Python 3"
    }
  },
  "cells": [
    {
      "cell_type": "markdown",
      "metadata": {
        "id": "afwJEjRX01NY",
        "colab_type": "text"
      },
      "source": [
        "**1 도입**<br>\n",
        "**2 데이터 로드 및 체크**<br>\n",
        "*   2.1 데이터 로드\n",
        "*   2.2 이상치 탐색\n",
        "*   2.3 train과 test셋 결합\n",
        "*   2.4 null과 결측값 체크\n",
        "\n",
        "**3 특성 분석**\n",
        "*   3.1 수치형 변수\n",
        "*   3.2 범주형 변수\n",
        "\n",
        "**4 결측값 채우기**\n",
        "*   4.1 Age\n",
        "\n",
        "**5 특성 공학**\n",
        "*   5.1 Name/Title\n",
        "*   5.2 Family Size\n",
        "*   5.3 Cabin\n",
        "*   5.4 Ticket\n",
        "\n",
        "**6 모델링**\n",
        "*   6.1 Simple modeling\n",
        "    <br>1) 교차 검증\n",
        "    <br>2) 최적 모델을 위한 하이퍼 파라미터 튜닝\n",
        "    <br>3) 학습 곡선 그리기\n",
        "    <br>4) Feature importance of the tree based classifiers \n",
        "*   6.2 Ensemble modeling\n",
        "    <br>1) Combining models\n",
        "*   6.3 Prediction\n",
        "    <br>1) Predict and Submit results\n",
        "\n",
        "\n",
        "\n",
        "\n",
        "\n",
        "\n",
        "\n",
        "\n",
        "\n",
        "\n",
        "\n",
        "\n",
        "\n"
      ]
    },
    {
      "cell_type": "markdown",
      "metadata": {
        "id": "fhtF--IS6U2F",
        "colab_type": "text"
      },
      "source": [
        "# 1. 도입\n",
        "Titanic competition은 feature engineering 과 ensemble modeling을 소개하기에 좋아 이것을 Kaggle에서의 내 첫 번째 커널로 선택했다. 첫째로, 나는 몇몇 feature를 분석 후 feature engineering에 중점을 둘 것이다. 마지막 파트에서는 voting 절차를 이용한 Titanic의 생존율을 modeling과 predicting 할 것이다.\n",
        "\n",
        "이 스크립트는 다음과 같이 세 개의 메인 파트로 구분된다:\n",
        "*   Feature analysis\n",
        "*   Feature engineering\n",
        "*   Modeling"
      ]
    },
    {
      "cell_type": "code",
      "metadata": {
        "id": "o1iXntnBuVoG",
        "colab_type": "code",
        "colab": {}
      },
      "source": [
        "import pandas as pd\n",
        "import numpy as np\n",
        "import matplotlib.pyplot as plt\n",
        "%matplotlib inline\n",
        "import seaborn as sns\n",
        "\n",
        "from collections import Counter\n",
        "\n",
        "from sklearn.ensemble import RandomForestClassifier, AdaBoostClassifier, GradientBoostingClassifier, ExtraTreesClassifier, VotingClassifier\n",
        "from sklearn.discriminant_analysis import LinearDiscriminantAnalysis\n",
        "from sklearn.linear_model import LogisticRegression\n",
        "from sklearn.neighbors import KNeighborsClassifier\n",
        "from sklearn.tree import DecisionTreeClassifier\n",
        "from sklearn.neural_network import MLPClassifier\n",
        "from sklearn.svm import SVC\n",
        "from sklearn.model_selection import GridSearchCV, cross_val_score, StratifiedKFold, learning_curve\n",
        "\n",
        "sns.set(style='white', context='notebook', palette='deep')"
      ],
      "execution_count": 0,
      "outputs": []
    },
    {
      "cell_type": "code",
      "metadata": {
        "id": "RWdV3N9eu7Fh",
        "colab_type": "code",
        "outputId": "2fc15b36-af04-4356-cfb9-848cf66f0230",
        "colab": {
          "base_uri": "https://localhost:8080/",
          "height": 34
        }
      },
      "source": [
        "!ls"
      ],
      "execution_count": 2,
      "outputs": [
        {
          "output_type": "stream",
          "text": [
            "gdrive\tsample_data\n"
          ],
          "name": "stdout"
        }
      ]
    },
    {
      "cell_type": "code",
      "metadata": {
        "id": "66YcsxaYNu72",
        "colab_type": "code",
        "colab": {}
      },
      "source": [
        "# from google.colab import files\n",
        "# uploaded = files.upload()"
      ],
      "execution_count": 0,
      "outputs": []
    },
    {
      "cell_type": "markdown",
      "metadata": {
        "id": "Z-ZCcr6nOF92",
        "colab_type": "text"
      },
      "source": [
        "#2. 데이터 로드 및 확인\n",
        "2.1 데이터 로드"
      ]
    },
    {
      "cell_type": "code",
      "metadata": {
        "id": "UzPCmf-CvBcK",
        "colab_type": "code",
        "outputId": "942055c3-3beb-4be3-de5b-3b551e91a91e",
        "colab": {
          "base_uri": "https://localhost:8080/",
          "height": 52
        }
      },
      "source": [
        "# Load data\n",
        "#### Load train and Test set\n",
        "import os\n",
        "print(os.getcwd())\n",
        "!ls"
      ],
      "execution_count": 4,
      "outputs": [
        {
          "output_type": "stream",
          "text": [
            "/content\n",
            "gdrive\tsample_data\n"
          ],
          "name": "stdout"
        }
      ]
    },
    {
      "cell_type": "code",
      "metadata": {
        "id": "3mElE1H9X-lZ",
        "colab_type": "code",
        "outputId": "2a9b2e59-531a-4ede-94f2-2b8bba012976",
        "colab": {
          "base_uri": "https://localhost:8080/",
          "height": 54
        }
      },
      "source": [
        "from google.colab import drive\n",
        "drive.mount('/content/gdrive')"
      ],
      "execution_count": 5,
      "outputs": [
        {
          "output_type": "stream",
          "text": [
            "Drive already mounted at /content/gdrive; to attempt to forcibly remount, call drive.mount(\"/content/gdrive\", force_remount=True).\n"
          ],
          "name": "stdout"
        }
      ]
    },
    {
      "cell_type": "code",
      "metadata": {
        "id": "qqbsjKZRYP6H",
        "colab_type": "code",
        "colab": {}
      },
      "source": [
        "train = pd.read_csv('gdrive/My Drive/kaggleData/train.csv')\n",
        "test = pd.read_csv('gdrive/My Drive/kaggleData/train.csv')\n",
        "IDtest = test['PassengerId']"
      ],
      "execution_count": 0,
      "outputs": []
    },
    {
      "cell_type": "code",
      "metadata": {
        "id": "enZwAYKYarvN",
        "colab_type": "code",
        "outputId": "57d218d9-8c14-4352-a1b6-ad09a61181d0",
        "colab": {
          "base_uri": "https://localhost:8080/",
          "height": 484
        }
      },
      "source": [
        "test.head()"
      ],
      "execution_count": 7,
      "outputs": [
        {
          "output_type": "execute_result",
          "data": {
            "text/html": [
              "<div>\n",
              "<style scoped>\n",
              "    .dataframe tbody tr th:only-of-type {\n",
              "        vertical-align: middle;\n",
              "    }\n",
              "\n",
              "    .dataframe tbody tr th {\n",
              "        vertical-align: top;\n",
              "    }\n",
              "\n",
              "    .dataframe thead th {\n",
              "        text-align: right;\n",
              "    }\n",
              "</style>\n",
              "<table border=\"1\" class=\"dataframe\">\n",
              "  <thead>\n",
              "    <tr style=\"text-align: right;\">\n",
              "      <th></th>\n",
              "      <th>PassengerId</th>\n",
              "      <th>Survived</th>\n",
              "      <th>Pclass</th>\n",
              "      <th>Name</th>\n",
              "      <th>Sex</th>\n",
              "      <th>Age</th>\n",
              "      <th>SibSp</th>\n",
              "      <th>Parch</th>\n",
              "      <th>Ticket</th>\n",
              "      <th>Fare</th>\n",
              "      <th>Cabin</th>\n",
              "      <th>Embarked</th>\n",
              "    </tr>\n",
              "  </thead>\n",
              "  <tbody>\n",
              "    <tr>\n",
              "      <th>0</th>\n",
              "      <td>1</td>\n",
              "      <td>0</td>\n",
              "      <td>3</td>\n",
              "      <td>Braund, Mr. Owen Harris</td>\n",
              "      <td>male</td>\n",
              "      <td>22.0</td>\n",
              "      <td>1</td>\n",
              "      <td>0</td>\n",
              "      <td>A/5 21171</td>\n",
              "      <td>7.2500</td>\n",
              "      <td>NaN</td>\n",
              "      <td>S</td>\n",
              "    </tr>\n",
              "    <tr>\n",
              "      <th>1</th>\n",
              "      <td>2</td>\n",
              "      <td>1</td>\n",
              "      <td>1</td>\n",
              "      <td>Cumings, Mrs. John Bradley (Florence Briggs Th...</td>\n",
              "      <td>female</td>\n",
              "      <td>38.0</td>\n",
              "      <td>1</td>\n",
              "      <td>0</td>\n",
              "      <td>PC 17599</td>\n",
              "      <td>71.2833</td>\n",
              "      <td>C85</td>\n",
              "      <td>C</td>\n",
              "    </tr>\n",
              "    <tr>\n",
              "      <th>2</th>\n",
              "      <td>3</td>\n",
              "      <td>1</td>\n",
              "      <td>3</td>\n",
              "      <td>Heikkinen, Miss. Laina</td>\n",
              "      <td>female</td>\n",
              "      <td>26.0</td>\n",
              "      <td>0</td>\n",
              "      <td>0</td>\n",
              "      <td>STON/O2. 3101282</td>\n",
              "      <td>7.9250</td>\n",
              "      <td>NaN</td>\n",
              "      <td>S</td>\n",
              "    </tr>\n",
              "    <tr>\n",
              "      <th>3</th>\n",
              "      <td>4</td>\n",
              "      <td>1</td>\n",
              "      <td>1</td>\n",
              "      <td>Futrelle, Mrs. Jacques Heath (Lily May Peel)</td>\n",
              "      <td>female</td>\n",
              "      <td>35.0</td>\n",
              "      <td>1</td>\n",
              "      <td>0</td>\n",
              "      <td>113803</td>\n",
              "      <td>53.1000</td>\n",
              "      <td>C123</td>\n",
              "      <td>S</td>\n",
              "    </tr>\n",
              "    <tr>\n",
              "      <th>4</th>\n",
              "      <td>5</td>\n",
              "      <td>0</td>\n",
              "      <td>3</td>\n",
              "      <td>Allen, Mr. William Henry</td>\n",
              "      <td>male</td>\n",
              "      <td>35.0</td>\n",
              "      <td>0</td>\n",
              "      <td>0</td>\n",
              "      <td>373450</td>\n",
              "      <td>8.0500</td>\n",
              "      <td>NaN</td>\n",
              "      <td>S</td>\n",
              "    </tr>\n",
              "  </tbody>\n",
              "</table>\n",
              "</div>"
            ],
            "text/plain": [
              "   PassengerId  Survived  Pclass  ...     Fare Cabin  Embarked\n",
              "0            1         0       3  ...   7.2500   NaN         S\n",
              "1            2         1       1  ...  71.2833   C85         C\n",
              "2            3         1       3  ...   7.9250   NaN         S\n",
              "3            4         1       1  ...  53.1000  C123         S\n",
              "4            5         0       3  ...   8.0500   NaN         S\n",
              "\n",
              "[5 rows x 12 columns]"
            ]
          },
          "metadata": {
            "tags": []
          },
          "execution_count": 7
        }
      ]
    },
    {
      "cell_type": "markdown",
      "metadata": {
        "id": "mrukAJe3OZtx",
        "colab_type": "text"
      },
      "source": [
        "2.2 Outlier detection"
      ]
    },
    {
      "cell_type": "code",
      "metadata": {
        "id": "aBl09SkLvXDh",
        "colab_type": "code",
        "colab": {}
      },
      "source": [
        "# Outlier detection\n",
        "\n",
        "def detect_outliers(df, n, features):\n",
        "  \"\"\"\n",
        "  feature의 데이터프레임 df를 가져와서 Tukey 방법에 따라 \n",
        "  n개 이상의 이상치를 포함하는 관측치에 해당하는 인덱스 목록을 반환한다.\"\"\"\n",
        "  \n",
        "  outlier_indices = []\n",
        "\n",
        "  # iterate over features(columns)\n",
        "  for col in features:\n",
        "    # 1분위(25%)\n",
        "    Q1 = np.percentile(df[col], 25)\n",
        "    # 3분위(75%)\n",
        "    Q3 = np.percentile(df[col],75)\n",
        "    # 사분위수 범위(IQR: Interquartile range)\n",
        "    IQR = Q3 - Q1\n",
        "\n",
        "    # 이상치 스텝\n",
        "    outlier_step = 1.5 * IQR\n",
        "\n",
        "    # feature 열에 대한 이상치의 인덱스 목록 결정\n",
        "    outlier_list_col = df[(df[col] < Q1 - outlier_step) | (df[col] > Q3 + outlier_step)].index\n",
        "\n",
        "    # 열에 대해 찾은 이상치 인덱스를 이상치 인덱스 목록에 추가\n",
        "    outlier_indices.extend(outlier_list_col)\n",
        "\n",
        "  # 이상치가 2개 이상인 관측값 선택\n",
        "  outlier_indices = Counter(outlier_indices)\n",
        "  multiple_outliers = list(k for k, v in outlier_indices.items() if v > n)\n",
        "\n",
        "  return multiple_outliers\n",
        "\n",
        "# Age, SibSp, Parch, Fare 의 이상치 탐색\n",
        "Outliers_to_drop = detect_outliers(train, 2, ['Age','SibSp','Parch','Fare'])"
      ],
      "execution_count": 0,
      "outputs": []
    },
    {
      "cell_type": "markdown",
      "metadata": {
        "id": "jZQGai6qma5t",
        "colab_type": "text"
      },
      "source": [
        "이상치는 예측(특히, 회귀 문제)에 큰 영향을 미칠 수 있기 때문에 이를 관리하기로 했다.\n",
        "\n",
        "여기서는 Tukey 방법(Tukey JW., 1977)을 사용하여 분포값(IQR)의 1사분위와 3사분위 사이에 포함된 사분위수 범위를 정의하는 이상치를 탐색했다. 이상치는 (IQR +- 이상치 스텝) 외부에 feature 값이 있는 행이다.\n",
        "\n",
        "수치값 feature(Age, SibSp, Parch, Fare)들에서 이상치를 탐색하기로 결정했다. 그 후 이상치를 적어도 두 개의 이상 수치값이 있는 행으로 간주했다."
      ]
    },
    {
      "cell_type": "code",
      "metadata": {
        "id": "yORjupMlOwXz",
        "colab_type": "code",
        "outputId": "d8e72483-65f7-435a-c9f4-763eb7bf6c71",
        "colab": {
          "base_uri": "https://localhost:8080/",
          "height": 817
        }
      },
      "source": [
        "train.loc[Outliers_to_drop]   # 이상치 열 나타내기"
      ],
      "execution_count": 9,
      "outputs": [
        {
          "output_type": "execute_result",
          "data": {
            "text/html": [
              "<div>\n",
              "<style scoped>\n",
              "    .dataframe tbody tr th:only-of-type {\n",
              "        vertical-align: middle;\n",
              "    }\n",
              "\n",
              "    .dataframe tbody tr th {\n",
              "        vertical-align: top;\n",
              "    }\n",
              "\n",
              "    .dataframe thead th {\n",
              "        text-align: right;\n",
              "    }\n",
              "</style>\n",
              "<table border=\"1\" class=\"dataframe\">\n",
              "  <thead>\n",
              "    <tr style=\"text-align: right;\">\n",
              "      <th></th>\n",
              "      <th>PassengerId</th>\n",
              "      <th>Survived</th>\n",
              "      <th>Pclass</th>\n",
              "      <th>Name</th>\n",
              "      <th>Sex</th>\n",
              "      <th>Age</th>\n",
              "      <th>SibSp</th>\n",
              "      <th>Parch</th>\n",
              "      <th>Ticket</th>\n",
              "      <th>Fare</th>\n",
              "      <th>Cabin</th>\n",
              "      <th>Embarked</th>\n",
              "    </tr>\n",
              "  </thead>\n",
              "  <tbody>\n",
              "    <tr>\n",
              "      <th>27</th>\n",
              "      <td>28</td>\n",
              "      <td>0</td>\n",
              "      <td>1</td>\n",
              "      <td>Fortune, Mr. Charles Alexander</td>\n",
              "      <td>male</td>\n",
              "      <td>19.0</td>\n",
              "      <td>3</td>\n",
              "      <td>2</td>\n",
              "      <td>19950</td>\n",
              "      <td>263.00</td>\n",
              "      <td>C23 C25 C27</td>\n",
              "      <td>S</td>\n",
              "    </tr>\n",
              "    <tr>\n",
              "      <th>88</th>\n",
              "      <td>89</td>\n",
              "      <td>1</td>\n",
              "      <td>1</td>\n",
              "      <td>Fortune, Miss. Mabel Helen</td>\n",
              "      <td>female</td>\n",
              "      <td>23.0</td>\n",
              "      <td>3</td>\n",
              "      <td>2</td>\n",
              "      <td>19950</td>\n",
              "      <td>263.00</td>\n",
              "      <td>C23 C25 C27</td>\n",
              "      <td>S</td>\n",
              "    </tr>\n",
              "    <tr>\n",
              "      <th>159</th>\n",
              "      <td>160</td>\n",
              "      <td>0</td>\n",
              "      <td>3</td>\n",
              "      <td>Sage, Master. Thomas Henry</td>\n",
              "      <td>male</td>\n",
              "      <td>NaN</td>\n",
              "      <td>8</td>\n",
              "      <td>2</td>\n",
              "      <td>CA. 2343</td>\n",
              "      <td>69.55</td>\n",
              "      <td>NaN</td>\n",
              "      <td>S</td>\n",
              "    </tr>\n",
              "    <tr>\n",
              "      <th>180</th>\n",
              "      <td>181</td>\n",
              "      <td>0</td>\n",
              "      <td>3</td>\n",
              "      <td>Sage, Miss. Constance Gladys</td>\n",
              "      <td>female</td>\n",
              "      <td>NaN</td>\n",
              "      <td>8</td>\n",
              "      <td>2</td>\n",
              "      <td>CA. 2343</td>\n",
              "      <td>69.55</td>\n",
              "      <td>NaN</td>\n",
              "      <td>S</td>\n",
              "    </tr>\n",
              "    <tr>\n",
              "      <th>201</th>\n",
              "      <td>202</td>\n",
              "      <td>0</td>\n",
              "      <td>3</td>\n",
              "      <td>Sage, Mr. Frederick</td>\n",
              "      <td>male</td>\n",
              "      <td>NaN</td>\n",
              "      <td>8</td>\n",
              "      <td>2</td>\n",
              "      <td>CA. 2343</td>\n",
              "      <td>69.55</td>\n",
              "      <td>NaN</td>\n",
              "      <td>S</td>\n",
              "    </tr>\n",
              "    <tr>\n",
              "      <th>324</th>\n",
              "      <td>325</td>\n",
              "      <td>0</td>\n",
              "      <td>3</td>\n",
              "      <td>Sage, Mr. George John Jr</td>\n",
              "      <td>male</td>\n",
              "      <td>NaN</td>\n",
              "      <td>8</td>\n",
              "      <td>2</td>\n",
              "      <td>CA. 2343</td>\n",
              "      <td>69.55</td>\n",
              "      <td>NaN</td>\n",
              "      <td>S</td>\n",
              "    </tr>\n",
              "    <tr>\n",
              "      <th>341</th>\n",
              "      <td>342</td>\n",
              "      <td>1</td>\n",
              "      <td>1</td>\n",
              "      <td>Fortune, Miss. Alice Elizabeth</td>\n",
              "      <td>female</td>\n",
              "      <td>24.0</td>\n",
              "      <td>3</td>\n",
              "      <td>2</td>\n",
              "      <td>19950</td>\n",
              "      <td>263.00</td>\n",
              "      <td>C23 C25 C27</td>\n",
              "      <td>S</td>\n",
              "    </tr>\n",
              "    <tr>\n",
              "      <th>792</th>\n",
              "      <td>793</td>\n",
              "      <td>0</td>\n",
              "      <td>3</td>\n",
              "      <td>Sage, Miss. Stella Anna</td>\n",
              "      <td>female</td>\n",
              "      <td>NaN</td>\n",
              "      <td>8</td>\n",
              "      <td>2</td>\n",
              "      <td>CA. 2343</td>\n",
              "      <td>69.55</td>\n",
              "      <td>NaN</td>\n",
              "      <td>S</td>\n",
              "    </tr>\n",
              "    <tr>\n",
              "      <th>846</th>\n",
              "      <td>847</td>\n",
              "      <td>0</td>\n",
              "      <td>3</td>\n",
              "      <td>Sage, Mr. Douglas Bullen</td>\n",
              "      <td>male</td>\n",
              "      <td>NaN</td>\n",
              "      <td>8</td>\n",
              "      <td>2</td>\n",
              "      <td>CA. 2343</td>\n",
              "      <td>69.55</td>\n",
              "      <td>NaN</td>\n",
              "      <td>S</td>\n",
              "    </tr>\n",
              "    <tr>\n",
              "      <th>863</th>\n",
              "      <td>864</td>\n",
              "      <td>0</td>\n",
              "      <td>3</td>\n",
              "      <td>Sage, Miss. Dorothy Edith \"Dolly\"</td>\n",
              "      <td>female</td>\n",
              "      <td>NaN</td>\n",
              "      <td>8</td>\n",
              "      <td>2</td>\n",
              "      <td>CA. 2343</td>\n",
              "      <td>69.55</td>\n",
              "      <td>NaN</td>\n",
              "      <td>S</td>\n",
              "    </tr>\n",
              "  </tbody>\n",
              "</table>\n",
              "</div>"
            ],
            "text/plain": [
              "     PassengerId  Survived  Pclass  ...    Fare        Cabin  Embarked\n",
              "27            28         0       1  ...  263.00  C23 C25 C27         S\n",
              "88            89         1       1  ...  263.00  C23 C25 C27         S\n",
              "159          160         0       3  ...   69.55          NaN         S\n",
              "180          181         0       3  ...   69.55          NaN         S\n",
              "201          202         0       3  ...   69.55          NaN         S\n",
              "324          325         0       3  ...   69.55          NaN         S\n",
              "341          342         1       1  ...  263.00  C23 C25 C27         S\n",
              "792          793         0       3  ...   69.55          NaN         S\n",
              "846          847         0       3  ...   69.55          NaN         S\n",
              "863          864         0       3  ...   69.55          NaN         S\n",
              "\n",
              "[10 rows x 12 columns]"
            ]
          },
          "metadata": {
            "tags": []
          },
          "execution_count": 9
        }
      ]
    },
    {
      "cell_type": "markdown",
      "metadata": {
        "id": "EvcMmYMmrRzT",
        "colab_type": "text"
      },
      "source": [
        "10개의 이상치를 탐색한다. 28, 89, 342 승객은 높은 운임료를 보인다. 나머지 7명은 SibSp에서 높은 값을 보인다."
      ]
    },
    {
      "cell_type": "code",
      "metadata": {
        "id": "lQa-7Y6epHrX",
        "colab_type": "code",
        "colab": {}
      },
      "source": [
        "# 이상치 제거\n",
        "train = train.drop(Outliers_to_drop, axis = 0).reset_index(drop=True)"
      ],
      "execution_count": 0,
      "outputs": []
    },
    {
      "cell_type": "markdown",
      "metadata": {
        "id": "OqREaNfvsAa2",
        "colab_type": "text"
      },
      "source": [
        "**2.3 train과 test set 결합하기**"
      ]
    },
    {
      "cell_type": "code",
      "metadata": {
        "id": "mmvqIrekr7hp",
        "colab_type": "code",
        "colab": {}
      },
      "source": [
        "# 범주 변환 중에 동일한 수의 feature들을 얻기 위해 train과 test 데이터셋을 결합\n",
        "train_len = len(train)\n",
        "dataset = pd.concat(objs=[train, test],axis=0).reset_index(drop=True)"
      ],
      "execution_count": 0,
      "outputs": []
    },
    {
      "cell_type": "markdown",
      "metadata": {
        "id": "XN4VjZNGtQ_4",
        "colab_type": "text"
      },
      "source": [
        "범주 변환 중에 동일한 수의 feature들을 얻기 위해 train과 test 데이터셋을 결합한다.(feature engineering 참조)"
      ]
    },
    {
      "cell_type": "markdown",
      "metadata": {
        "id": "4ZBRs0WotpSO",
        "colab_type": "text"
      },
      "source": [
        "**2.4 null과 결측값 확인**"
      ]
    },
    {
      "cell_type": "code",
      "metadata": {
        "id": "meVCAjnxtnuj",
        "colab_type": "code",
        "outputId": "a22a3dbc-0310-4068-ab39-c156a5595c10",
        "colab": {
          "base_uri": "https://localhost:8080/",
          "height": 246
        }
      },
      "source": [
        "# 비어있는 값과 NaN값을 NaN으로 채우기\n",
        "dataset = dataset.fillna(np.nan)\n",
        "\n",
        "# Null 값 체크\n",
        "dataset.isnull().sum()"
      ],
      "execution_count": 12,
      "outputs": [
        {
          "output_type": "execute_result",
          "data": {
            "text/plain": [
              "PassengerId       0\n",
              "Survived          0\n",
              "Pclass            0\n",
              "Name              0\n",
              "Sex               0\n",
              "Age             347\n",
              "SibSp             0\n",
              "Parch             0\n",
              "Ticket            0\n",
              "Fare              0\n",
              "Cabin          1367\n",
              "Embarked          4\n",
              "dtype: int64"
            ]
          },
          "metadata": {
            "tags": []
          },
          "execution_count": 12
        }
      ]
    },
    {
      "cell_type": "markdown",
      "metadata": {
        "id": "ZDfi2l18vNMA",
        "colab_type": "text"
      },
      "source": [
        "Age와 Cabin feature는 결측값에서 중요한 부분을 차지한다.\n",
        "\n",
        "**Survived 결측값은 결합한 testing dataset에 해당한다.(Survived 열은 test set에 존재하지 않으며, train과 test set을 합칠 때 NaN 값으로 대체되었다.)**"
      ]
    },
    {
      "cell_type": "code",
      "metadata": {
        "id": "XB_LH2fduejx",
        "colab_type": "code",
        "outputId": "b47ca2a6-0987-463c-d41a-c31399c85830",
        "colab": {
          "base_uri": "https://localhost:8080/",
          "height": 545
        }
      },
      "source": [
        "# Infos   # 컬럼별 type 확인 및 결측치 확인\n",
        "train.info()\n",
        "train.isnull().sum()"
      ],
      "execution_count": 13,
      "outputs": [
        {
          "output_type": "stream",
          "text": [
            "<class 'pandas.core.frame.DataFrame'>\n",
            "RangeIndex: 881 entries, 0 to 880\n",
            "Data columns (total 12 columns):\n",
            "PassengerId    881 non-null int64\n",
            "Survived       881 non-null int64\n",
            "Pclass         881 non-null int64\n",
            "Name           881 non-null object\n",
            "Sex            881 non-null object\n",
            "Age            711 non-null float64\n",
            "SibSp          881 non-null int64\n",
            "Parch          881 non-null int64\n",
            "Ticket         881 non-null object\n",
            "Fare           881 non-null float64\n",
            "Cabin          201 non-null object\n",
            "Embarked       879 non-null object\n",
            "dtypes: float64(2), int64(5), object(5)\n",
            "memory usage: 82.7+ KB\n"
          ],
          "name": "stdout"
        },
        {
          "output_type": "execute_result",
          "data": {
            "text/plain": [
              "PassengerId      0\n",
              "Survived         0\n",
              "Pclass           0\n",
              "Name             0\n",
              "Sex              0\n",
              "Age            170\n",
              "SibSp            0\n",
              "Parch            0\n",
              "Ticket           0\n",
              "Fare             0\n",
              "Cabin          680\n",
              "Embarked         2\n",
              "dtype: int64"
            ]
          },
          "metadata": {
            "tags": []
          },
          "execution_count": 13
        }
      ]
    },
    {
      "cell_type": "code",
      "metadata": {
        "id": "7yrmX9N9xovw",
        "colab_type": "code",
        "outputId": "43dbdecc-c0df-4e76-c8e1-2d05cde40036",
        "colab": {
          "base_uri": "https://localhost:8080/",
          "height": 484
        }
      },
      "source": [
        "train.head()"
      ],
      "execution_count": 14,
      "outputs": [
        {
          "output_type": "execute_result",
          "data": {
            "text/html": [
              "<div>\n",
              "<style scoped>\n",
              "    .dataframe tbody tr th:only-of-type {\n",
              "        vertical-align: middle;\n",
              "    }\n",
              "\n",
              "    .dataframe tbody tr th {\n",
              "        vertical-align: top;\n",
              "    }\n",
              "\n",
              "    .dataframe thead th {\n",
              "        text-align: right;\n",
              "    }\n",
              "</style>\n",
              "<table border=\"1\" class=\"dataframe\">\n",
              "  <thead>\n",
              "    <tr style=\"text-align: right;\">\n",
              "      <th></th>\n",
              "      <th>PassengerId</th>\n",
              "      <th>Survived</th>\n",
              "      <th>Pclass</th>\n",
              "      <th>Name</th>\n",
              "      <th>Sex</th>\n",
              "      <th>Age</th>\n",
              "      <th>SibSp</th>\n",
              "      <th>Parch</th>\n",
              "      <th>Ticket</th>\n",
              "      <th>Fare</th>\n",
              "      <th>Cabin</th>\n",
              "      <th>Embarked</th>\n",
              "    </tr>\n",
              "  </thead>\n",
              "  <tbody>\n",
              "    <tr>\n",
              "      <th>0</th>\n",
              "      <td>1</td>\n",
              "      <td>0</td>\n",
              "      <td>3</td>\n",
              "      <td>Braund, Mr. Owen Harris</td>\n",
              "      <td>male</td>\n",
              "      <td>22.0</td>\n",
              "      <td>1</td>\n",
              "      <td>0</td>\n",
              "      <td>A/5 21171</td>\n",
              "      <td>7.2500</td>\n",
              "      <td>NaN</td>\n",
              "      <td>S</td>\n",
              "    </tr>\n",
              "    <tr>\n",
              "      <th>1</th>\n",
              "      <td>2</td>\n",
              "      <td>1</td>\n",
              "      <td>1</td>\n",
              "      <td>Cumings, Mrs. John Bradley (Florence Briggs Th...</td>\n",
              "      <td>female</td>\n",
              "      <td>38.0</td>\n",
              "      <td>1</td>\n",
              "      <td>0</td>\n",
              "      <td>PC 17599</td>\n",
              "      <td>71.2833</td>\n",
              "      <td>C85</td>\n",
              "      <td>C</td>\n",
              "    </tr>\n",
              "    <tr>\n",
              "      <th>2</th>\n",
              "      <td>3</td>\n",
              "      <td>1</td>\n",
              "      <td>3</td>\n",
              "      <td>Heikkinen, Miss. Laina</td>\n",
              "      <td>female</td>\n",
              "      <td>26.0</td>\n",
              "      <td>0</td>\n",
              "      <td>0</td>\n",
              "      <td>STON/O2. 3101282</td>\n",
              "      <td>7.9250</td>\n",
              "      <td>NaN</td>\n",
              "      <td>S</td>\n",
              "    </tr>\n",
              "    <tr>\n",
              "      <th>3</th>\n",
              "      <td>4</td>\n",
              "      <td>1</td>\n",
              "      <td>1</td>\n",
              "      <td>Futrelle, Mrs. Jacques Heath (Lily May Peel)</td>\n",
              "      <td>female</td>\n",
              "      <td>35.0</td>\n",
              "      <td>1</td>\n",
              "      <td>0</td>\n",
              "      <td>113803</td>\n",
              "      <td>53.1000</td>\n",
              "      <td>C123</td>\n",
              "      <td>S</td>\n",
              "    </tr>\n",
              "    <tr>\n",
              "      <th>4</th>\n",
              "      <td>5</td>\n",
              "      <td>0</td>\n",
              "      <td>3</td>\n",
              "      <td>Allen, Mr. William Henry</td>\n",
              "      <td>male</td>\n",
              "      <td>35.0</td>\n",
              "      <td>0</td>\n",
              "      <td>0</td>\n",
              "      <td>373450</td>\n",
              "      <td>8.0500</td>\n",
              "      <td>NaN</td>\n",
              "      <td>S</td>\n",
              "    </tr>\n",
              "  </tbody>\n",
              "</table>\n",
              "</div>"
            ],
            "text/plain": [
              "   PassengerId  Survived  Pclass  ...     Fare Cabin  Embarked\n",
              "0            1         0       3  ...   7.2500   NaN         S\n",
              "1            2         1       1  ...  71.2833   C85         C\n",
              "2            3         1       3  ...   7.9250   NaN         S\n",
              "3            4         1       1  ...  53.1000  C123         S\n",
              "4            5         0       3  ...   8.0500   NaN         S\n",
              "\n",
              "[5 rows x 12 columns]"
            ]
          },
          "metadata": {
            "tags": []
          },
          "execution_count": 14
        }
      ]
    },
    {
      "cell_type": "code",
      "metadata": {
        "id": "DQvpiMFsyzdK",
        "colab_type": "code",
        "outputId": "033625ea-8166-438a-e6b5-683bcde80ea9",
        "colab": {
          "base_uri": "https://localhost:8080/",
          "height": 246
        }
      },
      "source": [
        "train.dtypes"
      ],
      "execution_count": 15,
      "outputs": [
        {
          "output_type": "execute_result",
          "data": {
            "text/plain": [
              "PassengerId      int64\n",
              "Survived         int64\n",
              "Pclass           int64\n",
              "Name            object\n",
              "Sex             object\n",
              "Age            float64\n",
              "SibSp            int64\n",
              "Parch            int64\n",
              "Ticket          object\n",
              "Fare           float64\n",
              "Cabin           object\n",
              "Embarked        object\n",
              "dtype: object"
            ]
          },
          "metadata": {
            "tags": []
          },
          "execution_count": 15
        }
      ]
    },
    {
      "cell_type": "code",
      "metadata": {
        "id": "8QfftT__y6Hf",
        "colab_type": "code",
        "outputId": "88b9ca5a-7d58-4c44-d80f-39e4857e50b1",
        "colab": {
          "base_uri": "https://localhost:8080/",
          "height": 304
        }
      },
      "source": [
        "### 데이터 요약하기\n",
        "# 요약 및 통계\n",
        "train.describe()"
      ],
      "execution_count": 16,
      "outputs": [
        {
          "output_type": "execute_result",
          "data": {
            "text/html": [
              "<div>\n",
              "<style scoped>\n",
              "    .dataframe tbody tr th:only-of-type {\n",
              "        vertical-align: middle;\n",
              "    }\n",
              "\n",
              "    .dataframe tbody tr th {\n",
              "        vertical-align: top;\n",
              "    }\n",
              "\n",
              "    .dataframe thead th {\n",
              "        text-align: right;\n",
              "    }\n",
              "</style>\n",
              "<table border=\"1\" class=\"dataframe\">\n",
              "  <thead>\n",
              "    <tr style=\"text-align: right;\">\n",
              "      <th></th>\n",
              "      <th>PassengerId</th>\n",
              "      <th>Survived</th>\n",
              "      <th>Pclass</th>\n",
              "      <th>Age</th>\n",
              "      <th>SibSp</th>\n",
              "      <th>Parch</th>\n",
              "      <th>Fare</th>\n",
              "    </tr>\n",
              "  </thead>\n",
              "  <tbody>\n",
              "    <tr>\n",
              "      <th>count</th>\n",
              "      <td>881.000000</td>\n",
              "      <td>881.000000</td>\n",
              "      <td>881.000000</td>\n",
              "      <td>711.000000</td>\n",
              "      <td>881.000000</td>\n",
              "      <td>881.000000</td>\n",
              "      <td>881.000000</td>\n",
              "    </tr>\n",
              "    <tr>\n",
              "      <th>mean</th>\n",
              "      <td>446.713961</td>\n",
              "      <td>0.385925</td>\n",
              "      <td>2.307605</td>\n",
              "      <td>29.731603</td>\n",
              "      <td>0.455165</td>\n",
              "      <td>0.363224</td>\n",
              "      <td>31.121566</td>\n",
              "    </tr>\n",
              "    <tr>\n",
              "      <th>std</th>\n",
              "      <td>256.617021</td>\n",
              "      <td>0.487090</td>\n",
              "      <td>0.835055</td>\n",
              "      <td>14.547835</td>\n",
              "      <td>0.871571</td>\n",
              "      <td>0.791839</td>\n",
              "      <td>47.996249</td>\n",
              "    </tr>\n",
              "    <tr>\n",
              "      <th>min</th>\n",
              "      <td>1.000000</td>\n",
              "      <td>0.000000</td>\n",
              "      <td>1.000000</td>\n",
              "      <td>0.420000</td>\n",
              "      <td>0.000000</td>\n",
              "      <td>0.000000</td>\n",
              "      <td>0.000000</td>\n",
              "    </tr>\n",
              "    <tr>\n",
              "      <th>25%</th>\n",
              "      <td>226.000000</td>\n",
              "      <td>0.000000</td>\n",
              "      <td>2.000000</td>\n",
              "      <td>20.250000</td>\n",
              "      <td>0.000000</td>\n",
              "      <td>0.000000</td>\n",
              "      <td>7.895800</td>\n",
              "    </tr>\n",
              "    <tr>\n",
              "      <th>50%</th>\n",
              "      <td>448.000000</td>\n",
              "      <td>0.000000</td>\n",
              "      <td>3.000000</td>\n",
              "      <td>28.000000</td>\n",
              "      <td>0.000000</td>\n",
              "      <td>0.000000</td>\n",
              "      <td>14.454200</td>\n",
              "    </tr>\n",
              "    <tr>\n",
              "      <th>75%</th>\n",
              "      <td>668.000000</td>\n",
              "      <td>1.000000</td>\n",
              "      <td>3.000000</td>\n",
              "      <td>38.000000</td>\n",
              "      <td>1.000000</td>\n",
              "      <td>0.000000</td>\n",
              "      <td>30.500000</td>\n",
              "    </tr>\n",
              "    <tr>\n",
              "      <th>max</th>\n",
              "      <td>891.000000</td>\n",
              "      <td>1.000000</td>\n",
              "      <td>3.000000</td>\n",
              "      <td>80.000000</td>\n",
              "      <td>5.000000</td>\n",
              "      <td>6.000000</td>\n",
              "      <td>512.329200</td>\n",
              "    </tr>\n",
              "  </tbody>\n",
              "</table>\n",
              "</div>"
            ],
            "text/plain": [
              "       PassengerId    Survived      Pclass  ...       SibSp       Parch        Fare\n",
              "count   881.000000  881.000000  881.000000  ...  881.000000  881.000000  881.000000\n",
              "mean    446.713961    0.385925    2.307605  ...    0.455165    0.363224   31.121566\n",
              "std     256.617021    0.487090    0.835055  ...    0.871571    0.791839   47.996249\n",
              "min       1.000000    0.000000    1.000000  ...    0.000000    0.000000    0.000000\n",
              "25%     226.000000    0.000000    2.000000  ...    0.000000    0.000000    7.895800\n",
              "50%     448.000000    0.000000    3.000000  ...    0.000000    0.000000   14.454200\n",
              "75%     668.000000    1.000000    3.000000  ...    1.000000    0.000000   30.500000\n",
              "max     891.000000    1.000000    3.000000  ...    5.000000    6.000000  512.329200\n",
              "\n",
              "[8 rows x 7 columns]"
            ]
          },
          "metadata": {
            "tags": []
          },
          "execution_count": 16
        }
      ]
    },
    {
      "cell_type": "markdown",
      "metadata": {
        "id": "U7I4cZls1zBd",
        "colab_type": "text"
      },
      "source": [
        "# 3. Feature 분석\n",
        "3.1 수치형 변수"
      ]
    },
    {
      "cell_type": "code",
      "metadata": {
        "id": "x6-ZrE331xuv",
        "colab_type": "code",
        "outputId": "617cde25-ca10-4f96-d711-ed3b284d5461",
        "colab": {
          "base_uri": "https://localhost:8080/",
          "height": 272
        }
      },
      "source": [
        "# 수치형 변수와 Survived의 Correlation matrix (SibSp, Parch, Age, Fare values)\n",
        "g = sns.heatmap(train[['Survived','SibSp','Parch','Age','Fare']].corr(),annot=True,fmt='.2f',cmap='coolwarm')"
      ],
      "execution_count": 17,
      "outputs": [
        {
          "output_type": "display_data",
          "data": {
            "image/png": "[encoded data removed]",
            "text/plain": [
              "<Figure size 432x288 with 2 Axes>"
            ]
          },
          "metadata": {
            "tags": []
          }
        }
      ]
    },
    {
      "cell_type": "markdown",
      "metadata": {
        "id": "vD09Kx_V47iV",
        "colab_type": "text"
      },
      "source": [
        "Fare feature만 생존율과 유의한 상관관계가 있는 것으로 보인다.\n",
        "\n",
        "이는 다른 feature들이 유용하지 않다는 의미는 아니다. 이러한 feature들의 부차 집단은 생존과 연관될 수 있다. 이를 확인하기 위해서는 해당 feature들을 자세히 살펴봐야 한다."
      ]
    },
    {
      "cell_type": "markdown",
      "metadata": {
        "id": "Xnk_-wT257hj",
        "colab_type": "text"
      },
      "source": [
        "**SipSp**"
      ]
    },
    {
      "cell_type": "code",
      "metadata": {
        "id": "540GjuXK3LSE",
        "colab_type": "code",
        "outputId": "1af804ad-0268-42e4-9b7c-eb1d9b46b762",
        "colab": {
          "base_uri": "https://localhost:8080/",
          "height": 527
        }
      },
      "source": [
        "# SibSp feature vs Survived 탐색\n",
        "g = sns.factorplot(x='SibSp',y='Survived',data=train,kind='bar',size=6, palette='muted')\n",
        "g.despine(left=True)\n",
        "g = g.set_ylabels('survival probability')"
      ],
      "execution_count": 18,
      "outputs": [
        {
          "output_type": "stream",
          "text": [
            "/usr/local/lib/python3.6/dist-packages/seaborn/categorical.py:3669: UserWarning: The `factorplot` function has been renamed to `catplot`. The original name will be removed in a future release. Please update your code. Note that the default `kind` in `factorplot` (`'point'`) has changed `'strip'` in `catplot`.\n",
            "  warnings.warn(msg)\n",
            "/usr/local/lib/python3.6/dist-packages/seaborn/categorical.py:3675: UserWarning: The `size` parameter has been renamed to `height`; please update your code.\n",
            "  warnings.warn(msg, UserWarning)\n"
          ],
          "name": "stderr"
        },
        {
          "output_type": "display_data",
          "data": {
            "image/png": "[encoded data removed]",
            "text/plain": [
              "<Figure size 432x432 with 1 Axes>"
            ]
          },
          "metadata": {
            "tags": []
          }
        }
      ]
    },
    {
      "cell_type": "markdown",
      "metadata": {
        "id": "acU25yDn8VhI",
        "colab_type": "text"
      },
      "source": [
        "형제자매/배우자가 많은 승객은 생존 확률이 낮다.\n",
        "\n",
        "홀로인 승객(0 SibSp) 또는 다른 두 사람(SibSp 1 또는 2)과 함께 생존할 가능성이 더 높아보인다.\n",
        "\n",
        "이 관찰은 매우 흥미롭기에 우리는 이러한 범주를 설명하는 새로운 feature를 고려할 수 있다.(feature engineering 참조)"
      ]
    },
    {
      "cell_type": "markdown",
      "metadata": {
        "id": "MXltqdko9VH8",
        "colab_type": "text"
      },
      "source": [
        "**Parch**"
      ]
    },
    {
      "cell_type": "code",
      "metadata": {
        "id": "w8DCAYFk8ThW",
        "colab_type": "code",
        "outputId": "4a57f574-2449-4259-e743-7170af1e8201",
        "colab": {
          "base_uri": "https://localhost:8080/",
          "height": 527
        }
      },
      "source": [
        "# Parch feature vs Survived 탐색\n",
        "g = sns.factorplot(x='Parch',y='Survived',data=train, kind='bar',size=6,palette='muted')\n",
        "g.despine(left=True)\n",
        "g = g.set_ylabels('survival probability')"
      ],
      "execution_count": 19,
      "outputs": [
        {
          "output_type": "stream",
          "text": [
            "/usr/local/lib/python3.6/dist-packages/seaborn/categorical.py:3669: UserWarning: The `factorplot` function has been renamed to `catplot`. The original name will be removed in a future release. Please update your code. Note that the default `kind` in `factorplot` (`'point'`) has changed `'strip'` in `catplot`.\n",
            "  warnings.warn(msg)\n",
            "/usr/local/lib/python3.6/dist-packages/seaborn/categorical.py:3675: UserWarning: The `size` parameter has been renamed to `height`; please update your code.\n",
            "  warnings.warn(msg, UserWarning)\n"
          ],
          "name": "stderr"
        },
        {
          "output_type": "display_data",
          "data": {
            "image/png": "[encoded data removed]",
            "text/plain": [
              "<Figure size 432x432 with 1 Axes>"
            ]
          },
          "metadata": {
            "tags": []
          }
        }
      ]
    },
    {
      "cell_type": "markdown",
      "metadata": {
        "id": "NTW-oXng91iU",
        "colab_type": "text"
      },
      "source": [
        "소가족은 싱글(Parch 0)과 중간규모(Parch 3,4) 및 대가족(Parch 5,6)보다 생존 확률이 좀 더 높다.\n",
        "\n",
        "부모/자녀가 3명인 승객의 생존에 중요한 표준 편차가 있음에 주의해야 한다."
      ]
    },
    {
      "cell_type": "markdown",
      "metadata": {
        "id": "ZdwwYoGr-YF5",
        "colab_type": "text"
      },
      "source": [
        "**Age**"
      ]
    },
    {
      "cell_type": "code",
      "metadata": {
        "id": "kgnrebRp-WsJ",
        "colab_type": "code",
        "outputId": "23a7ad56-72f0-42f5-a55f-616f625bfe64",
        "colab": {
          "base_uri": "https://localhost:8080/",
          "height": 221
        }
      },
      "source": [
        "# Age vs Survived 탐색\n",
        "g = sns.FacetGrid(train, col='Survived')\n",
        "g = g.map(sns.distplot,'Age')"
      ],
      "execution_count": 20,
      "outputs": [
        {
          "output_type": "display_data",
          "data": {
            "image/png": "[encoded data removed]",
            "text/plain": [
              "<Figure size 432x216 with 2 Axes>"
            ]
          },
          "metadata": {
            "tags": []
          }
        }
      ]
    },
    {
      "cell_type": "markdown",
      "metadata": {
        "id": "6O8bU7_6_veN",
        "colab_type": "text"
      },
      "source": [
        "연령 분포는 tailed 분포로 보이며 가우스 분포인 것 같다.\n",
        "\n",
        "우리는 연령 분포가 생존한 하위집단과 사망한 하위집단에서 동일하지 않음을 알 수 있다. 실제로, 생존한 집단에서는 젊은 나이대에서 최고점을 보인다. 또한, 60~80세 승객들은 적게 생존한 것으로 나타난다.\n",
        "\n",
        "따라서 'Age'가 'Survived'와 상관되지 않더라도 생존할 확률이 어느 정도인 승객의 연령 범주가 있음을 알 수 있다.\n",
        "\n",
        "아주 어린 승객들은 생존 확률이 더 높은 것으로 보인다."
      ]
    },
    {
      "cell_type": "code",
      "metadata": {
        "id": "reQCxaR-_lXi",
        "colab_type": "code",
        "outputId": "abe3f645-fd64-4917-ca13-d93943fe957e",
        "colab": {
          "base_uri": "https://localhost:8080/",
          "height": 285
        }
      },
      "source": [
        "# Age 분포 탐구\n",
        "g = sns.kdeplot(train['Age'][(train['Survived'] == 0) & (train['Age'].notnull())], color='Red',shade=True)\n",
        "g = sns.kdeplot(train[\"Age\"][(train[\"Survived\"] == 1) & (train[\"Age\"].notnull())], ax=g, color=\"Blue\", shade= True)\n",
        "g.set_xlabel('Age')\n",
        "g.set_ylabel('Frequency')\n",
        "g = g.legend(['Not Survived','Survived'])"
      ],
      "execution_count": 21,
      "outputs": [
        {
          "output_type": "display_data",
          "data": {
            "image/png": "[encoded data removed]",
            "text/plain": [
              "<Figure size 432x288 with 1 Axes>"
            ]
          },
          "metadata": {
            "tags": []
          }
        }
      ]
    },
    {
      "cell_type": "markdown",
      "metadata": {
        "id": "x3gQOKCjDY0O",
        "colab_type": "text"
      },
      "source": [
        "두 밀도를 중첩할 때, 우리는 0~5세의 아기와 아주 어린 아이들에 대한 피크를 분명하게 볼 수 있다."
      ]
    },
    {
      "cell_type": "markdown",
      "metadata": {
        "id": "foamGJqkSIvE",
        "colab_type": "text"
      },
      "source": [
        "**Fare**"
      ]
    },
    {
      "cell_type": "code",
      "metadata": {
        "id": "Gn5rj2XiDD3v",
        "colab_type": "code",
        "outputId": "5d0bef6d-5b1f-4f7d-c6be-747bc99008f4",
        "colab": {
          "base_uri": "https://localhost:8080/",
          "height": 34
        }
      },
      "source": [
        "dataset['Fare'].isnull().sum()"
      ],
      "execution_count": 22,
      "outputs": [
        {
          "output_type": "execute_result",
          "data": {
            "text/plain": [
              "0"
            ]
          },
          "metadata": {
            "tags": []
          },
          "execution_count": 22
        }
      ]
    },
    {
      "cell_type": "code",
      "metadata": {
        "id": "Yeqxtv_tTSp5",
        "colab_type": "code",
        "colab": {}
      },
      "source": [
        "#Fare 결측값을 중앙값으로 채우기\n",
        "dataset['Fare'] = dataset['Fare'].fillna(dataset['Fare'].median())"
      ],
      "execution_count": 0,
      "outputs": []
    },
    {
      "cell_type": "markdown",
      "metadata": {
        "id": "jNa6cI5dTm2H",
        "colab_type": "text"
      },
      "source": [
        "결측값이 1개만 있으므로 중앙값으로 채워도 예측에 중요한 영향을 미치지 않을 것이다."
      ]
    },
    {
      "cell_type": "code",
      "metadata": {
        "id": "BX2Gji2-T5Ck",
        "colab_type": "code",
        "outputId": "f8d700bc-4416-4608-8940-1ccf15df0a3e",
        "colab": {
          "base_uri": "https://localhost:8080/",
          "height": 285
        }
      },
      "source": [
        "# Fare 분포 탐색\n",
        "g = sns.distplot(dataset['Fare'],color='m',label='Skewness : %.2f'%(dataset['Fare'].skew()))\n",
        "g = g.legend(loc='best')"
      ],
      "execution_count": 24,
      "outputs": [
        {
          "output_type": "display_data",
          "data": {
            "image/png": "[encoded data removed]",
            "text/plain": [
              "<Figure size 432x288 with 1 Axes>"
            ]
          },
          "metadata": {
            "tags": []
          }
        }
      ]
    },
    {
      "cell_type": "markdown",
      "metadata": {
        "id": "G9KBGZ_rUhe6",
        "colab_type": "text"
      },
      "source": [
        "Fare 분포는 매우 편향되어 나타난다.이는 스케일링 되어도 모델에서 매우 높은 값을 과도하게 만들 수 있다.\n",
        "\n",
        "이 경우, 이러한 편향성을 줄이기 위해 로그 함수로 이를 변환시키는 것이 좋다."
      ]
    },
    {
      "cell_type": "code",
      "metadata": {
        "id": "MwdssdEzWbhH",
        "colab_type": "code",
        "colab": {}
      },
      "source": [
        "# Apply log to Fare to reduce skewness distribution\n",
        "dataset['Fare'] = dataset['Fare'].map(lambda i:np.log(i) if i>0 else 0)"
      ],
      "execution_count": 0,
      "outputs": []
    },
    {
      "cell_type": "code",
      "metadata": {
        "id": "2GSziBdhZ5Se",
        "colab_type": "code",
        "outputId": "9746c6bd-7e62-4a49-b1a0-479fb8802f4d",
        "colab": {
          "base_uri": "https://localhost:8080/",
          "height": 285
        }
      },
      "source": [
        "g = sns.distplot(dataset['Fare'], color = 'b', label='skewness:%.2f'%(dataset['Fare'].skew()))\n",
        "g = g.legend(loc='best')"
      ],
      "execution_count": 26,
      "outputs": [
        {
          "output_type": "display_data",
          "data": {
            "image/png": "[encoded data removed]",
            "text/plain": [
              "<Figure size 432x288 with 1 Axes>"
            ]
          },
          "metadata": {
            "tags": []
          }
        }
      ]
    },
    {
      "cell_type": "markdown",
      "metadata": {
        "id": "KCO8N5gHbJKJ",
        "colab_type": "text"
      },
      "source": [
        "로그 변환 후 편향성이 명확하게 감소했다."
      ]
    },
    {
      "cell_type": "markdown",
      "metadata": {
        "id": "WsN1701fbU_z",
        "colab_type": "text"
      },
      "source": [
        "#####3.2 Categorical values"
      ]
    },
    {
      "cell_type": "markdown",
      "metadata": {
        "id": "zj4icispblX6",
        "colab_type": "text"
      },
      "source": [
        "Sex"
      ]
    },
    {
      "cell_type": "code",
      "metadata": {
        "id": "BcxTrHmSa1nC",
        "colab_type": "code",
        "outputId": "75051b23-fe2d-4bc3-de6f-4ee1dca0f66f",
        "colab": {
          "base_uri": "https://localhost:8080/",
          "height": 285
        }
      },
      "source": [
        "g = sns.barplot(x='Sex',y='Survived',data=train)\n",
        "g = g.set_ylabel('Survival Probability')"
      ],
      "execution_count": 27,
      "outputs": [
        {
          "output_type": "display_data",
          "data": {
            "image/png": "[encoded data removed]",
            "text/plain": [
              "<Figure size 432x288 with 1 Axes>"
            ]
          },
          "metadata": {
            "tags": []
          }
        }
      ]
    },
    {
      "cell_type": "code",
      "metadata": {
        "id": "rsxFbFwZcBXS",
        "colab_type": "code",
        "outputId": "e29d75f1-d493-4e38-9631-3f6da54f51ca",
        "colab": {
          "base_uri": "https://localhost:8080/",
          "height": 136
        }
      },
      "source": [
        "train[['Sex','Survived']].groupby('Sex').mean()"
      ],
      "execution_count": 28,
      "outputs": [
        {
          "output_type": "execute_result",
          "data": {
            "text/html": [
              "<div>\n",
              "<style scoped>\n",
              "    .dataframe tbody tr th:only-of-type {\n",
              "        vertical-align: middle;\n",
              "    }\n",
              "\n",
              "    .dataframe tbody tr th {\n",
              "        vertical-align: top;\n",
              "    }\n",
              "\n",
              "    .dataframe thead th {\n",
              "        text-align: right;\n",
              "    }\n",
              "</style>\n",
              "<table border=\"1\" class=\"dataframe\">\n",
              "  <thead>\n",
              "    <tr style=\"text-align: right;\">\n",
              "      <th></th>\n",
              "      <th>Survived</th>\n",
              "    </tr>\n",
              "    <tr>\n",
              "      <th>Sex</th>\n",
              "      <th></th>\n",
              "    </tr>\n",
              "  </thead>\n",
              "  <tbody>\n",
              "    <tr>\n",
              "      <th>female</th>\n",
              "      <td>0.747573</td>\n",
              "    </tr>\n",
              "    <tr>\n",
              "      <th>male</th>\n",
              "      <td>0.190559</td>\n",
              "    </tr>\n",
              "  </tbody>\n",
              "</table>\n",
              "</div>"
            ],
            "text/plain": [
              "        Survived\n",
              "Sex             \n",
              "female  0.747573\n",
              "male    0.190559"
            ]
          },
          "metadata": {
            "tags": []
          },
          "execution_count": 28
        }
      ]
    },
    {
      "cell_type": "markdown",
      "metadata": {
        "id": "SqvOQmrKcJ92",
        "colab_type": "text"
      },
      "source": [
        "남성이 여성보다 생존율이 낮은 것이 뚜렷하게 보인다.\n",
        "\n",
        "따라서 성별은 생존율 예측에서 중요한 역할을 할 지도 모른다.\n",
        "\n",
        "영화 타이타닉(1997)을 본 사람이라면, 장담컨대 대피하는 동안의 이 문장을 기억할 것이다 : '여성과 아이 먼저'."
      ]
    },
    {
      "cell_type": "markdown",
      "metadata": {
        "id": "1B-2YRb_c6UZ",
        "colab_type": "text"
      },
      "source": [
        "Pclass"
      ]
    },
    {
      "cell_type": "code",
      "metadata": {
        "id": "7OpSeRkXcIKr",
        "colab_type": "code",
        "outputId": "7897ea21-57d7-49cc-dfad-c0cefe8442df",
        "colab": {
          "base_uri": "https://localhost:8080/",
          "height": 527
        }
      },
      "source": [
        "# Pclass vs Survived 탐색\n",
        "g = sns.factorplot(x='Pclass', y='Survived', data=train, kind='bar',size=6, palette='muted')\n",
        "g.despine(left=True)\n",
        "g = g.set_ylabels('survival probability')"
      ],
      "execution_count": 29,
      "outputs": [
        {
          "output_type": "stream",
          "text": [
            "/usr/local/lib/python3.6/dist-packages/seaborn/categorical.py:3669: UserWarning: The `factorplot` function has been renamed to `catplot`. The original name will be removed in a future release. Please update your code. Note that the default `kind` in `factorplot` (`'point'`) has changed `'strip'` in `catplot`.\n",
            "  warnings.warn(msg)\n",
            "/usr/local/lib/python3.6/dist-packages/seaborn/categorical.py:3675: UserWarning: The `size` parameter has been renamed to `height`; please update your code.\n",
            "  warnings.warn(msg, UserWarning)\n"
          ],
          "name": "stderr"
        },
        {
          "output_type": "display_data",
          "data": {
            "image/png": "[encoded data removed]",
            "text/plain": [
              "<Figure size 432x432 with 1 Axes>"
            ]
          },
          "metadata": {
            "tags": []
          }
        }
      ]
    },
    {
      "cell_type": "code",
      "metadata": {
        "id": "-cYQ_cWGeQ2Z",
        "colab_type": "code",
        "outputId": "81917a71-cf4b-4d4e-8cb6-c42fa6897bdd",
        "colab": {
          "base_uri": "https://localhost:8080/",
          "height": 527
        }
      },
      "source": [
        "# 성별에 따른 Pclass vs Survived 탐색\n",
        "g = sns.factorplot(x='Pclass', y='Survived', hue='Sex', data=train, size=6, kind='bar',palette='muted')\n",
        "g.despine(left=True)\n",
        "g = g.set_ylabels('survival probability')"
      ],
      "execution_count": 30,
      "outputs": [
        {
          "output_type": "stream",
          "text": [
            "/usr/local/lib/python3.6/dist-packages/seaborn/categorical.py:3669: UserWarning: The `factorplot` function has been renamed to `catplot`. The original name will be removed in a future release. Please update your code. Note that the default `kind` in `factorplot` (`'point'`) has changed `'strip'` in `catplot`.\n",
            "  warnings.warn(msg)\n",
            "/usr/local/lib/python3.6/dist-packages/seaborn/categorical.py:3675: UserWarning: The `size` parameter has been renamed to `height`; please update your code.\n",
            "  warnings.warn(msg, UserWarning)\n"
          ],
          "name": "stderr"
        },
        {
          "output_type": "display_data",
          "data": {
            "image/png": "[encoded data removed]",
            "text/plain": [
              "<Figure size 509.975x432 with 1 Axes>"
            ]
          },
          "metadata": {
            "tags": []
          }
        }
      ]
    },
    {
      "cell_type": "markdown",
      "metadata": {
        "id": "AAZPva0-gr5R",
        "colab_type": "text"
      },
      "source": [
        "3개 등급에서의 승객 생존율은 동일하지 않다. 1등급 승객들은 2,3등급 승객들보다 생존율이 높다.\n",
        "\n",
        "이 경향은 남성과 여성 승객 모두에게서 나타난다."
      ]
    },
    {
      "cell_type": "markdown",
      "metadata": {
        "id": "l_QiFVRYgvV3",
        "colab_type": "text"
      },
      "source": [
        "Embarked"
      ]
    },
    {
      "cell_type": "code",
      "metadata": {
        "id": "ZwANPajJf70f",
        "colab_type": "code",
        "outputId": "be3f673d-5403-4f55-b689-0f91065148ed",
        "colab": {
          "base_uri": "https://localhost:8080/",
          "height": 34
        }
      },
      "source": [
        "dataset['Embarked'].isnull().sum()"
      ],
      "execution_count": 31,
      "outputs": [
        {
          "output_type": "execute_result",
          "data": {
            "text/plain": [
              "4"
            ]
          },
          "metadata": {
            "tags": []
          },
          "execution_count": 31
        }
      ]
    },
    {
      "cell_type": "code",
      "metadata": {
        "id": "V1fEYWgagph6",
        "colab_type": "code",
        "colab": {}
      },
      "source": [
        "# 데이터셋의 Embarked NaN값을 가장 빈도수가 높은 'S'로 채우기\n",
        "dataset['Embarked'] = dataset['Embarked'].fillna('S')"
      ],
      "execution_count": 0,
      "outputs": []
    },
    {
      "cell_type": "markdown",
      "metadata": {
        "id": "apxwXCP1ibOU",
        "colab_type": "text"
      },
      "source": [
        "결측값이 4개이므로, 이를 'Embarked'의 최빈값인 S로 채웠다."
      ]
    },
    {
      "cell_type": "code",
      "metadata": {
        "id": "JPCLYW9Vjamu",
        "colab_type": "code",
        "outputId": "87dd2099-d59a-4aee-b08e-3e039102cd6e",
        "colab": {
          "base_uri": "https://localhost:8080/",
          "height": 527
        }
      },
      "source": [
        "# Embarked vs Survived 탐색\n",
        "g = sns.factorplot(x='Embarked', y='Survived', data=train, size=6, kind='bar',palette='muted')\n",
        "g.despine(left=True)\n",
        "g = g.set_ylabels('survival probability')"
      ],
      "execution_count": 33,
      "outputs": [
        {
          "output_type": "stream",
          "text": [
            "/usr/local/lib/python3.6/dist-packages/seaborn/categorical.py:3669: UserWarning: The `factorplot` function has been renamed to `catplot`. The original name will be removed in a future release. Please update your code. Note that the default `kind` in `factorplot` (`'point'`) has changed `'strip'` in `catplot`.\n",
            "  warnings.warn(msg)\n",
            "/usr/local/lib/python3.6/dist-packages/seaborn/categorical.py:3675: UserWarning: The `size` parameter has been renamed to `height`; please update your code.\n",
            "  warnings.warn(msg, UserWarning)\n"
          ],
          "name": "stderr"
        },
        {
          "output_type": "display_data",
          "data": {
            "image/png": "[encoded data removed]",
            "text/plain": [
              "<Figure size 432x432 with 1 Axes>"
            ]
          },
          "metadata": {
            "tags": []
          }
        }
      ]
    },
    {
      "cell_type": "markdown",
      "metadata": {
        "id": "6BUl3mSrl5Uu",
        "colab_type": "text"
      },
      "source": [
        "Cherbourg(C)에서 온 승객들의 생존률이 더 높은 것으로 보인다.\n",
        "\n",
        "나의 가설은 Cherbourg에서 온 사람들의 1등석 승객 비율이 Queenstown(Q),Southampton(S)보다 높다는 것이다.\n",
        "\n",
        "Pclass 분포 vs Embarked 를 보자."
      ]
    },
    {
      "cell_type": "code",
      "metadata": {
        "id": "P0asuRcVk1WS",
        "colab_type": "code",
        "outputId": "e84b04df-be78-4a3f-9a33-d16b366b842d",
        "colab": {
          "base_uri": "https://localhost:8080/",
          "height": 311
        }
      },
      "source": [
        "# Pclass vs Embarked 탐구\n",
        "g = sns.factorplot('Pclass', col='Embarked', data = train, size=3, kind='count', palette='muted')\n",
        "g.despine(left=True)\n",
        "g = g.set_ylabels('Count')"
      ],
      "execution_count": 34,
      "outputs": [
        {
          "output_type": "stream",
          "text": [
            "/usr/local/lib/python3.6/dist-packages/seaborn/categorical.py:3669: UserWarning: The `factorplot` function has been renamed to `catplot`. The original name will be removed in a future release. Please update your code. Note that the default `kind` in `factorplot` (`'point'`) has changed `'strip'` in `catplot`.\n",
            "  warnings.warn(msg)\n",
            "/usr/local/lib/python3.6/dist-packages/seaborn/categorical.py:3675: UserWarning: The `size` parameter has been renamed to `height`; please update your code.\n",
            "  warnings.warn(msg, UserWarning)\n"
          ],
          "name": "stderr"
        },
        {
          "output_type": "display_data",
          "data": {
            "image/png": "[encoded data removed]",
            "text/plain": [
              "<Figure size 648x216 with 3 Axes>"
            ]
          },
          "metadata": {
            "tags": []
          }
        }
      ]
    },
    {
      "cell_type": "markdown",
      "metadata": {
        "id": "J4NFMEVcrJ8T",
        "colab_type": "text"
      },
      "source": [
        "실제로, 3등석은 Southampton(S)과 Queenstown(Q) 승객에서 가장 빈번한 반면, Cherbourg 승객은 대부분 생존율이 가장 높은 1등석이다.\n",
        "\n",
        "이 시점에서 1등석이 왜 생존율이 더 높은지 설명할 수는 없다. 나의 가설은 대피하는 동안 1등석 승객들의 영향으로 인해 우선 순위가 결정되었다는 것이다."
      ]
    },
    {
      "cell_type": "markdown",
      "metadata": {
        "id": "Obu2jDodsyFK",
        "colab_type": "text"
      },
      "source": [
        "#4. 결측값 채우기"
      ]
    },
    {
      "cell_type": "markdown",
      "metadata": {
        "id": "jFSkA1yDs7Wt",
        "colab_type": "text"
      },
      "source": [
        "#####4.1 Age\n",
        "Age 컬럼은 전체 데이터셋에서 347개의 결측값을 갖는다.\n",
        "\n",
        "생존 확률이 높은 하위 집단(예 : 어린이)이 있기 때문에, age feature를 유지하고 결측값을 무시하는 것이 좋다.\n",
        "\n",
        "이러한 문제를 해결하기 위해, Age와 가장 관련성 있는 feature(Sex, Parch, Pclass, SibSp)들을 살펴보았다."
      ]
    },
    {
      "cell_type": "code",
      "metadata": {
        "id": "wxW3Gf4esuIo",
        "colab_type": "code",
        "outputId": "0c277f6e-fc18-4778-ebd4-2737feb3ab0e",
        "colab": {
          "base_uri": "https://localhost:8080/",
          "height": 1000
        }
      },
      "source": [
        "# Age vs Sex,Parch,Pclass, SibSp 탐색\n",
        "g = sns.factorplot(y='Age',x='Sex',data=dataset,kind='box')\n",
        "g = sns.factorplot(y='Age',x='Sex',hue='Pclass',data=dataset,kind='box')\n",
        "g = sns.factorplot(y='Age',x='Parch',data=dataset,kind='box')\n",
        "g = sns.factorplot(y='Age',x='SibSp',data=dataset,kind='box')"
      ],
      "execution_count": 35,
      "outputs": [
        {
          "output_type": "stream",
          "text": [
            "/usr/local/lib/python3.6/dist-packages/seaborn/categorical.py:3669: UserWarning: The `factorplot` function has been renamed to `catplot`. The original name will be removed in a future release. Please update your code. Note that the default `kind` in `factorplot` (`'point'`) has changed `'strip'` in `catplot`.\n",
            "  warnings.warn(msg)\n",
            "/usr/local/lib/python3.6/dist-packages/seaborn/categorical.py:3669: UserWarning: The `factorplot` function has been renamed to `catplot`. The original name will be removed in a future release. Please update your code. Note that the default `kind` in `factorplot` (`'point'`) has changed `'strip'` in `catplot`.\n",
            "  warnings.warn(msg)\n",
            "/usr/local/lib/python3.6/dist-packages/seaborn/categorical.py:3669: UserWarning: The `factorplot` function has been renamed to `catplot`. The original name will be removed in a future release. Please update your code. Note that the default `kind` in `factorplot` (`'point'`) has changed `'strip'` in `catplot`.\n",
            "  warnings.warn(msg)\n",
            "/usr/local/lib/python3.6/dist-packages/seaborn/categorical.py:3669: UserWarning: The `factorplot` function has been renamed to `catplot`. The original name will be removed in a future release. Please update your code. Note that the default `kind` in `factorplot` (`'point'`) has changed `'strip'` in `catplot`.\n",
            "  warnings.warn(msg)\n"
          ],
          "name": "stderr"
        },
        {
          "output_type": "display_data",
          "data": {
            "image/png": "[encoded data removed]",
            "text/plain": [
              "<Figure size 360x360 with 1 Axes>"
            ]
          },
          "metadata": {
            "tags": []
          }
        },
        {
          "output_type": "display_data",
          "data": {
            "image/png": "[encoded data removed]",
            "text/plain": [
              "<Figure size 406.6x360 with 1 Axes>"
            ]
          },
          "metadata": {
            "tags": []
          }
        },
        {
          "output_type": "display_data",
          "data": {
            "image/png": "[encoded data removed]",
            "text/plain": [
              "<Figure size 360x360 with 1 Axes>"
            ]
          },
          "metadata": {
            "tags": []
          }
        },
        {
          "output_type": "display_data",
          "data": {
            "image/png": "[encoded data removed]",
            "text/plain": [
              "<Figure size 360x360 with 1 Axes>"
            ]
          },
          "metadata": {
            "tags": []
          }
        }
      ]
    },
    {
      "cell_type": "markdown",
      "metadata": {
        "id": "QPNXuC6Lzghu",
        "colab_type": "text"
      },
      "source": [
        "연령 분포는 남성과 여성 하위 집단에서 동일하게 나타나므로, Sex는 Age를 예측하는 데 도움이 되지 않는다.\n",
        "\n",
        "그러나, 1등석 승객들은 3등성 승객들보다 나이 많은 2등석 승객들보다 나이가 많다.\n",
        "\n",
        "또한, 승객의 부모/자녀가 많을수록 나이가 많으며, 승객의 자매/배우자가 많을수록 나이가 적다. "
      ]
    },
    {
      "cell_type": "code",
      "metadata": {
        "id": "uxe_LXlEnVPA",
        "colab_type": "code",
        "colab": {}
      },
      "source": [
        "# Sex를 범주형 변수(0:남성, 1:여성)로 변환\n",
        "dataset['Sex'] = dataset['Sex'].map({'male':0,'female':1})"
      ],
      "execution_count": 0,
      "outputs": []
    },
    {
      "cell_type": "code",
      "metadata": {
        "id": "NpviHAx_1FOw",
        "colab_type": "code",
        "outputId": "fc344af1-b22e-48c5-f3e7-8c03e3258ea1",
        "colab": {
          "base_uri": "https://localhost:8080/",
          "height": 272
        }
      },
      "source": [
        "g = sns.heatmap(dataset[['Age','Sex','SibSp','Parch','Pclass']].corr(),cmap='BrBG',annot=True)"
      ],
      "execution_count": 37,
      "outputs": [
        {
          "output_type": "display_data",
          "data": {
            "image/png": "[encoded data removed]",
            "text/plain": [
              "<Figure size 432x288 with 2 Axes>"
            ]
          },
          "metadata": {
            "tags": []
          }
        }
      ]
    },
    {
      "cell_type": "markdown",
      "metadata": {
        "id": "o4WRU90l1Wwn",
        "colab_type": "text"
      },
      "source": [
        "correlation map은 Parch를 제외한 factorplots의 결과를 확인한다. 나이는 성별과 관련이 없지만 Pclass, Parch 및 SibSp와 음의 상관관계가 있다.\n",
        "\n",
        "Parch의 기능에 따른 연령대에서, 나이는 부모/자녀의 수와 함께 증가하고 있다. 그러나 일반적으로는 음의 상관관계를 보인다.\n",
        "\n",
        "따라서 나는 누락된 연령을 무시하기 위해 SibSp, Parch 및 Pclass를 사용하기로 결정했다.\n",
        "\n",
        "전략은 Pclass, Parch 및 SibSp에 따른 유사한 행들의 중앙값으로 Age를 채우는 것이다."
      ]
    },
    {
      "cell_type": "code",
      "metadata": {
        "id": "kW9rhbBG1O57",
        "colab_type": "code",
        "outputId": "b446bed0-7708-4307-e34a-279f883ff70e",
        "colab": {
          "base_uri": "https://localhost:8080/",
          "height": 125
        }
      },
      "source": [
        "# Filling missing value of Age\n",
        "\n",
        "## Fill Age with the median age of similar rows according to Pclass, Parch, and SibSp\n",
        "# Index of NaN age rows\n",
        "index_NaN_age = list(dataset['Age'][dataset['Age'].isnull()].index)\n",
        "\n",
        "for i in index_NaN_age:\n",
        "  age_med = dataset['Age'].median()\n",
        "  age_pred = dataset['Age'][((dataset['SibSp']==dataset.iloc[i]['SibSp']) & (dataset['Parch']==dataset.iloc[i]['Parch']) & (dataset['Pclass'] == dataset.iloc[i]['Pclass']))].median()\n",
        "  if not np.isnan(age_pred):\n",
        "    dataset['Age'].iloc[i] = age_pred\n",
        "  else:\n",
        "    dataset['Age'].iloc[i] = age_med"
      ],
      "execution_count": 38,
      "outputs": [
        {
          "output_type": "stream",
          "text": [
            "/usr/local/lib/python3.6/dist-packages/pandas/core/indexing.py:205: SettingWithCopyWarning: \n",
            "A value is trying to be set on a copy of a slice from a DataFrame\n",
            "\n",
            "See the caveats in the documentation: http://pandas.pydata.org/pandas-docs/stable/user_guide/indexing.html#returning-a-view-versus-a-copy\n",
            "  self._setitem_with_indexer(indexer, value)\n"
          ],
          "name": "stderr"
        }
      ]
    },
    {
      "cell_type": "code",
      "metadata": {
        "id": "N_4leh86EtEI",
        "colab_type": "code",
        "outputId": "a3d64360-e9e8-49d8-ef1a-1915a2e6ea5f",
        "colab": {
          "base_uri": "https://localhost:8080/",
          "height": 803
        }
      },
      "source": [
        "g = sns.factorplot(x='Survived', y= 'Age', data=train, kind='box')\n",
        "g = sns.factorplot(x='Survived', y='Age', data=train, kind='violin')"
      ],
      "execution_count": 39,
      "outputs": [
        {
          "output_type": "stream",
          "text": [
            "/usr/local/lib/python3.6/dist-packages/seaborn/categorical.py:3669: UserWarning: The `factorplot` function has been renamed to `catplot`. The original name will be removed in a future release. Please update your code. Note that the default `kind` in `factorplot` (`'point'`) has changed `'strip'` in `catplot`.\n",
            "  warnings.warn(msg)\n",
            "/usr/local/lib/python3.6/dist-packages/seaborn/categorical.py:3669: UserWarning: The `factorplot` function has been renamed to `catplot`. The original name will be removed in a future release. Please update your code. Note that the default `kind` in `factorplot` (`'point'`) has changed `'strip'` in `catplot`.\n",
            "  warnings.warn(msg)\n"
          ],
          "name": "stderr"
        },
        {
          "output_type": "display_data",
          "data": {
            "image/png": "[encoded data removed]",
            "text/plain": [
              "<Figure size 360x360 with 1 Axes>"
            ]
          },
          "metadata": {
            "tags": []
          }
        },
        {
          "output_type": "display_data",
          "data": {
            "image/png": "[encoded data removed]",
            "text/plain": [
              "<Figure size 360x360 with 1 Axes>"
            ]
          },
          "metadata": {
            "tags": []
          }
        }
      ]
    },
    {
      "cell_type": "markdown",
      "metadata": {
        "id": "sgs4T_AfFUWW",
        "colab_type": "text"
      },
      "source": [
        "생존과 사망 소집단 연령의 중앙값의 차이는 없었다. \n",
        "\n",
        "그러나 생존 승객의 바생존과 사망 소집단 연령의 중앙값의 차이는 없었다. \n",
        "\n",
        "그러나 생존 승객의 바이올린 플롯에서도 우리는 매우 어린 승객들의 생존율이 더 높은 것을 알 수 있다."
      ]
    },
    {
      "cell_type": "markdown",
      "metadata": {
        "id": "GnL0D6-3HPJj",
        "colab_type": "text"
      },
      "source": [
        "#5. Feature engineering"
      ]
    },
    {
      "cell_type": "markdown",
      "metadata": {
        "id": "4sGavX0KHVUw",
        "colab_type": "text"
      },
      "source": [
        "####5.1 Name/Title"
      ]
    },
    {
      "cell_type": "code",
      "metadata": {
        "id": "kPXJonD0FI7d",
        "colab_type": "code",
        "outputId": "a58046fb-cdfe-46ca-ffe7-97faa36d3a30",
        "colab": {
          "base_uri": "https://localhost:8080/",
          "height": 122
        }
      },
      "source": [
        "dataset['Name'].head()"
      ],
      "execution_count": 40,
      "outputs": [
        {
          "output_type": "execute_result",
          "data": {
            "text/plain": [
              "0                              Braund, Mr. Owen Harris\n",
              "1    Cumings, Mrs. John Bradley (Florence Briggs Th...\n",
              "2                               Heikkinen, Miss. Laina\n",
              "3         Futrelle, Mrs. Jacques Heath (Lily May Peel)\n",
              "4                             Allen, Mr. William Henry\n",
              "Name: Name, dtype: object"
            ]
          },
          "metadata": {
            "tags": []
          },
          "execution_count": 40
        }
      ]
    },
    {
      "cell_type": "markdown",
      "metadata": {
        "id": "EbeI-3xR6kS5",
        "colab_type": "text"
      },
      "source": [
        "Name feature는 승객의 타이틀에 대한 정보를 포함한다.\n",
        "\n",
        "유명한 타이틀을 가진 승객이 우선 대피될 수 있으므로, 모델에 그들을 추가하는 것이 흥미롭다."
      ]
    },
    {
      "cell_type": "code",
      "metadata": {
        "id": "t_h7xVgO6BRJ",
        "colab_type": "code",
        "outputId": "415acdf1-0d40-4c6c-a492-48fc4affb69c",
        "colab": {
          "base_uri": "https://localhost:8080/",
          "height": 122
        }
      },
      "source": [
        "# Get Title from Name\n",
        "dataset_title = [i.split(\",\")[1].split(\".\")[0].strip() for i in dataset[\"Name\"]]\n",
        "dataset[\"Title\"] = pd.Series(dataset_title)\n",
        "dataset[\"Title\"].head()"
      ],
      "execution_count": 41,
      "outputs": [
        {
          "output_type": "execute_result",
          "data": {
            "text/plain": [
              "0      Mr\n",
              "1     Mrs\n",
              "2    Miss\n",
              "3     Mrs\n",
              "4      Mr\n",
              "Name: Title, dtype: object"
            ]
          },
          "metadata": {
            "tags": []
          },
          "execution_count": 41
        }
      ]
    },
    {
      "cell_type": "code",
      "metadata": {
        "id": "U4Tulkav8gk1",
        "colab_type": "code",
        "outputId": "d059b3c4-4817-4d9e-bcd4-bff95b90e466",
        "colab": {
          "base_uri": "https://localhost:8080/",
          "height": 333
        }
      },
      "source": [
        "g = sns.countplot(x=\"Title\",data=dataset)\n",
        "g = plt.setp(g.get_xticklabels(), rotation=45) "
      ],
      "execution_count": 42,
      "outputs": [
        {
          "output_type": "display_data",
          "data": {
            "image/png": "[encoded data removed]",
            "text/plain": [
              "<Figure size 432x288 with 1 Axes>"
            ]
          },
          "metadata": {
            "tags": []
          }
        }
      ]
    },
    {
      "cell_type": "markdown",
      "metadata": {
        "id": "Cepe7Pqu-ZbA",
        "colab_type": "text"
      },
      "source": [
        "해당 데이터셋에는 17개의 타이틀이 있고, 대부분은 매우 드물기에 우리는 이를 4개 카테고리로 그룹화할 수 있다."
      ]
    },
    {
      "cell_type": "code",
      "metadata": {
        "id": "0sAiwQYi8rp0",
        "colab_type": "code",
        "colab": {}
      },
      "source": [
        "# Convert to categorical values Title \n",
        "dataset[\"Title\"] = dataset[\"Title\"].replace(['Lady', 'the Countess','Countess','Capt', 'Col','Don', 'Dr', 'Major', 'Rev', 'Sir', 'Jonkheer', 'Dona'], 'Rare')\n",
        "dataset[\"Title\"] = dataset[\"Title\"].map({\"Master\":0, \"Miss\":1, \"Ms\" : 1 , \"Mme\":1, \"Mlle\":1, \"Mrs\":1, \"Mr\":2, \"Rare\":3})\n",
        "dataset[\"Title\"] = dataset[\"Title\"].astype(int)"
      ],
      "execution_count": 0,
      "outputs": []
    },
    {
      "cell_type": "code",
      "metadata": {
        "id": "jTPnP1jt_Wy2",
        "colab_type": "code",
        "outputId": "a59b700f-d81e-4383-b777-6045f5960c5f",
        "colab": {
          "base_uri": "https://localhost:8080/",
          "height": 285
        }
      },
      "source": [
        "g = sns.countplot(dataset['Title'])\n",
        "g = g.set_xticklabels(['Master','Miss/Ms/Mme/Mlle/Mrs','Mr','Rare'])"
      ],
      "execution_count": 44,
      "outputs": [
        {
          "output_type": "display_data",
          "data": {
            "image/png": "[encoded data removed]",
            "text/plain": [
              "<Figure size 432x288 with 1 Axes>"
            ]
          },
          "metadata": {
            "tags": []
          }
        }
      ]
    },
    {
      "cell_type": "code",
      "metadata": {
        "id": "PCW4s_FRAwKt",
        "colab_type": "code",
        "outputId": "963f6970-2f8b-4bd9-b644-17ba8f1a4904",
        "colab": {
          "base_uri": "https://localhost:8080/",
          "height": 420
        }
      },
      "source": [
        "g = sns.factorplot(x='Title',y='Survived',data=dataset,kind='bar')\n",
        "g = g.set_xticklabels(['Master','Miss-Mrs','Mr','Rare'])\n",
        "g = g.set_ylabels('survival probability')"
      ],
      "execution_count": 45,
      "outputs": [
        {
          "output_type": "stream",
          "text": [
            "/usr/local/lib/python3.6/dist-packages/seaborn/categorical.py:3669: UserWarning: The `factorplot` function has been renamed to `catplot`. The original name will be removed in a future release. Please update your code. Note that the default `kind` in `factorplot` (`'point'`) has changed `'strip'` in `catplot`.\n",
            "  warnings.warn(msg)\n"
          ],
          "name": "stderr"
        },
        {
          "output_type": "display_data",
          "data": {
            "image/png": "[encoded data removed]",
            "text/plain": [
              "<Figure size 360x360 with 1 Axes>"
            ]
          },
          "metadata": {
            "tags": []
          }
        }
      ]
    },
    {
      "cell_type": "markdown",
      "metadata": {
        "id": "F2jaYjHqBV4w",
        "colab_type": "text"
      },
      "source": [
        "\"여성과 아이 먼저\"\n",
        "\n",
        " 희귀 타이틀을 가진 승객들이 생존할 가능성이 높다는 점에 주목하는 것이 흥미롭다."
      ]
    },
    {
      "cell_type": "code",
      "metadata": {
        "id": "5928Kkg8CjDi",
        "colab_type": "code",
        "colab": {}
      },
      "source": [
        "# Drop Name variable\n",
        "dataset.drop(labels = [\"Name\"], axis = 1, inplace = True)"
      ],
      "execution_count": 0,
      "outputs": []
    },
    {
      "cell_type": "markdown",
      "metadata": {
        "id": "qmqRN2bPC5LS",
        "colab_type": "text"
      },
      "source": [
        "####5.2 Family size\n",
        "\n",
        "우리는 대피 동안 자매/형제/부모를 찾는 것에 따라 대가족의 생존 확률이 좀 더 높은 것을 기대할 수 있다. 따라서, 나는 'Fize'(family size) feature를 만들었고, 이것은 SibSp, Parch와 1(승객 본인을 포함)을 합한 것이다."
      ]
    },
    {
      "cell_type": "code",
      "metadata": {
        "id": "1v_nDV2IC3LU",
        "colab_type": "code",
        "colab": {}
      },
      "source": [
        "# Create a family size descriptor from SibSp and Parch\n",
        "dataset['Fsize'] = dataset['SibSp'] + dataset['Parch'] + 1"
      ],
      "execution_count": 0,
      "outputs": []
    },
    {
      "cell_type": "code",
      "metadata": {
        "id": "MjIEhKGYm8xo",
        "colab_type": "code",
        "outputId": "57ef95de-15c1-4a18-f5da-59989e7b02de",
        "colab": {
          "base_uri": "https://localhost:8080/",
          "height": 420
        }
      },
      "source": [
        "g = sns.factorplot(x='Fsize',y='Survived', data=dataset)\n",
        "g = g.set_ylabels('Survival Probability')"
      ],
      "execution_count": 48,
      "outputs": [
        {
          "output_type": "stream",
          "text": [
            "/usr/local/lib/python3.6/dist-packages/seaborn/categorical.py:3669: UserWarning: The `factorplot` function has been renamed to `catplot`. The original name will be removed in a future release. Please update your code. Note that the default `kind` in `factorplot` (`'point'`) has changed `'strip'` in `catplot`.\n",
            "  warnings.warn(msg)\n"
          ],
          "name": "stderr"
        },
        {
          "output_type": "display_data",
          "data": {
            "image/png": "[encoded data removed]",
            "text/plain": [
              "<Figure size 360x360 with 1 Axes>"
            ]
          },
          "metadata": {
            "tags": []
          }
        }
      ]
    },
    {
      "cell_type": "markdown",
      "metadata": {
        "id": "qtDjqLZnnhoZ",
        "colab_type": "text"
      },
      "source": [
        "가족의 규모는 중요한 역할을 하는 것으로 보이며, 대가족의 생존 확률이 가장 낮게 나타난다.\n",
        "\n",
        "이에 더해, 나는 가족 규모의 4개 카테고리를 만들었다."
      ]
    },
    {
      "cell_type": "code",
      "metadata": {
        "id": "wj9EyVXBnZEB",
        "colab_type": "code",
        "colab": {}
      },
      "source": [
        "# create new feature of family size\n",
        "dataset['Single'] = dataset['Fsize'].map(lambda s: 1 if s==1 else 0)\n",
        "dataset['SmallF'] = dataset['Fsize'].map(lambda s: 1 if s==2 else 0)\n",
        "dataset['MedF'] = dataset['Fsize'].map(lambda s: 1 if 3 <= s <= 4 else 0)\n",
        "dataset['LargeF'] = dataset['Fsize'].map(lambda s: 1 if s>=5 else 0)"
      ],
      "execution_count": 0,
      "outputs": []
    },
    {
      "cell_type": "code",
      "metadata": {
        "id": "2l2a1XIUpNA7",
        "colab_type": "code",
        "outputId": "1693e340-12d5-40c1-929a-93f4ad23d388",
        "colab": {
          "base_uri": "https://localhost:8080/",
          "height": 1000
        }
      },
      "source": [
        "g = sns.factorplot(x='Single',y='Survived',data=dataset,kind='bar')\n",
        "g = g.set_ylabels('Survival Probability')\n",
        "g = sns.factorplot(x='SmallF', y='Survived', data=dataset, kind='bar')\n",
        "g = g.set_ylabels('Survival Probability')\n",
        "g = sns.factorplot(x='MedF', y='Survived', data=dataset, kind='bar')\n",
        "g = g.set_ylabels('Survival Probability')\n",
        "g = sns.factorplot(x='LargeF',y='Survived', data=dataset, kind='bar')\n",
        "g = g.set_ylabels('Survival Probability')"
      ],
      "execution_count": 53,
      "outputs": [
        {
          "output_type": "stream",
          "text": [
            "/usr/local/lib/python3.6/dist-packages/seaborn/categorical.py:3669: UserWarning: The `factorplot` function has been renamed to `catplot`. The original name will be removed in a future release. Please update your code. Note that the default `kind` in `factorplot` (`'point'`) has changed `'strip'` in `catplot`.\n",
            "  warnings.warn(msg)\n"
          ],
          "name": "stderr"
        },
        {
          "output_type": "display_data",
          "data": {
            "image/png": "[encoded data removed]",
            "text/plain": [
              "<Figure size 360x360 with 1 Axes>"
            ]
          },
          "metadata": {
            "tags": []
          }
        },
        {
          "output_type": "display_data",
          "data": {
            "image/png": "[encoded data removed]",
            "text/plain": [
              "<Figure size 360x360 with 1 Axes>"
            ]
          },
          "metadata": {
            "tags": []
          }
        },
        {
          "output_type": "display_data",
          "data": {
            "image/png": "[encoded data removed]",
            "text/plain": [
              "<Figure size 360x360 with 1 Axes>"
            ]
          },
          "metadata": {
            "tags": []
          }
        },
        {
          "output_type": "display_data",
          "data": {
            "image/png": "[encoded data removed]",
            "text/plain": [
              "<Figure size 360x360 with 1 Axes>"
            ]
          },
          "metadata": {
            "tags": []
          }
        }
      ]
    },
    {
      "cell_type": "markdown",
      "metadata": {
        "id": "kM1JQPQ-qJ0U",
        "colab_type": "text"
      },
      "source": [
        "가족 규모 카테고리의 facorplots는 소, 중 규모의 가족들이 싱글와 대가족보다 생존 확률이 더 높다는 것을 보여준다."
      ]
    },
    {
      "cell_type": "code",
      "metadata": {
        "id": "oSRQDJKJpyFZ",
        "colab_type": "code",
        "colab": {}
      },
      "source": [
        "# convert to indicator values Title and Embarked\n",
        "dataset = pd.get_dummies(dataset, columns = ['Title'])\n",
        "dataset = pd.get_dummies(dataset, columns=['Embarked'], prefix='Em')"
      ],
      "execution_count": 0,
      "outputs": []
    },
    {
      "cell_type": "code",
      "metadata": {
        "id": "2FDzNdnxqqx0",
        "colab_type": "code",
        "outputId": "aedcda2b-c2c0-434c-85b2-f737440c161a",
        "colab": {
          "base_uri": "https://localhost:8080/",
          "height": 249
        }
      },
      "source": [
        "dataset.head()"
      ],
      "execution_count": 55,
      "outputs": [
        {
          "output_type": "execute_result",
          "data": {
            "text/html": [
              "<div>\n",
              "<style scoped>\n",
              "    .dataframe tbody tr th:only-of-type {\n",
              "        vertical-align: middle;\n",
              "    }\n",
              "\n",
              "    .dataframe tbody tr th {\n",
              "        vertical-align: top;\n",
              "    }\n",
              "\n",
              "    .dataframe thead th {\n",
              "        text-align: right;\n",
              "    }\n",
              "</style>\n",
              "<table border=\"1\" class=\"dataframe\">\n",
              "  <thead>\n",
              "    <tr style=\"text-align: right;\">\n",
              "      <th></th>\n",
              "      <th>PassengerId</th>\n",
              "      <th>Survived</th>\n",
              "      <th>Pclass</th>\n",
              "      <th>Sex</th>\n",
              "      <th>Age</th>\n",
              "      <th>SibSp</th>\n",
              "      <th>Parch</th>\n",
              "      <th>Ticket</th>\n",
              "      <th>Fare</th>\n",
              "      <th>Cabin</th>\n",
              "      <th>Fsize</th>\n",
              "      <th>Single</th>\n",
              "      <th>SmallF</th>\n",
              "      <th>MedF</th>\n",
              "      <th>LargeF</th>\n",
              "      <th>Title_0</th>\n",
              "      <th>Title_1</th>\n",
              "      <th>Title_2</th>\n",
              "      <th>Title_3</th>\n",
              "      <th>Em_C</th>\n",
              "      <th>Em_Q</th>\n",
              "      <th>Em_S</th>\n",
              "    </tr>\n",
              "  </thead>\n",
              "  <tbody>\n",
              "    <tr>\n",
              "      <th>0</th>\n",
              "      <td>1</td>\n",
              "      <td>0</td>\n",
              "      <td>3</td>\n",
              "      <td>0</td>\n",
              "      <td>22.0</td>\n",
              "      <td>1</td>\n",
              "      <td>0</td>\n",
              "      <td>A/5 21171</td>\n",
              "      <td>1.981001</td>\n",
              "      <td>NaN</td>\n",
              "      <td>2</td>\n",
              "      <td>0</td>\n",
              "      <td>1</td>\n",
              "      <td>0</td>\n",
              "      <td>0</td>\n",
              "      <td>0</td>\n",
              "      <td>0</td>\n",
              "      <td>1</td>\n",
              "      <td>0</td>\n",
              "      <td>0</td>\n",
              "      <td>0</td>\n",
              "      <td>1</td>\n",
              "    </tr>\n",
              "    <tr>\n",
              "      <th>1</th>\n",
              "      <td>2</td>\n",
              "      <td>1</td>\n",
              "      <td>1</td>\n",
              "      <td>1</td>\n",
              "      <td>38.0</td>\n",
              "      <td>1</td>\n",
              "      <td>0</td>\n",
              "      <td>PC 17599</td>\n",
              "      <td>4.266662</td>\n",
              "      <td>C85</td>\n",
              "      <td>2</td>\n",
              "      <td>0</td>\n",
              "      <td>1</td>\n",
              "      <td>0</td>\n",
              "      <td>0</td>\n",
              "      <td>0</td>\n",
              "      <td>1</td>\n",
              "      <td>0</td>\n",
              "      <td>0</td>\n",
              "      <td>1</td>\n",
              "      <td>0</td>\n",
              "      <td>0</td>\n",
              "    </tr>\n",
              "    <tr>\n",
              "      <th>2</th>\n",
              "      <td>3</td>\n",
              "      <td>1</td>\n",
              "      <td>3</td>\n",
              "      <td>1</td>\n",
              "      <td>26.0</td>\n",
              "      <td>0</td>\n",
              "      <td>0</td>\n",
              "      <td>STON/O2. 3101282</td>\n",
              "      <td>2.070022</td>\n",
              "      <td>NaN</td>\n",
              "      <td>1</td>\n",
              "      <td>1</td>\n",
              "      <td>0</td>\n",
              "      <td>0</td>\n",
              "      <td>0</td>\n",
              "      <td>0</td>\n",
              "      <td>1</td>\n",
              "      <td>0</td>\n",
              "      <td>0</td>\n",
              "      <td>0</td>\n",
              "      <td>0</td>\n",
              "      <td>1</td>\n",
              "    </tr>\n",
              "    <tr>\n",
              "      <th>3</th>\n",
              "      <td>4</td>\n",
              "      <td>1</td>\n",
              "      <td>1</td>\n",
              "      <td>1</td>\n",
              "      <td>35.0</td>\n",
              "      <td>1</td>\n",
              "      <td>0</td>\n",
              "      <td>113803</td>\n",
              "      <td>3.972177</td>\n",
              "      <td>C123</td>\n",
              "      <td>2</td>\n",
              "      <td>0</td>\n",
              "      <td>1</td>\n",
              "      <td>0</td>\n",
              "      <td>0</td>\n",
              "      <td>0</td>\n",
              "      <td>1</td>\n",
              "      <td>0</td>\n",
              "      <td>0</td>\n",
              "      <td>0</td>\n",
              "      <td>0</td>\n",
              "      <td>1</td>\n",
              "    </tr>\n",
              "    <tr>\n",
              "      <th>4</th>\n",
              "      <td>5</td>\n",
              "      <td>0</td>\n",
              "      <td>3</td>\n",
              "      <td>0</td>\n",
              "      <td>35.0</td>\n",
              "      <td>0</td>\n",
              "      <td>0</td>\n",
              "      <td>373450</td>\n",
              "      <td>2.085672</td>\n",
              "      <td>NaN</td>\n",
              "      <td>1</td>\n",
              "      <td>1</td>\n",
              "      <td>0</td>\n",
              "      <td>0</td>\n",
              "      <td>0</td>\n",
              "      <td>0</td>\n",
              "      <td>0</td>\n",
              "      <td>1</td>\n",
              "      <td>0</td>\n",
              "      <td>0</td>\n",
              "      <td>0</td>\n",
              "      <td>1</td>\n",
              "    </tr>\n",
              "  </tbody>\n",
              "</table>\n",
              "</div>"
            ],
            "text/plain": [
              "   PassengerId  Survived  Pclass  Sex   Age  ...  Title_2  Title_3 Em_C  Em_Q Em_S\n",
              "0            1         0       3    0  22.0  ...        1        0    0     0    1\n",
              "1            2         1       1    1  38.0  ...        0        0    1     0    0\n",
              "2            3         1       3    1  26.0  ...        0        0    0     0    1\n",
              "3            4         1       1    1  35.0  ...        0        0    0     0    1\n",
              "4            5         0       3    0  35.0  ...        1        0    0     0    1\n",
              "\n",
              "[5 rows x 22 columns]"
            ]
          },
          "metadata": {
            "tags": []
          },
          "execution_count": 55
        }
      ]
    },
    {
      "cell_type": "markdown",
      "metadata": {
        "id": "DMhM1wzktCpk",
        "colab_type": "text"
      },
      "source": [
        "이 단계에서, 우리는 22개의 feature를 갖는다."
      ]
    },
    {
      "cell_type": "markdown",
      "metadata": {
        "id": "VrQ5NDM4wMWl",
        "colab_type": "text"
      },
      "source": [
        "#####5.3 Cabin"
      ]
    },
    {
      "cell_type": "code",
      "metadata": {
        "id": "tigJ4a_tq1XB",
        "colab_type": "code",
        "outputId": "b5f492de-6e5f-4681-c366-1d86dccf0b7d",
        "colab": {
          "base_uri": "https://localhost:8080/",
          "height": 122
        }
      },
      "source": [
        "dataset['Cabin'].head()"
      ],
      "execution_count": 56,
      "outputs": [
        {
          "output_type": "execute_result",
          "data": {
            "text/plain": [
              "0     NaN\n",
              "1     C85\n",
              "2     NaN\n",
              "3    C123\n",
              "4     NaN\n",
              "Name: Cabin, dtype: object"
            ]
          },
          "metadata": {
            "tags": []
          },
          "execution_count": 56
        }
      ]
    },
    {
      "cell_type": "code",
      "metadata": {
        "id": "7gB0c6PhwRgw",
        "colab_type": "code",
        "outputId": "3802f0bb-6cd8-4ef1-89f9-cb69ba44884f",
        "colab": {
          "base_uri": "https://localhost:8080/",
          "height": 105
        }
      },
      "source": [
        "dataset['Cabin'].describe()"
      ],
      "execution_count": 57,
      "outputs": [
        {
          "output_type": "execute_result",
          "data": {
            "text/plain": [
              "count         405\n",
              "unique        147\n",
              "top       B96 B98\n",
              "freq            8\n",
              "Name: Cabin, dtype: object"
            ]
          },
          "metadata": {
            "tags": []
          },
          "execution_count": 57
        }
      ]
    },
    {
      "cell_type": "code",
      "metadata": {
        "id": "0IqdPofAwXG5",
        "colab_type": "code",
        "outputId": "6ac725dc-f638-41be-c5e4-c382f73a1a53",
        "colab": {
          "base_uri": "https://localhost:8080/",
          "height": 34
        }
      },
      "source": [
        "dataset['Cabin'].isnull().sum()"
      ],
      "execution_count": 58,
      "outputs": [
        {
          "output_type": "execute_result",
          "data": {
            "text/plain": [
              "1367"
            ]
          },
          "metadata": {
            "tags": []
          },
          "execution_count": 58
        }
      ]
    },
    {
      "cell_type": "markdown",
      "metadata": {
        "id": "QtV24FXKwtgE",
        "colab_type": "text"
      },
      "source": [
        "Cabin feature 컬럼은 405개의 값과 1367개의 결측값을 포함한다.\n",
        "\n",
        "아마도 객실 없는 승객들이 객실 넘버 대신 결측값으로 나타났을 것이다."
      ]
    },
    {
      "cell_type": "code",
      "metadata": {
        "id": "y95NsexPwsIl",
        "colab_type": "code",
        "outputId": "aa39bbf3-717c-45ef-85d3-afb2a8e2e473",
        "colab": {
          "base_uri": "https://localhost:8080/",
          "height": 122
        }
      },
      "source": [
        "dataset['Cabin'][dataset['Cabin'].notnull()].head()"
      ],
      "execution_count": 59,
      "outputs": [
        {
          "output_type": "execute_result",
          "data": {
            "text/plain": [
              "1      C85\n",
              "3     C123\n",
              "6      E46\n",
              "10      G6\n",
              "11    C103\n",
              "Name: Cabin, dtype: object"
            ]
          },
          "metadata": {
            "tags": []
          },
          "execution_count": 59
        }
      ]
    },
    {
      "cell_type": "code",
      "metadata": {
        "id": "S4No70hHxWkO",
        "colab_type": "code",
        "colab": {}
      },
      "source": [
        "# Replace the Cabin number by the type of cabin 'X' if not\n",
        "dataset['Cabin'] = pd.Series(i[0] if not pd.isnull(i) else 'X' for i in dataset['Cabin'])"
      ],
      "execution_count": 0,
      "outputs": []
    },
    {
      "cell_type": "markdown",
      "metadata": {
        "id": "fY_Xn6Kt0PQ6",
        "colab_type": "text"
      },
      "source": [
        "cabin의 첫 글자는 Desk를 가리키며, 이는 타이타닉호 승객들의 예상 위치를 알려주기 때문에 나는 이 정보는 갖고 있기로 했다. "
      ]
    },
    {
      "cell_type": "code",
      "metadata": {
        "id": "1l9jAG6ZyyK4",
        "colab_type": "code",
        "outputId": "f73f3d96-8a03-4876-cfe1-34504dec2f03",
        "colab": {
          "base_uri": "https://localhost:8080/",
          "height": 285
        }
      },
      "source": [
        "g = sns.countplot(dataset['Cabin'],order=['A','B','C','D','E','F','G','T','X'])"
      ],
      "execution_count": 61,
      "outputs": [
        {
          "output_type": "display_data",
          "data": {
            "image/png": "[encoded data removed]",
            "text/plain": [
              "<Figure size 432x288 with 1 Axes>"
            ]
          },
          "metadata": {
            "tags": []
          }
        }
      ]
    },
    {
      "cell_type": "code",
      "metadata": {
        "id": "NmkHEZV81sBr",
        "colab_type": "code",
        "outputId": "ee81e2a5-59c4-4998-da78-276c9e760a42",
        "colab": {
          "base_uri": "https://localhost:8080/",
          "height": 420
        }
      },
      "source": [
        "g = sns.factorplot(y='Survived',x='Cabin',data=dataset,kind='bar',order=['A','B','C','D','E','F','G','T','X'])\n",
        "g = g.set_ylabels('Survival Probability')"
      ],
      "execution_count": 62,
      "outputs": [
        {
          "output_type": "stream",
          "text": [
            "/usr/local/lib/python3.6/dist-packages/seaborn/categorical.py:3669: UserWarning: The `factorplot` function has been renamed to `catplot`. The original name will be removed in a future release. Please update your code. Note that the default `kind` in `factorplot` (`'point'`) has changed `'strip'` in `catplot`.\n",
            "  warnings.warn(msg)\n"
          ],
          "name": "stderr"
        },
        {
          "output_type": "display_data",
          "data": {
            "image/png": "[encoded data removed]",
            "text/plain": [
              "<Figure size 360x360 with 1 Axes>"
            ]
          },
          "metadata": {
            "tags": []
          }
        }
      ]
    },
    {
      "cell_type": "markdown",
      "metadata": {
        "id": "iYBqqDK42RGn",
        "colab_type": "text"
      },
      "source": [
        "객실을 갖고 있던 승객의 수가 적기 때문에, 생존 확률은 중요한 표준 편차를 갖고 우리는 다른 데스크들에 있던 승객들의 생존율을 구별할 수 없다.\n",
        "\n",
        "그러나 객실의 승객들이 (X)가 없는 승객들에 비해 일반적으로 생존 확률이 높은 것을 볼 수 있다.\n",
        "\n",
        "특히 객실 B,C,D,E,F 에서 이를 확인할 수 있다."
      ]
    },
    {
      "cell_type": "code",
      "metadata": {
        "id": "8aILYXVY2GvE",
        "colab_type": "code",
        "colab": {}
      },
      "source": [
        "dataset = pd.get_dummies(dataset, columns = ['Cabin'], prefix='Cabin')"
      ],
      "execution_count": 0,
      "outputs": []
    },
    {
      "cell_type": "markdown",
      "metadata": {
        "id": "TskSEaUb4WfD",
        "colab_type": "text"
      },
      "source": [
        "####5.4 Ticket"
      ]
    },
    {
      "cell_type": "code",
      "metadata": {
        "id": "1-70hs_13xi8",
        "colab_type": "code",
        "outputId": "a3fb1e52-5d0d-451b-d49d-76e46542add8",
        "colab": {
          "base_uri": "https://localhost:8080/",
          "height": 122
        }
      },
      "source": [
        "dataset['Ticket'].head()"
      ],
      "execution_count": 64,
      "outputs": [
        {
          "output_type": "execute_result",
          "data": {
            "text/plain": [
              "0           A/5 21171\n",
              "1            PC 17599\n",
              "2    STON/O2. 3101282\n",
              "3              113803\n",
              "4              373450\n",
              "Name: Ticket, dtype: object"
            ]
          },
          "metadata": {
            "tags": []
          },
          "execution_count": 64
        }
      ]
    },
    {
      "cell_type": "markdown",
      "metadata": {
        "id": "Rz_w_6kM4dsj",
        "colab_type": "text"
      },
      "source": [
        "동일한 접두사를 공유하는 티켓들은 함께 배치된 객실을 예약했음을 의미한다. 따라서 이는 배 안의 선실들의 실제 위치로 이어질 수 있다.\n",
        "\n",
        "접두사가 동일한 티켓들은 비슷한 객실 등급과 생존율을 가질 것이다.\n",
        "\n",
        "따라서 Ticket feature 컬럼을 티켓 접두사로 대체하기로 했다. 이는 더 유익할 것이다."
      ]
    },
    {
      "cell_type": "code",
      "metadata": {
        "id": "EN7XKk-64cMA",
        "colab_type": "code",
        "outputId": "312dd6cf-1a44-4ad9-ee9f-4848f6699624",
        "colab": {
          "base_uri": "https://localhost:8080/",
          "height": 122
        }
      },
      "source": [
        "## Treat Ticket by extracting the ticket prefix. When there is no prefix it returns X.\n",
        "\n",
        "Ticket = []\n",
        "for i in list(dataset.Ticket):\n",
        "  if not i.isdigit():\n",
        "    Ticket.append(i.replace(\".\",\"\").replace(\"/\",\"\").strip().split(' ')[0])  # Take Prefix\n",
        "  else:\n",
        "    Ticket.append('X')\n",
        "dataset['Ticket'] = Ticket\n",
        "dataset['Ticket'].head()"
      ],
      "execution_count": 65,
      "outputs": [
        {
          "output_type": "execute_result",
          "data": {
            "text/plain": [
              "0        A5\n",
              "1        PC\n",
              "2    STONO2\n",
              "3         X\n",
              "4         X\n",
              "Name: Ticket, dtype: object"
            ]
          },
          "metadata": {
            "tags": []
          },
          "execution_count": 65
        }
      ]
    },
    {
      "cell_type": "code",
      "metadata": {
        "id": "jRmbbi8r8a-f",
        "colab_type": "code",
        "colab": {}
      },
      "source": [
        "dataset = pd.get_dummies(dataset, columns = ['Ticket'], prefix='T')"
      ],
      "execution_count": 0,
      "outputs": []
    },
    {
      "cell_type": "code",
      "metadata": {
        "id": "1ekyHgqZ-XAW",
        "colab_type": "code",
        "colab": {}
      },
      "source": [
        "# Create categorical values for Pclass\n",
        "dataset['Pclass'] = dataset['Pclass'].astype('category')\n",
        "dataset = pd.get_dummies(dataset, columns = ['Pclass'],prefix='Pc')"
      ],
      "execution_count": 0,
      "outputs": []
    },
    {
      "cell_type": "code",
      "metadata": {
        "id": "TyXO_Mcg-mSq",
        "colab_type": "code",
        "colab": {}
      },
      "source": [
        "# Drop useless variables\n",
        "dataset.drop(labels = ['PassengerId'], axis=1, inplace =True)"
      ],
      "execution_count": 0,
      "outputs": []
    },
    {
      "cell_type": "code",
      "metadata": {
        "id": "t_ltoy8s_4iJ",
        "colab_type": "code",
        "outputId": "51d0aaf6-e75d-41b4-e242-9a34f175424e",
        "colab": {
          "base_uri": "https://localhost:8080/",
          "height": 215
        }
      },
      "source": [
        "dataset.head()"
      ],
      "execution_count": 69,
      "outputs": [
        {
          "output_type": "execute_result",
          "data": {
            "text/html": [
              "<div>\n",
              "<style scoped>\n",
              "    .dataframe tbody tr th:only-of-type {\n",
              "        vertical-align: middle;\n",
              "    }\n",
              "\n",
              "    .dataframe tbody tr th {\n",
              "        vertical-align: top;\n",
              "    }\n",
              "\n",
              "    .dataframe thead th {\n",
              "        text-align: right;\n",
              "    }\n",
              "</style>\n",
              "<table border=\"1\" class=\"dataframe\">\n",
              "  <thead>\n",
              "    <tr style=\"text-align: right;\">\n",
              "      <th></th>\n",
              "      <th>Survived</th>\n",
              "      <th>Sex</th>\n",
              "      <th>Age</th>\n",
              "      <th>SibSp</th>\n",
              "      <th>Parch</th>\n",
              "      <th>Fare</th>\n",
              "      <th>Fsize</th>\n",
              "      <th>Single</th>\n",
              "      <th>SmallF</th>\n",
              "      <th>MedF</th>\n",
              "      <th>LargeF</th>\n",
              "      <th>Title_0</th>\n",
              "      <th>Title_1</th>\n",
              "      <th>Title_2</th>\n",
              "      <th>Title_3</th>\n",
              "      <th>Em_C</th>\n",
              "      <th>Em_Q</th>\n",
              "      <th>Em_S</th>\n",
              "      <th>Cabin_A</th>\n",
              "      <th>Cabin_B</th>\n",
              "      <th>Cabin_C</th>\n",
              "      <th>Cabin_D</th>\n",
              "      <th>Cabin_E</th>\n",
              "      <th>Cabin_F</th>\n",
              "      <th>Cabin_G</th>\n",
              "      <th>Cabin_T</th>\n",
              "      <th>Cabin_X</th>\n",
              "      <th>T_A4</th>\n",
              "      <th>T_A5</th>\n",
              "      <th>T_AS</th>\n",
              "      <th>T_C</th>\n",
              "      <th>T_CA</th>\n",
              "      <th>T_CASOTON</th>\n",
              "      <th>T_FC</th>\n",
              "      <th>T_FCC</th>\n",
              "      <th>T_Fa</th>\n",
              "      <th>T_LINE</th>\n",
              "      <th>T_PC</th>\n",
              "      <th>T_PP</th>\n",
              "      <th>T_PPP</th>\n",
              "      <th>T_SC</th>\n",
              "      <th>T_SCA4</th>\n",
              "      <th>T_SCAH</th>\n",
              "      <th>T_SCOW</th>\n",
              "      <th>T_SCPARIS</th>\n",
              "      <th>T_SCParis</th>\n",
              "      <th>T_SOC</th>\n",
              "      <th>T_SOP</th>\n",
              "      <th>T_SOPP</th>\n",
              "      <th>T_SOTONO2</th>\n",
              "      <th>T_SOTONOQ</th>\n",
              "      <th>T_SP</th>\n",
              "      <th>T_STONO</th>\n",
              "      <th>T_STONO2</th>\n",
              "      <th>T_SWPP</th>\n",
              "      <th>T_WC</th>\n",
              "      <th>T_WEP</th>\n",
              "      <th>T_X</th>\n",
              "      <th>Pc_1</th>\n",
              "      <th>Pc_2</th>\n",
              "      <th>Pc_3</th>\n",
              "    </tr>\n",
              "  </thead>\n",
              "  <tbody>\n",
              "    <tr>\n",
              "      <th>0</th>\n",
              "      <td>0</td>\n",
              "      <td>0</td>\n",
              "      <td>22.0</td>\n",
              "      <td>1</td>\n",
              "      <td>0</td>\n",
              "      <td>1.981001</td>\n",
              "      <td>2</td>\n",
              "      <td>0</td>\n",
              "      <td>1</td>\n",
              "      <td>0</td>\n",
              "      <td>0</td>\n",
              "      <td>0</td>\n",
              "      <td>0</td>\n",
              "      <td>1</td>\n",
              "      <td>0</td>\n",
              "      <td>0</td>\n",
              "      <td>0</td>\n",
              "      <td>1</td>\n",
              "      <td>0</td>\n",
              "      <td>0</td>\n",
              "      <td>0</td>\n",
              "      <td>0</td>\n",
              "      <td>0</td>\n",
              "      <td>0</td>\n",
              "      <td>0</td>\n",
              "      <td>0</td>\n",
              "      <td>1</td>\n",
              "      <td>0</td>\n",
              "      <td>1</td>\n",
              "      <td>0</td>\n",
              "      <td>0</td>\n",
              "      <td>0</td>\n",
              "      <td>0</td>\n",
              "      <td>0</td>\n",
              "      <td>0</td>\n",
              "      <td>0</td>\n",
              "      <td>0</td>\n",
              "      <td>0</td>\n",
              "      <td>0</td>\n",
              "      <td>0</td>\n",
              "      <td>0</td>\n",
              "      <td>0</td>\n",
              "      <td>0</td>\n",
              "      <td>0</td>\n",
              "      <td>0</td>\n",
              "      <td>0</td>\n",
              "      <td>0</td>\n",
              "      <td>0</td>\n",
              "      <td>0</td>\n",
              "      <td>0</td>\n",
              "      <td>0</td>\n",
              "      <td>0</td>\n",
              "      <td>0</td>\n",
              "      <td>0</td>\n",
              "      <td>0</td>\n",
              "      <td>0</td>\n",
              "      <td>0</td>\n",
              "      <td>0</td>\n",
              "      <td>0</td>\n",
              "      <td>0</td>\n",
              "      <td>1</td>\n",
              "    </tr>\n",
              "    <tr>\n",
              "      <th>1</th>\n",
              "      <td>1</td>\n",
              "      <td>1</td>\n",
              "      <td>38.0</td>\n",
              "      <td>1</td>\n",
              "      <td>0</td>\n",
              "      <td>4.266662</td>\n",
              "      <td>2</td>\n",
              "      <td>0</td>\n",
              "      <td>1</td>\n",
              "      <td>0</td>\n",
              "      <td>0</td>\n",
              "      <td>0</td>\n",
              "      <td>1</td>\n",
              "      <td>0</td>\n",
              "      <td>0</td>\n",
              "      <td>1</td>\n",
              "      <td>0</td>\n",
              "      <td>0</td>\n",
              "      <td>0</td>\n",
              "      <td>0</td>\n",
              "      <td>1</td>\n",
              "      <td>0</td>\n",
              "      <td>0</td>\n",
              "      <td>0</td>\n",
              "      <td>0</td>\n",
              "      <td>0</td>\n",
              "      <td>0</td>\n",
              "      <td>0</td>\n",
              "      <td>0</td>\n",
              "      <td>0</td>\n",
              "      <td>0</td>\n",
              "      <td>0</td>\n",
              "      <td>0</td>\n",
              "      <td>0</td>\n",
              "      <td>0</td>\n",
              "      <td>0</td>\n",
              "      <td>0</td>\n",
              "      <td>1</td>\n",
              "      <td>0</td>\n",
              "      <td>0</td>\n",
              "      <td>0</td>\n",
              "      <td>0</td>\n",
              "      <td>0</td>\n",
              "      <td>0</td>\n",
              "      <td>0</td>\n",
              "      <td>0</td>\n",
              "      <td>0</td>\n",
              "      <td>0</td>\n",
              "      <td>0</td>\n",
              "      <td>0</td>\n",
              "      <td>0</td>\n",
              "      <td>0</td>\n",
              "      <td>0</td>\n",
              "      <td>0</td>\n",
              "      <td>0</td>\n",
              "      <td>0</td>\n",
              "      <td>0</td>\n",
              "      <td>0</td>\n",
              "      <td>1</td>\n",
              "      <td>0</td>\n",
              "      <td>0</td>\n",
              "    </tr>\n",
              "    <tr>\n",
              "      <th>2</th>\n",
              "      <td>1</td>\n",
              "      <td>1</td>\n",
              "      <td>26.0</td>\n",
              "      <td>0</td>\n",
              "      <td>0</td>\n",
              "      <td>2.070022</td>\n",
              "      <td>1</td>\n",
              "      <td>1</td>\n",
              "      <td>0</td>\n",
              "      <td>0</td>\n",
              "      <td>0</td>\n",
              "      <td>0</td>\n",
              "      <td>1</td>\n",
              "      <td>0</td>\n",
              "      <td>0</td>\n",
              "      <td>0</td>\n",
              "      <td>0</td>\n",
              "      <td>1</td>\n",
              "      <td>0</td>\n",
              "      <td>0</td>\n",
              "      <td>0</td>\n",
              "      <td>0</td>\n",
              "      <td>0</td>\n",
              "      <td>0</td>\n",
              "      <td>0</td>\n",
              "      <td>0</td>\n",
              "      <td>1</td>\n",
              "      <td>0</td>\n",
              "      <td>0</td>\n",
              "      <td>0</td>\n",
              "      <td>0</td>\n",
              "      <td>0</td>\n",
              "      <td>0</td>\n",
              "      <td>0</td>\n",
              "      <td>0</td>\n",
              "      <td>0</td>\n",
              "      <td>0</td>\n",
              "      <td>0</td>\n",
              "      <td>0</td>\n",
              "      <td>0</td>\n",
              "      <td>0</td>\n",
              "      <td>0</td>\n",
              "      <td>0</td>\n",
              "      <td>0</td>\n",
              "      <td>0</td>\n",
              "      <td>0</td>\n",
              "      <td>0</td>\n",
              "      <td>0</td>\n",
              "      <td>0</td>\n",
              "      <td>0</td>\n",
              "      <td>0</td>\n",
              "      <td>0</td>\n",
              "      <td>0</td>\n",
              "      <td>1</td>\n",
              "      <td>0</td>\n",
              "      <td>0</td>\n",
              "      <td>0</td>\n",
              "      <td>0</td>\n",
              "      <td>0</td>\n",
              "      <td>0</td>\n",
              "      <td>1</td>\n",
              "    </tr>\n",
              "    <tr>\n",
              "      <th>3</th>\n",
              "      <td>1</td>\n",
              "      <td>1</td>\n",
              "      <td>35.0</td>\n",
              "      <td>1</td>\n",
              "      <td>0</td>\n",
              "      <td>3.972177</td>\n",
              "      <td>2</td>\n",
              "      <td>0</td>\n",
              "      <td>1</td>\n",
              "      <td>0</td>\n",
              "      <td>0</td>\n",
              "      <td>0</td>\n",
              "      <td>1</td>\n",
              "      <td>0</td>\n",
              "      <td>0</td>\n",
              "      <td>0</td>\n",
              "      <td>0</td>\n",
              "      <td>1</td>\n",
              "      <td>0</td>\n",
              "      <td>0</td>\n",
              "      <td>1</td>\n",
              "      <td>0</td>\n",
              "      <td>0</td>\n",
              "      <td>0</td>\n",
              "      <td>0</td>\n",
              "      <td>0</td>\n",
              "      <td>0</td>\n",
              "      <td>0</td>\n",
              "      <td>0</td>\n",
              "      <td>0</td>\n",
              "      <td>0</td>\n",
              "      <td>0</td>\n",
              "      <td>0</td>\n",
              "      <td>0</td>\n",
              "      <td>0</td>\n",
              "      <td>0</td>\n",
              "      <td>0</td>\n",
              "      <td>0</td>\n",
              "      <td>0</td>\n",
              "      <td>0</td>\n",
              "      <td>0</td>\n",
              "      <td>0</td>\n",
              "      <td>0</td>\n",
              "      <td>0</td>\n",
              "      <td>0</td>\n",
              "      <td>0</td>\n",
              "      <td>0</td>\n",
              "      <td>0</td>\n",
              "      <td>0</td>\n",
              "      <td>0</td>\n",
              "      <td>0</td>\n",
              "      <td>0</td>\n",
              "      <td>0</td>\n",
              "      <td>0</td>\n",
              "      <td>0</td>\n",
              "      <td>0</td>\n",
              "      <td>0</td>\n",
              "      <td>1</td>\n",
              "      <td>1</td>\n",
              "      <td>0</td>\n",
              "      <td>0</td>\n",
              "    </tr>\n",
              "    <tr>\n",
              "      <th>4</th>\n",
              "      <td>0</td>\n",
              "      <td>0</td>\n",
              "      <td>35.0</td>\n",
              "      <td>0</td>\n",
              "      <td>0</td>\n",
              "      <td>2.085672</td>\n",
              "      <td>1</td>\n",
              "      <td>1</td>\n",
              "      <td>0</td>\n",
              "      <td>0</td>\n",
              "      <td>0</td>\n",
              "      <td>0</td>\n",
              "      <td>0</td>\n",
              "      <td>1</td>\n",
              "      <td>0</td>\n",
              "      <td>0</td>\n",
              "      <td>0</td>\n",
              "      <td>1</td>\n",
              "      <td>0</td>\n",
              "      <td>0</td>\n",
              "      <td>0</td>\n",
              "      <td>0</td>\n",
              "      <td>0</td>\n",
              "      <td>0</td>\n",
              "      <td>0</td>\n",
              "      <td>0</td>\n",
              "      <td>1</td>\n",
              "      <td>0</td>\n",
              "      <td>0</td>\n",
              "      <td>0</td>\n",
              "      <td>0</td>\n",
              "      <td>0</td>\n",
              "      <td>0</td>\n",
              "      <td>0</td>\n",
              "      <td>0</td>\n",
              "      <td>0</td>\n",
              "      <td>0</td>\n",
              "      <td>0</td>\n",
              "      <td>0</td>\n",
              "      <td>0</td>\n",
              "      <td>0</td>\n",
              "      <td>0</td>\n",
              "      <td>0</td>\n",
              "      <td>0</td>\n",
              "      <td>0</td>\n",
              "      <td>0</td>\n",
              "      <td>0</td>\n",
              "      <td>0</td>\n",
              "      <td>0</td>\n",
              "      <td>0</td>\n",
              "      <td>0</td>\n",
              "      <td>0</td>\n",
              "      <td>0</td>\n",
              "      <td>0</td>\n",
              "      <td>0</td>\n",
              "      <td>0</td>\n",
              "      <td>0</td>\n",
              "      <td>1</td>\n",
              "      <td>0</td>\n",
              "      <td>0</td>\n",
              "      <td>1</td>\n",
              "    </tr>\n",
              "  </tbody>\n",
              "</table>\n",
              "</div>"
            ],
            "text/plain": [
              "   Survived  Sex   Age  SibSp  Parch  ...  T_WEP  T_X  Pc_1  Pc_2  Pc_3\n",
              "0         0    0  22.0      1      0  ...      0    0     0     0     1\n",
              "1         1    1  38.0      1      0  ...      0    0     1     0     0\n",
              "2         1    1  26.0      0      0  ...      0    0     0     0     1\n",
              "3         1    1  35.0      1      0  ...      0    1     1     0     0\n",
              "4         0    0  35.0      0      0  ...      0    1     0     0     1\n",
              "\n",
              "[5 rows x 61 columns]"
            ]
          },
          "metadata": {
            "tags": []
          },
          "execution_count": 69
        }
      ]
    },
    {
      "cell_type": "markdown",
      "metadata": {
        "id": "2KbkEjzTAJ3y",
        "colab_type": "text"
      },
      "source": [
        "#6.Modeling"
      ]
    },
    {
      "cell_type": "code",
      "metadata": {
        "id": "Oo_-dtNI_58k",
        "colab_type": "code",
        "outputId": "22c0ffbf-021e-422a-dc24-4d717ee1e421",
        "colab": {
          "base_uri": "https://localhost:8080/",
          "height": 125
        }
      },
      "source": [
        "## Separate train dataset and test dataset\n",
        "\n",
        "train = dataset[:train_len]\n",
        "test = dataset[train_len:]\n",
        "test.drop(labels=['Survived'],axis=1,inplace=True)"
      ],
      "execution_count": 70,
      "outputs": [
        {
          "output_type": "stream",
          "text": [
            "/usr/local/lib/python3.6/dist-packages/pandas/core/frame.py:4117: SettingWithCopyWarning: \n",
            "A value is trying to be set on a copy of a slice from a DataFrame\n",
            "\n",
            "See the caveats in the documentation: http://pandas.pydata.org/pandas-docs/stable/user_guide/indexing.html#returning-a-view-versus-a-copy\n",
            "  errors=errors,\n"
          ],
          "name": "stderr"
        }
      ]
    },
    {
      "cell_type": "code",
      "metadata": {
        "id": "rftTE0BxAhCT",
        "colab_type": "code",
        "outputId": "bc0ef7d8-599a-456f-ec52-136f8eae0acf",
        "colab": {
          "base_uri": "https://localhost:8080/",
          "height": 142
        }
      },
      "source": [
        "# Separate train features and label\n",
        "\n",
        "train['Survived'] = train['Survived'].astype(int)\n",
        "Y_train = train['Survived']\n",
        "X_train = train.drop(labels = ['Survived'],axis =1)"
      ],
      "execution_count": 71,
      "outputs": [
        {
          "output_type": "stream",
          "text": [
            "/usr/local/lib/python3.6/dist-packages/ipykernel_launcher.py:2: SettingWithCopyWarning: \n",
            "A value is trying to be set on a copy of a slice from a DataFrame.\n",
            "Try using .loc[row_indexer,col_indexer] = value instead\n",
            "\n",
            "See the caveats in the documentation: http://pandas.pydata.org/pandas-docs/stable/user_guide/indexing.html#returning-a-view-versus-a-copy\n",
            "  \n"
          ],
          "name": "stderr"
        }
      ]
    },
    {
      "cell_type": "markdown",
      "metadata": {
        "id": "Z15WTTaiRgac",
        "colab_type": "text"
      },
      "source": [
        "####6.1 Simple modeling"
      ]
    },
    {
      "cell_type": "markdown",
      "metadata": {
        "id": "rslLd3ayRki0",
        "colab_type": "text"
      },
      "source": [
        "#####6.1.1 Cross validate models\n",
        "\n",
        "인기있는 10개의 classifier를 비교하고, stratified k-fold 교차검증 절차를 통한 각각의 평균 정확성을 평가한다."
      ]
    },
    {
      "cell_type": "markdown",
      "metadata": {
        "id": "lyzBbMYybir0",
        "colab_type": "text"
      },
      "source": [
        "*   SVC\n",
        "*   Decision Tree\n",
        "*   AdaBoost\n",
        "*   Random Forest\n",
        "*   Extra Trees\n",
        "*   Gradient Boosting\n",
        "*   Multiple layer perceprton (neural network)\n",
        "*   KNN\n",
        "*   Logistic regression\n",
        "*   Linear Discriminant Analysis\n",
        "\n"
      ]
    },
    {
      "cell_type": "code",
      "metadata": {
        "id": "eFZGLaO7DAP4",
        "colab_type": "code",
        "colab": {}
      },
      "source": [
        "# Cross validate model with Kfold stratified cross val\n",
        "kfold = StratifiedKFold(n_splits=10)"
      ],
      "execution_count": 0,
      "outputs": []
    },
    {
      "cell_type": "code",
      "metadata": {
        "id": "jKIs07xybhY6",
        "colab_type": "code",
        "colab": {}
      },
      "source": [
        "# Modeling step Test differents algorithms\n",
        "random_state = 2\n",
        "classifiers = []\n",
        "classifiers.append(SVC(random_state=random_state))\n",
        "classifiers.append(DecisionTreeClassifier(random_state=random_state))\n",
        "\n",
        "classifiers.append(AdaBoostClassifier(DecisionTreeClassifier(random_state=random_state), random_state=random_state, learning_rate=0.1))\n",
        "\n",
        "classifiers.append(RandomForestClassifier(random_state=random_state))\n",
        "classifiers.append(ExtraTreesClassifier(random_state=random_state))\n",
        "classifiers.append(GradientBoostingClassifier(random_state=random_state))\n",
        "classifiers.append(MLPClassifier(random_state=random_state))\n",
        "\n",
        "classifiers.append(KNeighborsClassifier())\n",
        "\n",
        "classifiers.append(LogisticRegression(random_state=random_state))\n",
        "classifiers.append(LinearDiscriminantAnalysis())"
      ],
      "execution_count": 0,
      "outputs": []
    },
    {
      "cell_type": "code",
      "metadata": {
        "id": "iez-VMk3dKNQ",
        "colab_type": "code",
        "outputId": "0bde9e76-5866-4a11-f80d-60b91884de5c",
        "colab": {
          "base_uri": "https://localhost:8080/",
          "height": 301
        }
      },
      "source": [
        "cv_results = []\n",
        "for classifier in classifiers:\n",
        "  cv_results.append(cross_val_score(classifier, X_train, y=Y_train, scoring='accuracy',cv=kfold, n_jobs=4))\n",
        "\n",
        "cv_means = []\n",
        "cv_std = []\n",
        "for cv_result in cv_results:\n",
        "  cv_means.append(cv_result.mean())\n",
        "  cv_std.append(cv_result.std())\n",
        "\n",
        "cv_res = pd.DataFrame({'CrossValMeans':cv_means, 'CrossValerrors':cv_std, \n",
        "                       'Algorithm':['SVC','DecisionTree','AdaBoost','RandomForest','ExtraTrees','GradientBoosting',\n",
        "                                    'MultipleLayerPerceptron','KNeighbors','LogisticRegression','LinearDiscriminantAnalysis']})\n",
        "g = sns.barplot('CrossValMeans','Algorithm',data = cv_res, palette='Set3',orient='h',**{'xerr':cv_std})\n",
        "g.set_xlabel('Mean Accuracy')\n",
        "g = g.set_title('Cross validation scores')"
      ],
      "execution_count": 74,
      "outputs": [
        {
          "output_type": "display_data",
          "data": {
            "image/png": "[encoded data removed]",
            "text/plain": [
              "<Figure size 432x288 with 1 Axes>"
            ]
          },
          "metadata": {
            "tags": []
          }
        }
      ]
    },
    {
      "cell_type": "markdown",
      "metadata": {
        "id": "N3zTnSy5j2d0",
        "colab_type": "text"
      },
      "source": [
        "SVC, AdaBoost, RandomForest, ExtraTrees, GradientBoosting classifier들을 앙상블 모델링에 사용하기로 결정한다."
      ]
    },
    {
      "cell_type": "code",
      "metadata": {
        "id": "QIsAU8-gjcl4",
        "colab_type": "code",
        "outputId": "fbcca3c4-e687-44d7-c838-40853644168b",
        "colab": {
          "base_uri": "https://localhost:8080/",
          "height": 343
        }
      },
      "source": [
        "display(cv_res)"
      ],
      "execution_count": 75,
      "outputs": [
        {
          "output_type": "display_data",
          "data": {
            "text/html": [
              "<div>\n",
              "<style scoped>\n",
              "    .dataframe tbody tr th:only-of-type {\n",
              "        vertical-align: middle;\n",
              "    }\n",
              "\n",
              "    .dataframe tbody tr th {\n",
              "        vertical-align: top;\n",
              "    }\n",
              "\n",
              "    .dataframe thead th {\n",
              "        text-align: right;\n",
              "    }\n",
              "</style>\n",
              "<table border=\"1\" class=\"dataframe\">\n",
              "  <thead>\n",
              "    <tr style=\"text-align: right;\">\n",
              "      <th></th>\n",
              "      <th>CrossValMeans</th>\n",
              "      <th>CrossValerrors</th>\n",
              "      <th>Algorithm</th>\n",
              "    </tr>\n",
              "  </thead>\n",
              "  <tbody>\n",
              "    <tr>\n",
              "      <th>0</th>\n",
              "      <td>0.724208</td>\n",
              "      <td>0.042904</td>\n",
              "      <td>SVC</td>\n",
              "    </tr>\n",
              "    <tr>\n",
              "      <th>1</th>\n",
              "      <td>0.798021</td>\n",
              "      <td>0.040492</td>\n",
              "      <td>DecisionTree</td>\n",
              "    </tr>\n",
              "    <tr>\n",
              "      <th>2</th>\n",
              "      <td>0.811645</td>\n",
              "      <td>0.036960</td>\n",
              "      <td>AdaBoost</td>\n",
              "    </tr>\n",
              "    <tr>\n",
              "      <th>3</th>\n",
              "      <td>0.808184</td>\n",
              "      <td>0.040095</td>\n",
              "      <td>RandomForest</td>\n",
              "    </tr>\n",
              "    <tr>\n",
              "      <th>4</th>\n",
              "      <td>0.807074</td>\n",
              "      <td>0.042014</td>\n",
              "      <td>ExtraTrees</td>\n",
              "    </tr>\n",
              "    <tr>\n",
              "      <th>5</th>\n",
              "      <td>0.830873</td>\n",
              "      <td>0.038852</td>\n",
              "      <td>GradientBoosting</td>\n",
              "    </tr>\n",
              "    <tr>\n",
              "      <th>6</th>\n",
              "      <td>0.818412</td>\n",
              "      <td>0.034697</td>\n",
              "      <td>MultipleLayerPerceptron</td>\n",
              "    </tr>\n",
              "    <tr>\n",
              "      <th>7</th>\n",
              "      <td>0.794574</td>\n",
              "      <td>0.042835</td>\n",
              "      <td>KNeighbors</td>\n",
              "    </tr>\n",
              "    <tr>\n",
              "      <th>8</th>\n",
              "      <td>0.822932</td>\n",
              "      <td>0.033765</td>\n",
              "      <td>LogisticRegression</td>\n",
              "    </tr>\n",
              "    <tr>\n",
              "      <th>9</th>\n",
              "      <td>0.822932</td>\n",
              "      <td>0.038751</td>\n",
              "      <td>LinearDiscriminantAnalysis</td>\n",
              "    </tr>\n",
              "  </tbody>\n",
              "</table>\n",
              "</div>"
            ],
            "text/plain": [
              "   CrossValMeans  CrossValerrors                   Algorithm\n",
              "0       0.724208        0.042904                         SVC\n",
              "1       0.798021        0.040492                DecisionTree\n",
              "2       0.811645        0.036960                    AdaBoost\n",
              "3       0.808184        0.040095                RandomForest\n",
              "4       0.807074        0.042014                  ExtraTrees\n",
              "5       0.830873        0.038852            GradientBoosting\n",
              "6       0.818412        0.034697     MultipleLayerPerceptron\n",
              "7       0.794574        0.042835                  KNeighbors\n",
              "8       0.822932        0.033765          LogisticRegression\n",
              "9       0.822932        0.038751  LinearDiscriminantAnalysis"
            ]
          },
          "metadata": {
            "tags": []
          }
        }
      ]
    },
    {
      "cell_type": "markdown",
      "metadata": {
        "id": "hlu-gcXWvVIh",
        "colab_type": "text"
      },
      "source": [
        "#####6.1.2 최적 모델을 위한 하이퍼파라미터 튜닝\n",
        "\n",
        "AdaBoost, ExtraTrees, RandomForest, GradientBoosting, SVC classifier들을 위한 grid search 최적화를 수행했다.\n",
        "\n",
        "4cpu를 갖고 있기에 'n_jobs' 파라미터를 4로 설정했다. 계산 시간은 명확하게 감소했다.\n",
        "\n",
        "그러나 이 단계는 4cpu에서 15분이 소요되었기에 시간이 오래 걸릴 수 있으므로 조심해야 한다. "
      ]
    },
    {
      "cell_type": "code",
      "metadata": {
        "id": "xk5XL3EopTbg",
        "colab_type": "code",
        "outputId": "999ca7f6-336b-4668-a05a-78cde283a1de",
        "colab": {
          "base_uri": "https://localhost:8080/",
          "height": 105
        }
      },
      "source": [
        "## Meta modeling with AdaBoost, RF, ExtraTrees and GradientBoosting\n",
        "\n",
        "# Adaboost\n",
        "DTC = DecisionTreeClassifier()\n",
        "\n",
        "adaDTC = AdaBoostClassifier(DTC, random_state=7)\n",
        "\n",
        "ada_param_grid = {'base_estimator__criterion': ['gini','entropy'],\n",
        "                  'base_estimator__splitter': ['best','random'],'algorithm':['SAMME','SMME.R'],\n",
        "                  'n_estimators':[1,2],\n",
        "                  'learning_rate': [0.0001, 0.001, 0.01, 0.1, 0.2, 0.3, 1.5]}\n",
        "gsadaDTC = GridSearchCV(adaDTC, param_grid=ada_param_grid, cv=kfold, scoring='accuracy', n_jobs=4, verbose=1)\n",
        "gsadaDTC.fit(X_train, Y_train)\n",
        "ada_best = gsadaDTC.best_estimator_                "
      ],
      "execution_count": 76,
      "outputs": [
        {
          "output_type": "stream",
          "text": [
            "Fitting 10 folds for each of 112 candidates, totalling 1120 fits\n"
          ],
          "name": "stdout"
        },
        {
          "output_type": "stream",
          "text": [
            "[Parallel(n_jobs=4)]: Using backend LokyBackend with 4 concurrent workers.\n",
            "[Parallel(n_jobs=4)]: Done 128 tasks      | elapsed:    1.5s\n",
            "[Parallel(n_jobs=4)]: Done 1006 tasks      | elapsed:    6.8s\n",
            "[Parallel(n_jobs=4)]: Done 1120 out of 1120 | elapsed:    7.1s finished\n"
          ],
          "name": "stderr"
        }
      ]
    },
    {
      "cell_type": "code",
      "metadata": {
        "id": "waaF9l6WzrWY",
        "colab_type": "code",
        "outputId": "ff97eda3-d4c4-40c9-a296-e9ac6a1501b2",
        "colab": {
          "base_uri": "https://localhost:8080/",
          "height": 34
        }
      },
      "source": [
        "gsadaDTC.best_score_"
      ],
      "execution_count": 77,
      "outputs": [
        {
          "output_type": "execute_result",
          "data": {
            "text/plain": [
              "0.8093845760980592"
            ]
          },
          "metadata": {
            "tags": []
          },
          "execution_count": 77
        }
      ]
    },
    {
      "cell_type": "code",
      "metadata": {
        "id": "VKVDmnTY1E-0",
        "colab_type": "code",
        "outputId": "8d097d22-3575-46da-9053-c3422301ee2f",
        "colab": {
          "base_uri": "https://localhost:8080/",
          "height": 140
        }
      },
      "source": [
        "#ExtraTrees\n",
        "ExtC = ExtraTreesClassifier()\n",
        "\n",
        "## Search grid for optimal parameters\n",
        "ex_param_grid = {'max_depth':[None],\n",
        "                 'max_features':[1,3,10],\n",
        "                 'min_samples_split':[2,3,10],\n",
        "                 'min_samples_leaf':[1,3,10],\n",
        "                 'bootstrap':[False],\n",
        "                 'n_estimators':[100,300],\n",
        "                 'criterion':['gini']}\n",
        "gsExtC = GridSearchCV(ExtC, param_grid = ex_param_grid, cv=kfold, scoring='accuracy',n_jobs=4, verbose=1)\n",
        "gsExtC.fit(X_train, Y_train)\n",
        "ExtC_best = gsExtC.best_estimator_\n",
        "\n",
        "#Best score\n",
        "gsExtC.best_score_"
      ],
      "execution_count": 78,
      "outputs": [
        {
          "output_type": "stream",
          "text": [
            "[Parallel(n_jobs=4)]: Using backend LokyBackend with 4 concurrent workers.\n"
          ],
          "name": "stderr"
        },
        {
          "output_type": "stream",
          "text": [
            "Fitting 10 folds for each of 54 candidates, totalling 540 fits\n"
          ],
          "name": "stdout"
        },
        {
          "output_type": "stream",
          "text": [
            "[Parallel(n_jobs=4)]: Done  42 tasks      | elapsed:   10.9s\n",
            "[Parallel(n_jobs=4)]: Done 192 tasks      | elapsed:   39.3s\n",
            "[Parallel(n_jobs=4)]: Done 442 tasks      | elapsed:  1.6min\n",
            "[Parallel(n_jobs=4)]: Done 540 out of 540 | elapsed:  2.0min finished\n"
          ],
          "name": "stderr"
        },
        {
          "output_type": "execute_result",
          "data": {
            "text/plain": [
              "0.8331332992849847"
            ]
          },
          "metadata": {
            "tags": []
          },
          "execution_count": 78
        }
      ]
    },
    {
      "cell_type": "code",
      "metadata": {
        "id": "nKuOUao9_sbB",
        "colab_type": "code",
        "outputId": "899d72bf-4ee6-4cdc-8df5-59547a7a371a",
        "colab": {
          "base_uri": "https://localhost:8080/",
          "height": 140
        }
      },
      "source": [
        "# RFC Parameters tunning\n",
        "RFC = RandomForestClassifier()\n",
        "\n",
        "## Search grid for optimal parameters\n",
        "rf_param_grid = {\"max_depth\": [None],\n",
        "              \"max_features\": [1, 3, 10],\n",
        "              \"min_samples_split\": [2, 3, 10],\n",
        "              \"min_samples_leaf\": [1, 3, 10],\n",
        "              \"bootstrap\": [False],\n",
        "              \"n_estimators\" :[100,300],\n",
        "               \"criterion\": [\"gini\"]}\n",
        "gsRFC = GridSearchCV(RFC,param_grid = rf_param_grid, cv=kfold, scoring=\"accuracy\", n_jobs= 4, verbose = 1)\n",
        "gsRFC.fit(X_train, Y_train)\n",
        "RFC_best = gsRFC.best_estimator_\n",
        "\n",
        " # Best score\n",
        "gsRFC.best_score_ "
      ],
      "execution_count": 79,
      "outputs": [
        {
          "output_type": "stream",
          "text": [
            "Fitting 10 folds for each of 54 candidates, totalling 540 fits\n"
          ],
          "name": "stdout"
        },
        {
          "output_type": "stream",
          "text": [
            "[Parallel(n_jobs=4)]: Using backend LokyBackend with 4 concurrent workers.\n",
            "[Parallel(n_jobs=4)]: Done  42 tasks      | elapsed:   12.1s\n",
            "[Parallel(n_jobs=4)]: Done 192 tasks      | elapsed:   42.2s\n",
            "[Parallel(n_jobs=4)]: Done 442 tasks      | elapsed:  1.8min\n",
            "[Parallel(n_jobs=4)]: Done 540 out of 540 | elapsed:  2.2min finished\n"
          ],
          "name": "stderr"
        },
        {
          "output_type": "execute_result",
          "data": {
            "text/plain": [
              "0.8343079673135853"
            ]
          },
          "metadata": {
            "tags": []
          },
          "execution_count": 79
        }
      ]
    },
    {
      "cell_type": "code",
      "metadata": {
        "id": "HWYYAQxvDFUn",
        "colab_type": "code",
        "outputId": "a5b98d52-d67c-4aa4-fa91-28cb00f2d14f",
        "colab": {
          "base_uri": "https://localhost:8080/",
          "height": 140
        }
      },
      "source": [
        "# Gradient boosting tunning\n",
        "\n",
        "GBC = GradientBoostingClassifier()\n",
        "gb_param_grid = {'loss':['deviance'],\n",
        "                 'n_estimators':[100,200,300],\n",
        "                 'learning_rate':[0.1,0.05,0.01],\n",
        "                 'max_depth':[4,8],\n",
        "                 'min_samples_leaf':[100,150],\n",
        "                 'max_features':[0.3,0.1]}\n",
        "gsGBC = GridSearchCV(GBC, param_grid=gb_param_grid, cv=kfold, scoring='accuracy', n_jobs=4,verbose=1)\n",
        "\n",
        "gsGBC.fit(X_train, Y_train)\n",
        "\n",
        "GBC_best = gsGBC.best_estimator_\n",
        "\n",
        "# Best score\n",
        "gsGBC.best_score_"
      ],
      "execution_count": 80,
      "outputs": [
        {
          "output_type": "stream",
          "text": [
            "Fitting 10 folds for each of 72 candidates, totalling 720 fits\n"
          ],
          "name": "stdout"
        },
        {
          "output_type": "stream",
          "text": [
            "[Parallel(n_jobs=4)]: Using backend LokyBackend with 4 concurrent workers.\n",
            "[Parallel(n_jobs=4)]: Done  42 tasks      | elapsed:    5.4s\n",
            "[Parallel(n_jobs=4)]: Done 192 tasks      | elapsed:   23.0s\n",
            "[Parallel(n_jobs=4)]: Done 442 tasks      | elapsed:   52.0s\n",
            "[Parallel(n_jobs=4)]: Done 720 out of 720 | elapsed:  1.4min finished\n"
          ],
          "name": "stderr"
        },
        {
          "output_type": "execute_result",
          "data": {
            "text/plain": [
              "0.8388278855975486"
            ]
          },
          "metadata": {
            "tags": []
          },
          "execution_count": 80
        }
      ]
    },
    {
      "cell_type": "code",
      "metadata": {
        "id": "dEyaD08jFDFp",
        "colab_type": "code",
        "outputId": "c5931e47-a236-4168-8733-d405761d6314",
        "colab": {
          "base_uri": "https://localhost:8080/",
          "height": 122
        }
      },
      "source": [
        "### SVC classifier\n",
        "SVMC = SVC(probability=True)\n",
        "svc_param_grid = {'kernel':['rbf'],\n",
        "                  'gamma':[0.001,0.01,0.1,1],\n",
        "                  'C': [1,10,50,100,200,300,1000]}\n",
        "gsSVMC = GridSearchCV(SVMC, param_grid=svc_param_grid, cv=kfold, scoring='accuracy', n_jobs=4, verbose=1)\n",
        "\n",
        "gsSVMC.fit(X_train, Y_train)\n",
        "\n",
        "SVMC_best = gsSVMC.best_estimator_\n",
        "\n",
        "# Best score\n",
        "gsSVMC.best_score_"
      ],
      "execution_count": 81,
      "outputs": [
        {
          "output_type": "stream",
          "text": [
            "Fitting 10 folds for each of 28 candidates, totalling 280 fits\n"
          ],
          "name": "stdout"
        },
        {
          "output_type": "stream",
          "text": [
            "[Parallel(n_jobs=4)]: Using backend LokyBackend with 4 concurrent workers.\n",
            "[Parallel(n_jobs=4)]: Done  42 tasks      | elapsed:    8.6s\n",
            "[Parallel(n_jobs=4)]: Done 192 tasks      | elapsed:   41.9s\n",
            "[Parallel(n_jobs=4)]: Done 280 out of 280 | elapsed:  1.2min finished\n"
          ],
          "name": "stderr"
        },
        {
          "output_type": "execute_result",
          "data": {
            "text/plain": [
              "0.8331332992849848"
            ]
          },
          "metadata": {
            "tags": []
          },
          "execution_count": 81
        }
      ]
    },
    {
      "cell_type": "markdown",
      "metadata": {
        "id": "SJoH_mM7JISb",
        "colab_type": "text"
      },
      "source": [
        "#####6.1.3 학습 곡선 그리기"
      ]
    },
    {
      "cell_type": "markdown",
      "metadata": {
        "id": "eWXJ5YEmKFDu",
        "colab_type": "text"
      },
      "source": [
        "학습 곡선은 training set에 대한 과적합 효과와 training 크기가 정확성에 미치는 영향을 살펴보는 데에 좋은 방법이다."
      ]
    },
    {
      "cell_type": "code",
      "metadata": {
        "id": "a0090ZH6Iesz",
        "colab_type": "code",
        "outputId": "97cbf691-7151-4bce-a0c3-a8b55294af52",
        "colab": {
          "base_uri": "https://localhost:8080/",
          "height": 1000
        }
      },
      "source": [
        "def plot_learning_curve(estimator, title, X, y, ylim=None, cv=None, n_jobs=-1, train_sizes=np.linspace(.1, 1.0, 5)):\n",
        "  \"\"\"Generate a simple plot of the test and trainig learning curve\"\"\"\n",
        "  plt.figure()\n",
        "  plt.title(title)\n",
        "  if ylim is not None:\n",
        "    plt.ylim(*ylim)\n",
        "  plt.xlabel('Training examples')\n",
        "  plt.ylabel('Score')\n",
        "  train_sizes, train_scores, test_scores = learning_curve(estimator, X, y, cv=cv, n_jobs=n_jobs, train_sizes=train_sizes)\n",
        "  train_scores_mean = np.mean(train_scores, axis=1)\n",
        "  train_scores_std = np.std(train_scores, axis=1)\n",
        "  test_scores_mean = np.mean(test_scores, axis=1)\n",
        "  test_scores_std = np.std(test_scores, axis=1)\n",
        "  plt.grid()\n",
        "\n",
        "  plt.fill_between(train_sizes, train_scores_mean - train_scores_std,\n",
        "                   train_scores_mean + train_scores_std, alpha=0.1,\n",
        "                   color='r')\n",
        "  plt.fill_between(train_sizes, test_scores_mean - test_scores_std,\n",
        "                   test_scores_mean + test_scores_std, alpha=0.1,\n",
        "                   color='g')\n",
        "  plt.plot(train_sizes, train_scores_mean,'o-', color='r', label='Training score')\n",
        "  plt.plot(train_sizes, test_scores_mean, 'o-', color='g', label='Cross-validation score')\n",
        "\n",
        "  plt.legend(loc='best')\n",
        "  return plt\n",
        "\n",
        "g = plot_learning_curve(gsRFC.best_estimator_, 'RF learning curves', X_train, Y_train, cv=kfold)\n",
        "g = plot_learning_curve(gsExtC.best_estimator_, 'ExtraTrees learning curves', X_train, Y_train, cv= kfold)\n",
        "g = plot_learning_curve(gsSVMC.best_estimator_, 'SVC learning curves', X_train, Y_train, cv= kfold)\n",
        "g = plot_learning_curve(gsadaDTC.best_estimator_, 'AdaBoost learning curves', X_train, Y_train, cv= kfold)\n",
        "g = plot_learning_curve(gsGBC.best_estimator_, 'GradientBoosthing learning curves', X_train, Y_train, cv= kfold)"
      ],
      "execution_count": 83,
      "outputs": [
        {
          "output_type": "display_data",
          "data": {
            "image/png": "[encoded data removed]",
            "text/plain": [
              "<Figure size 432x288 with 1 Axes>"
            ]
          },
          "metadata": {
            "tags": []
          }
        },
        {
          "output_type": "display_data",
          "data": {
            "image/png": "[encoded data removed]",
            "text/plain": [
              "<Figure size 432x288 with 1 Axes>"
            ]
          },
          "metadata": {
            "tags": []
          }
        },
        {
          "output_type": "display_data",
          "data": {
            "image/png": "[encoded data removed]",
            "text/plain": [
              "<Figure size 432x288 with 1 Axes>"
            ]
          },
          "metadata": {
            "tags": []
          }
        },
        {
          "output_type": "display_data",
          "data": {
            "image/png": "[encoded data removed]",
            "text/plain": [
              "<Figure size 432x288 with 1 Axes>"
            ]
          },
          "metadata": {
            "tags": []
          }
        },
        {
          "output_type": "display_data",
          "data": {
            "image/png": "[encoded data removed]",
            "text/plain": [
              "<Figure size 432x288 with 1 Axes>"
            ]
          },
          "metadata": {
            "tags": []
          }
        }
      ]
    },
    {
      "cell_type": "markdown",
      "metadata": {
        "id": "y7_oQ7ptPW02",
        "colab_type": "text"
      },
      "source": [
        "GradientBoosting과 Adaboost classifier 는 트레이닝셋에 과적합되는 경향이 있다. 교차 검증 곡선이 커짐에 따라 GradientBoosting과 Adaboost는 더 많은 트레이닝 예제에서 잘 수행될 수 있다.\n",
        "\n",
        "SVC와 ExtraTrees classifier 는 트레이닝과 교차검증 커브가 서로 가까워짐에 따라 예측을 보다 일반화하는 것으로 보인다."
      ]
    },
    {
      "cell_type": "markdown",
      "metadata": {
        "id": "JsAapLniREVF",
        "colab_type": "text"
      },
      "source": [
        "**6.1.4 트리 기반 classifier의 feature 중요성**\n",
        "\n",
        "승객들의 생존율 예측에 가장 참고가 될 만한 feature를 보기 위해서, 4개의 트리 기반 calssifier들의 feature 중요성을 표시했다."
      ]
    },
    {
      "cell_type": "code",
      "metadata": {
        "id": "UDBUA2tqSr3x",
        "colab_type": "code",
        "colab": {
          "base_uri": "https://localhost:8080/",
          "height": 918
        },
        "outputId": "af36d685-2d7e-4acc-97bf-5c6a9e8b71bc"
      },
      "source": [
        "nrows = ncols = 2\n",
        "fig, axes = plt.subplots(nrows = nrows, ncols = ncols, sharex='all', figsize=(15,15))\n",
        "\n",
        "names_classifiers = [('AdaBoosting', ada_best), ('ExtraTrees',ExtC_best),('RandomForest',RFC_best),('GradientBoosting',GBC_best)]\n",
        "\n",
        "nclassifier = 0\n",
        "for row in range(nrows):\n",
        "  for col in range(ncols):\n",
        "    name = names_classifiers[nclassifier][0]\n",
        "    classifier = names_classifiers[nclassifier][1]\n",
        "    indices = np.argsort(classifier.feature_importances_)[::-1][:40]\n",
        "    g = sns.barplot(y=X_train.columns[indices][:40],x = classifier.feature_importances_[indices][:40],\n",
        "                    orient='h', ax=axes[row][col])\n",
        "    g.set_xlabel('Relative importance', fontsize=12)\n",
        "    g.set_ylabel('Features',fontsize=12)\n",
        "    g.tick_params(labelsize=9)\n",
        "    g.set_title(name + 'feature importance', fontsize=12)\n",
        "    nclassifier += 1"
      ],
      "execution_count": 84,
      "outputs": [
        {
          "output_type": "display_data",
          "data": {
            "image/png": "[encoded data removed]",
            "text/plain": [
              "<Figure size 1080x1080 with 4 Axes>"
            ]
          },
          "metadata": {
            "tags": []
          }
        }
      ]
    },
    {
      "cell_type": "markdown",
      "metadata": {
        "id": "k-zCetbLVHx5",
        "colab_type": "text"
      },
      "source": [
        "4개의 트리 기반 classifier들(Adaboost, ExtraTrees, RandomForest, GradientBoosting)의 feature 중요성을 나타내었다.\n",
        "\n",
        "4개의 classifier들은 연관 중요성에 따라 서로 다른 주요 feature들을 갖는다. 이는 그들의 예측이 동일한 feature들을 기반으로 하지 않음을 의미한다. 그럼에도 불구하고 분류에 공통적으로 중요한 기능(예 : 'Fare', 'Title_2', 'Age', 'Sex')이 있다.\n",
        "\n",
        "Title_2는 Mrs/Mlle/Mme/Miss/Ms 카테고리가 성별과 강한 관계가 있음을 나타낸다.\n",
        "\n",
        "우리는 이를 다음과 같이 말할 수 있다:\n",
        "*   Pc_1, Pc_2, Pc_3, Fare는 승객들의 일반적인 사회적 위치를 나타낸다.\n",
        "*   Sex와 Title_2(Mrs/Mlle/Mme/Miss/Ms), Title_3(Mr)는 성별을 나타낸다.\n",
        "* Age와 Title_1(Master)는 승객들의 나이를 나타낸다.\n",
        "* Fsize, LargeF, MedF, Single은 승객 가족의 규모를 나타낸다.\n",
        "\n",
        "**해당 4개 classifier들의 feature 중요성에 따라서, 생존률 예측은 보트의 위치보다 승객들의 나이, 성별, 가족의 규모, 사회적 위치와 관련있어 보인다.**\n",
        "\n"
      ]
    },
    {
      "cell_type": "code",
      "metadata": {
        "id": "N_7DJ-hWUYqA",
        "colab_type": "code",
        "colab": {
          "base_uri": "https://localhost:8080/",
          "height": 272
        },
        "outputId": "c1dc8455-6c6f-49e5-e527-b54ac7f632f7"
      },
      "source": [
        "test_Survived_RFC = pd.Series(RFC_best.predict(test), name='RFC')\n",
        "test_Survived_ExtC = pd.Series(ExtC_best.predict(test), name='ExtC')\n",
        "test_Survived_SVMC = pd.Series(SVMC_best.predict(test), name='SVC')\n",
        "test_Survived_AdaC = pd.Series(ada_best.predict(test),name='Ada')\n",
        "test_Survived_GBC = pd.Series(GBC_best.predict(test),name='GBC')\n",
        "\n",
        "# Concatenate all classifier results\n",
        "ensemble_results = pd.concat([test_Survived_RFC, test_Survived_ExtC, test_Survived_AdaC,test_Survived_GBC, test_Survived_SVMC],axis=1)\n",
        "\n",
        "g = sns.heatmap(ensemble_results.corr(),annot=True)"
      ],
      "execution_count": 87,
      "outputs": [
        {
          "output_type": "display_data",
          "data": {
            "image/png": "[encoded data removed]",
            "text/plain": [
              "<Figure size 432x288 with 2 Axes>"
            ]
          },
          "metadata": {
            "tags": []
          }
        }
      ]
    },
    {
      "cell_type": "markdown",
      "metadata": {
        "id": "1lSPjiTlfudi",
        "colab_type": "text"
      },
      "source": [
        "예측은 Adaboost가 다른 classifier들과 비교되었을 때를 제외하고 5개의 classifier들에서 꽤 유사하게 나타난다.\n",
        "\n",
        "5개의 classifier들은 거의 동일한 예측을 내지만 여기에 약간의 차이가 있다. 이러한 5개의 classifier 예측 간의 차이는 ensembling vote를 고려하기에 충분하다. "
      ]
    },
    {
      "cell_type": "markdown",
      "metadata": {
        "id": "5y8oyX1XlAbr",
        "colab_type": "text"
      },
      "source": [
        "####6.2 Ensemble modeling\n",
        "\n",
        "#####6.2.1 모델 결합\n",
        "\n",
        "voting classifier를 선택하여 5가지 classifier에서 나온 예측을 결합했다.\n",
        "\n",
        "각 vote의 확률을 고려하기 위해 'soft'인자를 voting 파라미터에 전달하는 것을 선호했다.\n"
      ]
    },
    {
      "cell_type": "code",
      "metadata": {
        "id": "rPWMkYBXfDjG",
        "colab_type": "code",
        "colab": {}
      },
      "source": [
        "votingC = VotingClassifier(estimators=[('rfc', RFC_best), ('extc', ExtC_best), ('svc', SVMC_best), ('adac',ada_best), ('gbc',GBC_best)], voting = 'soft', n_jobs=4)\n",
        "votingC = votingC.fit(X_train, Y_train)"
      ],
      "execution_count": 0,
      "outputs": []
    },
    {
      "cell_type": "markdown",
      "metadata": {
        "id": "Lwkgizk6mlr2",
        "colab_type": "text"
      },
      "source": [
        "####6.3 Prediction\n",
        "\n",
        "#####6.3.1 결과 예측 및 제출"
      ]
    },
    {
      "cell_type": "code",
      "metadata": {
        "id": "lboq1tjpmaul",
        "colab_type": "code",
        "colab": {}
      },
      "source": [
        "test_Survived = pd.Series(votingC.predict(test),name='Survived')\n",
        "results = pd.concat([IDtest, test_Survived], axis=1)\n",
        "results.to_csv('ensemble_python_voting.csv', index = False)"
      ],
      "execution_count": 0,
      "outputs": []
    }
  ]
}