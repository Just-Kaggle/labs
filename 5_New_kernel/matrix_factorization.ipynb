{
 "cells": [
  {
   "cell_type": "markdown",
   "metadata": {},
   "source": [
    "# matrix factorization , SVD(특이값분해), 추천 프로세스 구현 예시\n",
    "![png](https://greeksharifa.github.io/public/img/Machine_Learning/2019-12-17-Recommendation%20System/01.JPG)"
   ]
  },
  {
   "cell_type": "code",
   "execution_count": 3,
   "metadata": {},
   "outputs": [],
   "source": [
    "# numpy and pandas for data manipulation\n",
    "import numpy as np\n",
    "import pandas as pd \n",
    "\n",
    "# sklearn preprocessing for dealing with categorical variables\n",
    "from sklearn.decomposition import TruncatedSVD\n",
    "\n",
    "# File system manangement\n",
    "import os\n",
    "\n",
    "import matplotlib.pyplot as plt\n",
    "import seaborn as sns"
   ]
  },
  {
   "cell_type": "code",
   "execution_count": 4,
   "metadata": {},
   "outputs": [
    {
     "output_type": "stream",
     "name": "stdout",
     "text": "['links.csv', 'movielens-small.zip', 'movies.csv', 'ratings.csv', 'README.txt', 'tags.csv']\n"
    }
   ],
   "source": [
    "# List files available\n",
    "print(os.listdir(\"../movie/\"))"
   ]
  },
  {
   "cell_type": "code",
   "execution_count": 5,
   "metadata": {},
   "outputs": [],
   "source": [
    "rating_data = pd.read_csv('../movie/ratings.csv')\n",
    "movie_data = pd.read_csv('../movie/movies.csv')"
   ]
  },
  {
   "cell_type": "code",
   "execution_count": 6,
   "metadata": {},
   "outputs": [
    {
     "output_type": "execute_result",
     "data": {
      "text/plain": "   userId  movieId  rating   timestamp\n0       1       31     2.5  1260759144\n1       1     1029     3.0  1260759179\n2       1     1061     3.0  1260759182",
      "text/html": "<div>\n<style scoped>\n    .dataframe tbody tr th:only-of-type {\n        vertical-align: middle;\n    }\n\n    .dataframe tbody tr th {\n        vertical-align: top;\n    }\n\n    .dataframe thead th {\n        text-align: right;\n    }\n</style>\n<table border=\"1\" class=\"dataframe\">\n  <thead>\n    <tr style=\"text-align: right;\">\n      <th></th>\n      <th>userId</th>\n      <th>movieId</th>\n      <th>rating</th>\n      <th>timestamp</th>\n    </tr>\n  </thead>\n  <tbody>\n    <tr>\n      <th>0</th>\n      <td>1</td>\n      <td>31</td>\n      <td>2.5</td>\n      <td>1260759144</td>\n    </tr>\n    <tr>\n      <th>1</th>\n      <td>1</td>\n      <td>1029</td>\n      <td>3.0</td>\n      <td>1260759179</td>\n    </tr>\n    <tr>\n      <th>2</th>\n      <td>1</td>\n      <td>1061</td>\n      <td>3.0</td>\n      <td>1260759182</td>\n    </tr>\n  </tbody>\n</table>\n</div>"
     },
     "metadata": {},
     "execution_count": 6
    }
   ],
   "source": [
    "rating_data.head(3)"
   ]
  },
  {
   "cell_type": "code",
   "execution_count": 7,
   "metadata": {},
   "outputs": [
    {
     "output_type": "execute_result",
     "data": {
      "text/plain": "(100004, 4)"
     },
     "metadata": {},
     "execution_count": 7
    }
   ],
   "source": [
    "rating_data.shape"
   ]
  },
  {
   "cell_type": "code",
   "execution_count": 8,
   "metadata": {},
   "outputs": [
    {
     "output_type": "execute_result",
     "data": {
      "text/plain": "   movieId                    title  \\\n0        1         Toy Story (1995)   \n1        2           Jumanji (1995)   \n2        3  Grumpier Old Men (1995)   \n\n                                        genres  \n0  Adventure|Animation|Children|Comedy|Fantasy  \n1                   Adventure|Children|Fantasy  \n2                               Comedy|Romance  ",
      "text/html": "<div>\n<style scoped>\n    .dataframe tbody tr th:only-of-type {\n        vertical-align: middle;\n    }\n\n    .dataframe tbody tr th {\n        vertical-align: top;\n    }\n\n    .dataframe thead th {\n        text-align: right;\n    }\n</style>\n<table border=\"1\" class=\"dataframe\">\n  <thead>\n    <tr style=\"text-align: right;\">\n      <th></th>\n      <th>movieId</th>\n      <th>title</th>\n      <th>genres</th>\n    </tr>\n  </thead>\n  <tbody>\n    <tr>\n      <th>0</th>\n      <td>1</td>\n      <td>Toy Story (1995)</td>\n      <td>Adventure|Animation|Children|Comedy|Fantasy</td>\n    </tr>\n    <tr>\n      <th>1</th>\n      <td>2</td>\n      <td>Jumanji (1995)</td>\n      <td>Adventure|Children|Fantasy</td>\n    </tr>\n    <tr>\n      <th>2</th>\n      <td>3</td>\n      <td>Grumpier Old Men (1995)</td>\n      <td>Comedy|Romance</td>\n    </tr>\n  </tbody>\n</table>\n</div>"
     },
     "metadata": {},
     "execution_count": 8
    }
   ],
   "source": [
    "movie_data.head(3)"
   ]
  },
  {
   "cell_type": "code",
   "execution_count": 9,
   "metadata": {},
   "outputs": [
    {
     "output_type": "execute_result",
     "data": {
      "text/plain": "(9125, 3)"
     },
     "metadata": {},
     "execution_count": 9
    }
   ],
   "source": [
    "movie_data.shape"
   ]
  },
  {
   "cell_type": "code",
   "execution_count": 10,
   "metadata": {},
   "outputs": [
    {
     "output_type": "execute_result",
     "data": {
      "text/plain": "   userId  movieId  rating\n0       1       31     2.5\n1       1     1029     3.0\n2       1     1061     3.0",
      "text/html": "<div>\n<style scoped>\n    .dataframe tbody tr th:only-of-type {\n        vertical-align: middle;\n    }\n\n    .dataframe tbody tr th {\n        vertical-align: top;\n    }\n\n    .dataframe thead th {\n        text-align: right;\n    }\n</style>\n<table border=\"1\" class=\"dataframe\">\n  <thead>\n    <tr style=\"text-align: right;\">\n      <th></th>\n      <th>userId</th>\n      <th>movieId</th>\n      <th>rating</th>\n    </tr>\n  </thead>\n  <tbody>\n    <tr>\n      <th>0</th>\n      <td>1</td>\n      <td>31</td>\n      <td>2.5</td>\n    </tr>\n    <tr>\n      <th>1</th>\n      <td>1</td>\n      <td>1029</td>\n      <td>3.0</td>\n    </tr>\n    <tr>\n      <th>2</th>\n      <td>1</td>\n      <td>1061</td>\n      <td>3.0</td>\n    </tr>\n  </tbody>\n</table>\n</div>"
     },
     "metadata": {},
     "execution_count": 10
    }
   ],
   "source": [
    "rating_data.drop('timestamp',axis=1,inplace=True)\n",
    "rating_data.head(3)"
   ]
  },
  {
   "cell_type": "code",
   "execution_count": 11,
   "metadata": {},
   "outputs": [
    {
     "output_type": "execute_result",
     "data": {
      "text/plain": "   movieId                    title\n0        1         Toy Story (1995)\n1        2           Jumanji (1995)\n2        3  Grumpier Old Men (1995)",
      "text/html": "<div>\n<style scoped>\n    .dataframe tbody tr th:only-of-type {\n        vertical-align: middle;\n    }\n\n    .dataframe tbody tr th {\n        vertical-align: top;\n    }\n\n    .dataframe thead th {\n        text-align: right;\n    }\n</style>\n<table border=\"1\" class=\"dataframe\">\n  <thead>\n    <tr style=\"text-align: right;\">\n      <th></th>\n      <th>movieId</th>\n      <th>title</th>\n    </tr>\n  </thead>\n  <tbody>\n    <tr>\n      <th>0</th>\n      <td>1</td>\n      <td>Toy Story (1995)</td>\n    </tr>\n    <tr>\n      <th>1</th>\n      <td>2</td>\n      <td>Jumanji (1995)</td>\n    </tr>\n    <tr>\n      <th>2</th>\n      <td>3</td>\n      <td>Grumpier Old Men (1995)</td>\n    </tr>\n  </tbody>\n</table>\n</div>"
     },
     "metadata": {},
     "execution_count": 11
    }
   ],
   "source": [
    "movie_data.drop('genres',axis=1,inplace=True)\n",
    "movie_data.head(3)"
   ]
  },
  {
   "cell_type": "code",
   "execution_count": 12,
   "metadata": {},
   "outputs": [
    {
     "output_type": "execute_result",
     "data": {
      "text/plain": "   userId  movieId  rating                   title\n0       1       31     2.5  Dangerous Minds (1995)\n1       7       31     3.0  Dangerous Minds (1995)\n2      31       31     4.0  Dangerous Minds (1995)",
      "text/html": "<div>\n<style scoped>\n    .dataframe tbody tr th:only-of-type {\n        vertical-align: middle;\n    }\n\n    .dataframe tbody tr th {\n        vertical-align: top;\n    }\n\n    .dataframe thead th {\n        text-align: right;\n    }\n</style>\n<table border=\"1\" class=\"dataframe\">\n  <thead>\n    <tr style=\"text-align: right;\">\n      <th></th>\n      <th>userId</th>\n      <th>movieId</th>\n      <th>rating</th>\n      <th>title</th>\n    </tr>\n  </thead>\n  <tbody>\n    <tr>\n      <th>0</th>\n      <td>1</td>\n      <td>31</td>\n      <td>2.5</td>\n      <td>Dangerous Minds (1995)</td>\n    </tr>\n    <tr>\n      <th>1</th>\n      <td>7</td>\n      <td>31</td>\n      <td>3.0</td>\n      <td>Dangerous Minds (1995)</td>\n    </tr>\n    <tr>\n      <th>2</th>\n      <td>31</td>\n      <td>31</td>\n      <td>4.0</td>\n      <td>Dangerous Minds (1995)</td>\n    </tr>\n  </tbody>\n</table>\n</div>"
     },
     "metadata": {},
     "execution_count": 12
    }
   ],
   "source": [
    "user_movie_data=pd.merge(rating_data,movie_data,on='movieId')\n",
    "user_movie_data.head(3)"
   ]
  },
  {
   "cell_type": "code",
   "execution_count": 13,
   "metadata": {},
   "outputs": [
    {
     "output_type": "execute_result",
     "data": {
      "text/plain": "(100004, 4)"
     },
     "metadata": {},
     "execution_count": 13
    }
   ],
   "source": [
    "user_movie_data.shape"
   ]
  },
  {
   "cell_type": "code",
   "execution_count": 14,
   "metadata": {},
   "outputs": [],
   "source": [
    "user_movie_rating = user_movie_data.pivot_table('rating',index='userId',columns='title').fillna(0)"
   ]
  },
  {
   "cell_type": "code",
   "execution_count": 15,
   "metadata": {},
   "outputs": [
    {
     "output_type": "execute_result",
     "data": {
      "text/plain": "(671, 9064)"
     },
     "metadata": {},
     "execution_count": 15
    }
   ],
   "source": [
    "user_movie_rating.shape"
   ]
  },
  {
   "cell_type": "code",
   "execution_count": 16,
   "metadata": {},
   "outputs": [
    {
     "output_type": "execute_result",
     "data": {
      "text/plain": "title   \"Great Performances\" Cats (1998)  $9.99 (2008)  \\\nuserId                                                   \n1                                    0.0           0.0   \n2                                    0.0           0.0   \n3                                    0.0           0.0   \n4                                    0.0           0.0   \n5                                    0.0           0.0   \n\ntitle   'Hellboy': The Seeds of Creation (2004)  \\\nuserId                                            \n1                                           0.0   \n2                                           0.0   \n3                                           0.0   \n4                                           0.0   \n5                                           0.0   \n\ntitle   'Neath the Arizona Skies (1934)  'Round Midnight (1986)  \\\nuserId                                                            \n1                                   0.0                     0.0   \n2                                   0.0                     0.0   \n3                                   0.0                     0.0   \n4                                   0.0                     0.0   \n5                                   0.0                     0.0   \n\ntitle   'Salem's Lot (2004)  'Til There Was You (1997)  'burbs, The (1989)  \\\nuserId                                                                       \n1                       0.0                        0.0                 0.0   \n2                       0.0                        0.0                 0.0   \n3                       0.0                        0.0                 0.0   \n4                       0.0                        0.0                 0.0   \n5                       0.0                        0.0                 0.0   \n\ntitle   'night Mother (1986)  (500) Days of Summer (2009)  ...  Zulu (1964)  \\\nuserId                                                     ...                \n1                        0.0                          0.0  ...          0.0   \n2                        0.0                          0.0  ...          0.0   \n3                        0.0                          0.0  ...          0.0   \n4                        0.0                          0.0  ...          0.0   \n5                        0.0                          0.0  ...          0.0   \n\ntitle   Zulu (2013)  [REC] (2007)  eXistenZ (1999)  \\\nuserId                                               \n1               0.0           0.0              0.0   \n2               0.0           0.0              0.0   \n3               0.0           0.0              0.0   \n4               0.0           0.0              0.0   \n5               0.0           0.0              0.0   \n\ntitle   loudQUIETloud: A Film About the Pixies (2006)  xXx (2002)  \\\nuserId                                                              \n1                                                 0.0         0.0   \n2                                                 0.0         0.0   \n3                                                 0.0         0.0   \n4                                                 0.0         0.0   \n5                                                 0.0         0.0   \n\ntitle   xXx: State of the Union (2005)  ¡Three Amigos! (1986)  \\\nuserId                                                          \n1                                  0.0                    0.0   \n2                                  0.0                    0.0   \n3                                  0.0                    0.0   \n4                                  0.0                    0.0   \n5                                  0.0                    0.0   \n\ntitle   À nous la liberté (Freedom for Us) (1931)  İtirazım Var (2014)  \nuserId                                                                  \n1                                             0.0                  0.0  \n2                                             0.0                  0.0  \n3                                             0.0                  0.0  \n4                                             0.0                  0.0  \n5                                             0.0                  0.0  \n\n[5 rows x 9064 columns]",
      "text/html": "<div>\n<style scoped>\n    .dataframe tbody tr th:only-of-type {\n        vertical-align: middle;\n    }\n\n    .dataframe tbody tr th {\n        vertical-align: top;\n    }\n\n    .dataframe thead th {\n        text-align: right;\n    }\n</style>\n<table border=\"1\" class=\"dataframe\">\n  <thead>\n    <tr style=\"text-align: right;\">\n      <th>title</th>\n      <th>\"Great Performances\" Cats (1998)</th>\n      <th>$9.99 (2008)</th>\n      <th>'Hellboy': The Seeds of Creation (2004)</th>\n      <th>'Neath the Arizona Skies (1934)</th>\n      <th>'Round Midnight (1986)</th>\n      <th>'Salem's Lot (2004)</th>\n      <th>'Til There Was You (1997)</th>\n      <th>'burbs, The (1989)</th>\n      <th>'night Mother (1986)</th>\n      <th>(500) Days of Summer (2009)</th>\n      <th>...</th>\n      <th>Zulu (1964)</th>\n      <th>Zulu (2013)</th>\n      <th>[REC] (2007)</th>\n      <th>eXistenZ (1999)</th>\n      <th>loudQUIETloud: A Film About the Pixies (2006)</th>\n      <th>xXx (2002)</th>\n      <th>xXx: State of the Union (2005)</th>\n      <th>¡Three Amigos! (1986)</th>\n      <th>À nous la liberté (Freedom for Us) (1931)</th>\n      <th>İtirazım Var (2014)</th>\n    </tr>\n    <tr>\n      <th>userId</th>\n      <th></th>\n      <th></th>\n      <th></th>\n      <th></th>\n      <th></th>\n      <th></th>\n      <th></th>\n      <th></th>\n      <th></th>\n      <th></th>\n      <th></th>\n      <th></th>\n      <th></th>\n      <th></th>\n      <th></th>\n      <th></th>\n      <th></th>\n      <th></th>\n      <th></th>\n      <th></th>\n      <th></th>\n    </tr>\n  </thead>\n  <tbody>\n    <tr>\n      <th>1</th>\n      <td>0.0</td>\n      <td>0.0</td>\n      <td>0.0</td>\n      <td>0.0</td>\n      <td>0.0</td>\n      <td>0.0</td>\n      <td>0.0</td>\n      <td>0.0</td>\n      <td>0.0</td>\n      <td>0.0</td>\n      <td>...</td>\n      <td>0.0</td>\n      <td>0.0</td>\n      <td>0.0</td>\n      <td>0.0</td>\n      <td>0.0</td>\n      <td>0.0</td>\n      <td>0.0</td>\n      <td>0.0</td>\n      <td>0.0</td>\n      <td>0.0</td>\n    </tr>\n    <tr>\n      <th>2</th>\n      <td>0.0</td>\n      <td>0.0</td>\n      <td>0.0</td>\n      <td>0.0</td>\n      <td>0.0</td>\n      <td>0.0</td>\n      <td>0.0</td>\n      <td>0.0</td>\n      <td>0.0</td>\n      <td>0.0</td>\n      <td>...</td>\n      <td>0.0</td>\n      <td>0.0</td>\n      <td>0.0</td>\n      <td>0.0</td>\n      <td>0.0</td>\n      <td>0.0</td>\n      <td>0.0</td>\n      <td>0.0</td>\n      <td>0.0</td>\n      <td>0.0</td>\n    </tr>\n    <tr>\n      <th>3</th>\n      <td>0.0</td>\n      <td>0.0</td>\n      <td>0.0</td>\n      <td>0.0</td>\n      <td>0.0</td>\n      <td>0.0</td>\n      <td>0.0</td>\n      <td>0.0</td>\n      <td>0.0</td>\n      <td>0.0</td>\n      <td>...</td>\n      <td>0.0</td>\n      <td>0.0</td>\n      <td>0.0</td>\n      <td>0.0</td>\n      <td>0.0</td>\n      <td>0.0</td>\n      <td>0.0</td>\n      <td>0.0</td>\n      <td>0.0</td>\n      <td>0.0</td>\n    </tr>\n    <tr>\n      <th>4</th>\n      <td>0.0</td>\n      <td>0.0</td>\n      <td>0.0</td>\n      <td>0.0</td>\n      <td>0.0</td>\n      <td>0.0</td>\n      <td>0.0</td>\n      <td>0.0</td>\n      <td>0.0</td>\n      <td>0.0</td>\n      <td>...</td>\n      <td>0.0</td>\n      <td>0.0</td>\n      <td>0.0</td>\n      <td>0.0</td>\n      <td>0.0</td>\n      <td>0.0</td>\n      <td>0.0</td>\n      <td>0.0</td>\n      <td>0.0</td>\n      <td>0.0</td>\n    </tr>\n    <tr>\n      <th>5</th>\n      <td>0.0</td>\n      <td>0.0</td>\n      <td>0.0</td>\n      <td>0.0</td>\n      <td>0.0</td>\n      <td>0.0</td>\n      <td>0.0</td>\n      <td>0.0</td>\n      <td>0.0</td>\n      <td>0.0</td>\n      <td>...</td>\n      <td>0.0</td>\n      <td>0.0</td>\n      <td>0.0</td>\n      <td>0.0</td>\n      <td>0.0</td>\n      <td>0.0</td>\n      <td>0.0</td>\n      <td>0.0</td>\n      <td>0.0</td>\n      <td>0.0</td>\n    </tr>\n  </tbody>\n</table>\n<p>5 rows × 9064 columns</p>\n</div>"
     },
     "metadata": {},
     "execution_count": 16
    }
   ],
   "source": [
    "user_movie_rating.head(5)"
   ]
  },
  {
   "cell_type": "code",
   "execution_count": 17,
   "metadata": {},
   "outputs": [
    {
     "output_type": "execute_result",
     "data": {
      "text/plain": "(9064, 671)"
     },
     "metadata": {},
     "execution_count": 17
    }
   ],
   "source": [
    "movie_user_rating = user_movie_rating.values.T\n",
    "movie_user_rating.shape"
   ]
  },
  {
   "cell_type": "markdown",
   "metadata": {},
   "source": [
    "![png](https://miro.medium.com/max/1400/1*5js-e2mRMKYim8UuAhIL2Q.png)"
   ]
  },
  {
   "cell_type": "code",
   "execution_count": 18,
   "metadata": {},
   "outputs": [
    {
     "output_type": "execute_result",
     "data": {
      "text/plain": "(9064, 12)"
     },
     "metadata": {},
     "execution_count": 18
    }
   ],
   "source": [
    "svd = TruncatedSVD(n_components=12)\n",
    "mtx = svd.fit_transform(movie_user_rating)\n",
    "mtx.shape"
   ]
  },
  {
   "cell_type": "code",
   "execution_count": 26,
   "metadata": {},
   "outputs": [
    {
     "output_type": "execute_result",
     "data": {
      "text/plain": "array([ 0.01227491,  0.00250789,  0.01554473, -0.03395583, -0.01453471,\n        0.00365395, -0.00252761,  0.04546766, -0.01345918, -0.02180384,\n        0.0099923 , -0.00730262])"
     },
     "metadata": {},
     "execution_count": 26
    }
   ],
   "source": [
    "mtx[0]"
   ]
  },
  {
   "cell_type": "code",
   "execution_count": 20,
   "metadata": {},
   "outputs": [
    {
     "output_type": "execute_result",
     "data": {
      "text/plain": "(9064, 9064)"
     },
     "metadata": {},
     "execution_count": 20
    }
   ],
   "source": [
    "corr = np.corrcoef(mtx)\n",
    "corr.shape"
   ]
  },
  {
   "cell_type": "code",
   "execution_count": 21,
   "metadata": {},
   "outputs": [],
   "source": [
    "#sns.heatmap(corr)"
   ]
  },
  {
   "cell_type": "code",
   "execution_count": 22,
   "metadata": {
    "tags": [
     "outputPrepend"
    ]
   },
   "outputs": [],
   "source": [
    "movie_title = user_movie_rating.columns\n",
    "movie_title_list = list(movie_title)\n",
    "# print(movie_title_list)\n",
    "select_hands = movie_title_list.index(\"U-571 (2000)\")"
   ]
  },
  {
   "cell_type": "code",
   "execution_count": 23,
   "metadata": {},
   "outputs": [
    {
     "output_type": "execute_result",
     "data": {
      "text/plain": "['Air Force One (1997)',\n 'Analyze That (2002)',\n 'Cast Away (2000)',\n 'Finding Forrester (2000)',\n 'Hannibal (2001)',\n 'Jerry Maguire (1996)',\n 'Karate Kid, The (1984)',\n 'Longest Yard, The (1974)',\n 'Mexican, The (2001)',\n 'Notting Hill (1999)',\n 'Payback (1999)',\n 'Road to Perdition (2002)',\n 'Robin Hood: Prince of Thieves (1991)',\n 'Rounders (1998)',\n 'Seabiscuit (2003)',\n 'Speed 2: Cruise Control (1997)',\n 'Sum of All Fears, The (2002)',\n 'Titanic (1997)',\n 'U-571 (2000)',\n 'We Were Soldiers (2002)']"
     },
     "metadata": {},
     "execution_count": 23
    }
   ],
   "source": [
    "corr_select_hands = corr[select_hands]\n",
    "list(movie_title[corr_select_hands>0.9])[:50]"
   ]
  }
 ],
 "metadata": {
  "language_info": {
   "codemirror_mode": {
    "name": "ipython",
    "version": 3
   },
   "file_extension": ".py",
   "mimetype": "text/x-python",
   "name": "python",
   "nbconvert_exporter": "python",
   "pygments_lexer": "ipython3",
   "version": "3.6.7-final"
  },
  "orig_nbformat": 2,
  "kernelspec": {
   "name": "python36764bit42fde6b5f88a4dad9384f206dd75f0e5",
   "display_name": "Python 3.6.7 64-bit"
  }
 },
 "nbformat": 4,
 "nbformat_minor": 2
}